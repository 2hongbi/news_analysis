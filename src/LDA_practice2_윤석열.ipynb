{
  "nbformat": 4,
  "nbformat_minor": 0,
  "metadata": {
    "colab": {
      "name": "LDA_practice2_윤석열.ipynb",
      "provenance": [],
      "collapsed_sections": [
        "cC5GwAKwo3CZ"
      ]
    },
    "kernelspec": {
      "name": "python3",
      "display_name": "Python 3"
    },
    "language_info": {
      "name": "python"
    }
  },
  "cells": [
    {
      "cell_type": "code",
      "metadata": {
        "colab": {
          "base_uri": "https://localhost:8080/"
        },
        "id": "31lMlebGMh7p",
        "outputId": "dba7746e-ce51-4bc4-e270-d425bc0ac503"
      },
      "source": [
        "from google.colab import drive\n",
        "drive.mount('/content/drive')"
      ],
      "execution_count": 1,
      "outputs": [
        {
          "output_type": "stream",
          "name": "stdout",
          "text": [
            "Mounted at /content/drive\n"
          ]
        }
      ]
    },
    {
      "cell_type": "code",
      "metadata": {
        "id": "zwzT-j9sNI7k"
      },
      "source": [
        "import pandas as pd\n",
        "import numpy as np"
      ],
      "execution_count": 2,
      "outputs": []
    },
    {
      "cell_type": "code",
      "metadata": {
        "colab": {
          "base_uri": "https://localhost:8080/",
          "height": 206
        },
        "id": "UUI53c6YNJES",
        "outputId": "ec8a401f-2be3-4343-b665-c9a0224ca43d"
      },
      "source": [
        "data=pd.read_csv(\"/content/drive/MyDrive/outlier/윤석열.csv\")\n",
        "data.head()\n"
      ],
      "execution_count": 4,
      "outputs": [
        {
          "output_type": "execute_result",
          "data": {
            "text/html": [
              "<div>\n",
              "<style scoped>\n",
              "    .dataframe tbody tr th:only-of-type {\n",
              "        vertical-align: middle;\n",
              "    }\n",
              "\n",
              "    .dataframe tbody tr th {\n",
              "        vertical-align: top;\n",
              "    }\n",
              "\n",
              "    .dataframe thead th {\n",
              "        text-align: right;\n",
              "    }\n",
              "</style>\n",
              "<table border=\"1\" class=\"dataframe\">\n",
              "  <thead>\n",
              "    <tr style=\"text-align: right;\">\n",
              "      <th></th>\n",
              "      <th>tweet</th>\n",
              "      <th>date</th>\n",
              "      <th>retweets_count</th>\n",
              "      <th>link</th>\n",
              "    </tr>\n",
              "  </thead>\n",
              "  <tbody>\n",
              "    <tr>\n",
              "      <th>0</th>\n",
              "      <td>윤석열 나경원 김태호 인성 덜 된 자들의 헤쳐모여는 파국으로 치닫을 것 상식과 공정...</td>\n",
              "      <td>2021-11-22</td>\n",
              "      <td>0</td>\n",
              "      <td>https://twitter.com/Mesmerizingway/status/1462...</td>\n",
              "    </tr>\n",
              "    <tr>\n",
              "      <th>1</th>\n",
              "      <td>티비조선윤석열티비조선윤석열티비조선윤석열티비조선윤석열티비조선윤석열티비조선윤석열티비조선...</td>\n",
              "      <td>2021-11-22</td>\n",
              "      <td>0</td>\n",
              "      <td>https://twitter.com/songsun21/status/146277414...</td>\n",
              "    </tr>\n",
              "    <tr>\n",
              "      <th>2</th>\n",
              "      <td>그걸 윤석열 지지로 읽으니까 무식하다는 소리를 하지 그리고 니네들 한심한 거 맞잖아</td>\n",
              "      <td>2021-11-22</td>\n",
              "      <td>0</td>\n",
              "      <td>https://twitter.com/coervos/status/14627741373...</td>\n",
              "    </tr>\n",
              "    <tr>\n",
              "      <th>3</th>\n",
              "      <td>민주당은 국힘당 대변인 김병민을 허위사실 유포로 즉각 고발해야 가짜 영수증으로 윤석...</td>\n",
              "      <td>2021-11-22</td>\n",
              "      <td>0</td>\n",
              "      <td>https://twitter.com/dalsoo7/status/14627741300...</td>\n",
              "    </tr>\n",
              "    <tr>\n",
              "      <th>4</th>\n",
              "      <td>날씨 차진다 이럴 때는 따끈한 오뎅에 떡볶이가 최고죠 건 그거고 티비조선에서 윤석열...</td>\n",
              "      <td>2021-11-22</td>\n",
              "      <td>0</td>\n",
              "      <td>https://twitter.com/RGbVaZ8bF5oodRN/status/146...</td>\n",
              "    </tr>\n",
              "  </tbody>\n",
              "</table>\n",
              "</div>"
            ],
            "text/plain": [
              "                                               tweet  ...                                               link\n",
              "0  윤석열 나경원 김태호 인성 덜 된 자들의 헤쳐모여는 파국으로 치닫을 것 상식과 공정...  ...  https://twitter.com/Mesmerizingway/status/1462...\n",
              "1  티비조선윤석열티비조선윤석열티비조선윤석열티비조선윤석열티비조선윤석열티비조선윤석열티비조선...  ...  https://twitter.com/songsun21/status/146277414...\n",
              "2    그걸 윤석열 지지로 읽으니까 무식하다는 소리를 하지 그리고 니네들 한심한 거 맞잖아   ...  https://twitter.com/coervos/status/14627741373...\n",
              "3  민주당은 국힘당 대변인 김병민을 허위사실 유포로 즉각 고발해야 가짜 영수증으로 윤석...  ...  https://twitter.com/dalsoo7/status/14627741300...\n",
              "4  날씨 차진다 이럴 때는 따끈한 오뎅에 떡볶이가 최고죠 건 그거고 티비조선에서 윤석열...  ...  https://twitter.com/RGbVaZ8bF5oodRN/status/146...\n",
              "\n",
              "[5 rows x 4 columns]"
            ]
          },
          "metadata": {},
          "execution_count": 4
        }
      ]
    },
    {
      "cell_type": "code",
      "metadata": {
        "colab": {
          "base_uri": "https://localhost:8080/"
        },
        "id": "ariILWYSROAS",
        "outputId": "9be5dca3-857e-4a89-eef4-7750bb421b1b"
      },
      "source": [
        "range(len(data[\"tweet\"]))#27943데이터"
      ],
      "execution_count": 30,
      "outputs": [
        {
          "output_type": "execute_result",
          "data": {
            "text/plain": [
              "range(0, 27943)"
            ]
          },
          "metadata": {},
          "execution_count": 30
        }
      ]
    },
    {
      "cell_type": "markdown",
      "metadata": {
        "id": "xGT7SVb6Z-FV"
      },
      "source": [
        "# 정수 인코딩과 단어 집합 만들기"
      ]
    },
    {
      "cell_type": "code",
      "metadata": {
        "id": "JuBJuni0mBgD",
        "colab": {
          "base_uri": "https://localhost:8080/"
        },
        "outputId": "d09d9845-e6b9-4c3b-e82b-65b98e5e5911"
      },
      "source": [
        "!pip install konlpy\n",
        "from konlpy.tag import Kkma  \n",
        "kkma = Kkma()\n",
        "tokenized_doc=[]\n",
        "for n in range(len(data[\"tweet\"])):\n",
        "    text = data[\"tweet\"][n]\n",
        "    tokenized_doc.append(list(kkma.nouns(str(text))))\n",
        "print(tokenized_doc)"
      ],
      "execution_count": 31,
      "outputs": [
        {
          "output_type": "stream",
          "name": "stdout",
          "text": [
            "Requirement already satisfied: konlpy in /usr/local/lib/python3.7/dist-packages (0.5.2)\n",
            "Requirement already satisfied: lxml>=4.1.0 in /usr/local/lib/python3.7/dist-packages (from konlpy) (4.2.6)\n",
            "Requirement already satisfied: colorama in /usr/local/lib/python3.7/dist-packages (from konlpy) (0.4.4)\n",
            "Requirement already satisfied: beautifulsoup4==4.6.0 in /usr/local/lib/python3.7/dist-packages (from konlpy) (4.6.0)\n",
            "Requirement already satisfied: numpy>=1.6 in /usr/local/lib/python3.7/dist-packages (from konlpy) (1.21.4)\n",
            "Requirement already satisfied: tweepy>=3.7.0 in /usr/local/lib/python3.7/dist-packages (from konlpy) (3.10.0)\n",
            "Requirement already satisfied: JPype1>=0.7.0 in /usr/local/lib/python3.7/dist-packages (from konlpy) (1.3.0)\n",
            "Requirement already satisfied: typing-extensions in /usr/local/lib/python3.7/dist-packages (from JPype1>=0.7.0->konlpy) (3.10.0.2)\n",
            "Requirement already satisfied: requests[socks]>=2.11.1 in /usr/local/lib/python3.7/dist-packages (from tweepy>=3.7.0->konlpy) (2.23.0)\n",
            "Requirement already satisfied: six>=1.10.0 in /usr/local/lib/python3.7/dist-packages (from tweepy>=3.7.0->konlpy) (1.15.0)\n",
            "Requirement already satisfied: requests-oauthlib>=0.7.0 in /usr/local/lib/python3.7/dist-packages (from tweepy>=3.7.0->konlpy) (1.3.0)\n",
            "Requirement already satisfied: oauthlib>=3.0.0 in /usr/local/lib/python3.7/dist-packages (from requests-oauthlib>=0.7.0->tweepy>=3.7.0->konlpy) (3.1.1)\n",
            "Requirement already satisfied: chardet<4,>=3.0.2 in /usr/local/lib/python3.7/dist-packages (from requests[socks]>=2.11.1->tweepy>=3.7.0->konlpy) (3.0.4)\n",
            "Requirement already satisfied: certifi>=2017.4.17 in /usr/local/lib/python3.7/dist-packages (from requests[socks]>=2.11.1->tweepy>=3.7.0->konlpy) (2021.10.8)\n",
            "Requirement already satisfied: urllib3!=1.25.0,!=1.25.1,<1.26,>=1.21.1 in /usr/local/lib/python3.7/dist-packages (from requests[socks]>=2.11.1->tweepy>=3.7.0->konlpy) (1.24.3)\n",
            "Requirement already satisfied: idna<3,>=2.5 in /usr/local/lib/python3.7/dist-packages (from requests[socks]>=2.11.1->tweepy>=3.7.0->konlpy) (2.10)\n",
            "Requirement already satisfied: PySocks!=1.5.7,>=1.5.6 in /usr/local/lib/python3.7/dist-packages (from requests[socks]>=2.11.1->tweepy>=3.7.0->konlpy) (1.7.1)\n"
          ]
        },
        {
          "output_type": "stream",
          "name": "stderr",
          "text": [
            "IOPub data rate exceeded.\n",
            "The notebook server will temporarily stop sending output\n",
            "to the client in order to avoid crashing it.\n",
            "To change this limit, set the config variable\n",
            "`--NotebookApp.iopub_data_rate_limit`.\n",
            "\n",
            "Current values:\n",
            "NotebookApp.iopub_data_rate_limit=1000000.0 (bytes/sec)\n",
            "NotebookApp.rate_limit_window=3.0 (secs)\n",
            "\n"
          ]
        }
      ]
    },
    {
      "cell_type": "code",
      "metadata": {
        "colab": {
          "base_uri": "https://localhost:8080/"
        },
        "id": "_eyhPd0DLUGA",
        "outputId": "2fcddb7c-81c3-426c-a2ce-ed745469eeff"
      },
      "source": [
        "print(tokenized_doc[2])"
      ],
      "execution_count": 32,
      "outputs": [
        {
          "output_type": "stream",
          "name": "stdout",
          "text": [
            "['그것', '윤', '지지', '무식', '무식하다', '하다', '소리', '거']\n"
          ]
        }
      ]
    },
    {
      "cell_type": "code",
      "metadata": {
        "id": "U3BNulWFcDhp",
        "colab": {
          "base_uri": "https://localhost:8080/"
        },
        "outputId": "a3393f79-a740-4548-a6a1-95efc5f54c2e"
      },
      "source": [
        "kkma.nouns(data[\"tweet\"][2])"
      ],
      "execution_count": 35,
      "outputs": [
        {
          "output_type": "execute_result",
          "data": {
            "text/plain": [
              "['그것', '윤', '지지', '무식', '무식하다', '하다', '소리', '거']"
            ]
          },
          "metadata": {},
          "execution_count": 35
        }
      ]
    },
    {
      "cell_type": "markdown",
      "metadata": {
        "id": "PEt0fcMOWqHH"
      },
      "source": [
        "이제 각 단어에 정수 인코딩을 하는 동시에, 각 뉴스에서의 단어의 빈도수를 기록. 여기서는 각 단어를 (word_id, word_frequency)의 형태로 바꾸고자 합니다. word_id는 단어가 정수 인코딩된 값이고, word_frequency는 해당 뉴스에서의 해당 단어의 빈도수를 의미합니다. 이는 gensim의 corpora.Dictionary()를 사용하여 손쉽게 구할 수 있습니다. 전체 뉴스에 대해서 정수 인코딩을 수행하고, 세번째 댓글을 추출합니다."
      ]
    },
    {
      "cell_type": "code",
      "metadata": {
        "colab": {
          "base_uri": "https://localhost:8080/"
        },
        "id": "tEpT2qdmUUtp",
        "outputId": "80639729-81bf-46a8-a785-7826916b1042"
      },
      "source": [
        "from gensim import corpora\n",
        "dictionary = corpora.Dictionary(tokenized_doc)\n",
        "corpus = [dictionary.doc2bow(text) for text in tokenized_doc]\n",
        "print(corpus[2])#세번째 댓글 출력"
      ],
      "execution_count": 36,
      "outputs": [
        {
          "output_type": "stream",
          "name": "stdout",
          "text": [
            "[(10, 1), (20, 1), (21, 1), (22, 1), (23, 1), (24, 1), (25, 1), (26, 1)]\n"
          ]
        }
      ]
    },
    {
      "cell_type": "code",
      "metadata": {
        "colab": {
          "base_uri": "https://localhost:8080/"
        },
        "id": "z55tIoPwnZi3",
        "outputId": "ea15c1d0-5583-47e8-8a09-c3037fc2a054"
      },
      "source": [
        "tokenized_doc[2]"
      ],
      "execution_count": 37,
      "outputs": [
        {
          "output_type": "execute_result",
          "data": {
            "text/plain": [
              "['그것', '윤', '지지', '무식', '무식하다', '하다', '소리', '거']"
            ]
          },
          "metadata": {},
          "execution_count": 37
        }
      ]
    },
    {
      "cell_type": "code",
      "metadata": {
        "colab": {
          "base_uri": "https://localhost:8080/"
        },
        "id": "YaLZxwbuX7Tz",
        "outputId": "2e002cec-cd42-43f5-d8be-d1d76bd8bb85"
      },
      "source": [
        "print(corpus[2])#3번째 댓글아이디 출력"
      ],
      "execution_count": 38,
      "outputs": [
        {
          "output_type": "stream",
          "name": "stdout",
          "text": [
            "[(10, 1), (20, 1), (21, 1), (22, 1), (23, 1), (24, 1), (25, 1), (26, 1)]\n"
          ]
        }
      ]
    },
    {
      "cell_type": "markdown",
      "metadata": {
        "id": "frpWRBVAZwQN"
      },
      "source": [
        "총 학습된 단어의 개수를 확인"
      ]
    },
    {
      "cell_type": "code",
      "metadata": {
        "colab": {
          "base_uri": "https://localhost:8080/"
        },
        "id": "zdy_pK3VX-31",
        "outputId": "648bbf65-61d2-401e-fafa-1aab81edfd3c"
      },
      "source": [
        "len(dictionary) #385505개 단어가 학습"
      ],
      "execution_count": 39,
      "outputs": [
        {
          "output_type": "execute_result",
          "data": {
            "text/plain": [
              "38550"
            ]
          },
          "metadata": {},
          "execution_count": 39
        }
      ]
    },
    {
      "cell_type": "markdown",
      "metadata": {
        "id": "LV8BPIGJZ6qI"
      },
      "source": [
        "#  LDA 모델을 훈련"
      ]
    },
    {
      "cell_type": "markdown",
      "metadata": {
        "id": "bCpRIwQ4gn6R"
      },
      "source": [
        "각 단어 앞에 붙은 수치는 단어의 해당 토픽에 대한 기여도를 보여줍니다. 또한 맨 앞에 있는 토픽 번호는 0부터 시작하므로 총 20개의 토픽은 0부터 19까지의 번호가 할당되어져 있습니다. passes는 알고리즘의 동작 횟수를 말하는데, 알고리즘이 결정하는 토픽의 값이 적절히 수렴할 수 있도록 충분히 적당한 횟수를 정해주면 됩니다. 여기서는 총 15회를 수행하였습니다. 여기서는 num_words=4로 총 4개의 단어만 출력하도록 하였습니다. 만약 10개의 단어를 출력하고 싶다면 아래의 코드를 수행하면 됩니다."
      ]
    },
    {
      "cell_type": "markdown",
      "metadata": {
        "id": "SOeH2soeHTx3"
      },
      "source": [
        "### 토픽번호별 키워드중요도"
      ]
    },
    {
      "cell_type": "code",
      "metadata": {
        "id": "gqssrIHyW3sk",
        "colab": {
          "base_uri": "https://localhost:8080/"
        },
        "outputId": "3e92d439-cdce-43d8-dcca-0c6d38649dcc"
      },
      "source": [
        "import gensim\n",
        "NUM_TOPICS = 20 #20개의 토픽(카테고리), k=20\n",
        "ldamodel = gensim.models.ldamodel.LdaModel(corpus, num_topics = NUM_TOPICS, id2word=dictionary, passes=15)\n",
        "topics = ldamodel.print_topics(num_words=7)\n",
        "for topic in topics:\n",
        "    print(topic)"
      ],
      "execution_count": 50,
      "outputs": [
        {
          "output_type": "stream",
          "name": "stdout",
          "text": [
            "(0, '0.048*\"윤\" + 0.033*\"열\" + 0.017*\"이재명\" + 0.012*\"대통령\" + 0.012*\"안\" + 0.011*\"철수\" + 0.008*\"안철수\"')\n",
            "(1, '0.118*\"다음\" + 0.118*\"뉴스\" + 0.054*\"윤\" + 0.034*\"다음뉴스\" + 0.018*\"열\" + 0.017*\"8\" + 0.015*\"0\"')\n",
            "(2, '0.043*\"조사\" + 0.037*\"여론\" + 0.027*\"여론조사\" + 0.021*\"지지율\" + 0.020*\"격차\" + 0.019*\"이재명\" + 0.016*\"윤\"')\n",
            "(3, '0.046*\"김건희\" + 0.040*\"김\" + 0.038*\"건희\" + 0.031*\"윤\" + 0.028*\"조작\" + 0.025*\"주가\" + 0.021*\"장모\"')\n",
            "(4, '0.077*\"윤\" + 0.066*\"열\" + 0.052*\"이재명\" + 0.037*\"출처\" + 0.033*\"뉴스\" + 0.024*\"4\" + 0.024*\"1\"')\n",
            "(5, '0.046*\"종\" + 0.042*\"윤\" + 0.042*\"부세\" + 0.041*\"종부세\" + 0.019*\"1\" + 0.017*\"열\" + 0.015*\"부자\"')\n",
            "(6, '0.024*\"박\" + 0.020*\"년\" + 0.020*\"윤\" + 0.017*\"검찰\" + 0.013*\"권오수\" + 0.011*\"기소\" + 0.010*\"영수\"')\n",
            "(7, '0.034*\"윤\" + 0.022*\"목포\" + 0.021*\"열\" + 0.020*\"논란\" + 0.014*\"폭탄주\" + 0.013*\"만찬\" + 0.011*\"위반\"')\n",
            "(8, '0.063*\"표\" + 0.055*\"홍\" + 0.045*\"윤\" + 0.037*\"국민\" + 0.029*\"동\" + 0.026*\"당\" + 0.026*\"대장\"')\n",
            "(9, '0.043*\"윤\" + 0.027*\"열\" + 0.019*\"사과\" + 0.012*\"광주\" + 0.012*\"조선\" + 0.010*\"36\" + 0.010*\"허\"')\n",
            "(10, '0.053*\"윤\" + 0.024*\"열\" + 0.019*\"길\" + 0.013*\"거\" + 0.013*\"송영\" + 0.011*\"송영길\" + 0.011*\"라\"')\n",
            "(11, '0.037*\"윤\" + 0.035*\"수사\" + 0.025*\"처\" + 0.023*\"열\" + 0.021*\"공수\" + 0.019*\"검찰\" + 0.019*\"공수처\"')\n",
            "(12, '0.053*\"김\" + 0.042*\"윤\" + 0.036*\"위\" + 0.030*\"선대\" + 0.025*\"준석\" + 0.023*\"선대위\" + 0.022*\"종인\"')\n",
            "(13, '0.038*\"윤\" + 0.035*\"대한\" + 0.035*\"민국\" + 0.035*\"대한민국\" + 0.019*\"열\" + 0.018*\"분\" + 0.017*\"대통령\"')\n",
            "(14, '0.047*\"윤\" + 0.029*\"열\" + 0.025*\"석\" + 0.019*\"이재명\" + 0.019*\"정권\" + 0.018*\"정\" + 0.015*\"심상\"')\n",
            "(15, '0.021*\"윤\" + 0.019*\"50\" + 0.017*\"선거\" + 0.012*\"33\" + 0.012*\"52\" + 0.011*\"경기\" + 0.011*\"정의\"')\n",
            "(16, '0.034*\"윤\" + 0.016*\"혜\" + 0.015*\"경\" + 0.015*\"개\" + 0.015*\"열\" + 0.014*\"질문\" + 0.013*\"사과\"')\n",
            "(17, '0.051*\"윤\" + 0.041*\"열\" + 0.028*\"이재명\" + 0.026*\"낙\" + 0.018*\"교체\" + 0.017*\"연\" + 0.016*\"후보\"')\n",
            "(18, '0.036*\"문\" + 0.027*\"윤\" + 0.027*\"재인\" + 0.022*\"문재인\" + 0.017*\"기\" + 0.017*\"정부\" + 0.016*\"검찰\"')\n",
            "(19, '0.064*\"윤\" + 0.045*\"열\" + 0.032*\"후보\" + 0.026*\"이재명\" + 0.024*\"힘\" + 0.020*\"국민\" + 0.020*\"대선\"')\n"
          ]
        }
      ]
    },
    {
      "cell_type": "code",
      "metadata": {
        "colab": {
          "base_uri": "https://localhost:8080/"
        },
        "id": "gngmC5azbSa-",
        "outputId": "c631b447-58fc-4edc-c830-6258f192ccf4"
      },
      "source": [
        "print(ldamodel.print_topics())"
      ],
      "execution_count": 51,
      "outputs": [
        {
          "output_type": "stream",
          "name": "stdout",
          "text": [
            "[(0, '0.048*\"윤\" + 0.033*\"열\" + 0.017*\"이재명\" + 0.012*\"대통령\" + 0.012*\"안\" + 0.011*\"철수\" + 0.008*\"안철수\" + 0.008*\"박근\" + 0.007*\"일\" + 0.007*\"수\"'), (1, '0.118*\"다음\" + 0.118*\"뉴스\" + 0.054*\"윤\" + 0.034*\"다음뉴스\" + 0.018*\"열\" + 0.017*\"8\" + 0.015*\"0\" + 0.014*\"1\" + 0.013*\"3\" + 0.012*\"9\"'), (2, '0.043*\"조사\" + 0.037*\"여론\" + 0.027*\"여론조사\" + 0.021*\"지지율\" + 0.020*\"격차\" + 0.019*\"이재명\" + 0.016*\"윤\" + 0.014*\"열\" + 0.013*\"양자\" + 0.013*\"45\"'), (3, '0.046*\"김건희\" + 0.040*\"김\" + 0.038*\"건희\" + 0.031*\"윤\" + 0.028*\"조작\" + 0.025*\"주가\" + 0.021*\"장모\" + 0.020*\"주가조작\" + 0.019*\"부인\" + 0.016*\"구속\"'), (4, '0.077*\"윤\" + 0.066*\"열\" + 0.052*\"이재명\" + 0.037*\"출처\" + 0.033*\"뉴스\" + 0.024*\"4\" + 0.024*\"1\" + 0.024*\"6\" + 0.023*\"3\" + 0.023*\"네이버\"'), (5, '0.046*\"종\" + 0.042*\"윤\" + 0.042*\"부세\" + 0.041*\"종부세\" + 0.019*\"1\" + 0.017*\"열\" + 0.015*\"부자\" + 0.014*\"부동산\" + 0.014*\"폭탄\" + 0.011*\"세금\"'), (6, '0.024*\"박\" + 0.020*\"년\" + 0.020*\"윤\" + 0.017*\"검찰\" + 0.013*\"권오수\" + 0.011*\"기소\" + 0.010*\"영수\" + 0.010*\"열\" + 0.010*\"4\" + 0.010*\"박영수\"'), (7, '0.034*\"윤\" + 0.022*\"목포\" + 0.021*\"열\" + 0.020*\"논란\" + 0.014*\"폭탄주\" + 0.013*\"만찬\" + 0.011*\"위반\" + 0.010*\"검증\" + 0.008*\"이유\" + 0.007*\"명\"'), (8, '0.063*\"표\" + 0.055*\"홍\" + 0.045*\"윤\" + 0.037*\"국민\" + 0.029*\"동\" + 0.026*\"당\" + 0.026*\"대장\" + 0.025*\"야당\" + 0.024*\"대장동\" + 0.023*\"32\"'), (9, '0.043*\"윤\" + 0.027*\"열\" + 0.019*\"사과\" + 0.012*\"광주\" + 0.012*\"조선\" + 0.010*\"36\" + 0.010*\"허\" + 0.009*\"1\" + 0.009*\"조선일보\" + 0.009*\"이재명\"'), (10, '0.053*\"윤\" + 0.024*\"열\" + 0.019*\"길\" + 0.013*\"거\" + 0.013*\"송영\" + 0.011*\"송영길\" + 0.011*\"라\" + 0.011*\"해\" + 0.011*\"이재명\" + 0.010*\"팀\"'), (11, '0.037*\"윤\" + 0.035*\"수사\" + 0.025*\"처\" + 0.023*\"열\" + 0.021*\"공수\" + 0.019*\"검찰\" + 0.019*\"공수처\" + 0.016*\"의혹\" + 0.014*\"고발\" + 0.014*\"동\"'), (12, '0.053*\"김\" + 0.042*\"윤\" + 0.036*\"위\" + 0.030*\"선대\" + 0.025*\"준석\" + 0.023*\"선대위\" + 0.022*\"종인\" + 0.021*\"열\" + 0.020*\"김종인\" + 0.011*\"3\"'), (13, '0.038*\"윤\" + 0.035*\"대한\" + 0.035*\"민국\" + 0.035*\"대한민국\" + 0.019*\"열\" + 0.018*\"분\" + 0.017*\"대통령\" + 0.017*\"2\" + 0.009*\"이재\" + 0.008*\"침묵\"'), (14, '0.047*\"윤\" + 0.029*\"열\" + 0.025*\"석\" + 0.019*\"이재명\" + 0.019*\"정권\" + 0.018*\"정\" + 0.015*\"심상\" + 0.014*\"심상정\" + 0.013*\"열도\" + 0.013*\"윤석열도\"'), (15, '0.021*\"윤\" + 0.019*\"50\" + 0.017*\"선거\" + 0.012*\"33\" + 0.012*\"52\" + 0.011*\"경기\" + 0.011*\"정의\" + 0.011*\"인정\" + 0.010*\"20대\" + 0.010*\"운동\"'), (16, '0.034*\"윤\" + 0.016*\"혜\" + 0.015*\"경\" + 0.015*\"개\" + 0.015*\"열\" + 0.014*\"질문\" + 0.013*\"사과\" + 0.012*\"김혜경\" + 0.011*\"김\" + 0.010*\"사진\"'), (17, '0.051*\"윤\" + 0.041*\"열\" + 0.028*\"이재명\" + 0.026*\"낙\" + 0.018*\"교체\" + 0.017*\"연\" + 0.016*\"후보\" + 0.013*\"낙연\" + 0.011*\"후보교체\" + 0.011*\"대통령\"'), (18, '0.036*\"문\" + 0.027*\"윤\" + 0.027*\"재인\" + 0.022*\"문재인\" + 0.017*\"기\" + 0.017*\"정부\" + 0.016*\"검찰\" + 0.016*\"열\" + 0.014*\"레\" + 0.014*\"조\"'), (19, '0.064*\"윤\" + 0.045*\"열\" + 0.032*\"후보\" + 0.026*\"이재명\" + 0.024*\"힘\" + 0.020*\"국민\" + 0.020*\"대선\" + 0.019*\"민주당\" + 0.018*\"국\" + 0.016*\"거\"')]\n"
          ]
        }
      ]
    },
    {
      "cell_type": "markdown",
      "metadata": {
        "id": "2owHzW7O4GEI"
      },
      "source": [
        "# 문서 관점에서 topic과 document 알기(문서별 토픽 분포 보기)"
      ]
    },
    {
      "cell_type": "markdown",
      "metadata": {
        "id": "NjexNJZ8zIpA"
      },
      "source": [
        "토픽별 단어 분포는 위에서 확인하였음. 문서별 토픽 분포에 대해 확인을 위해 이미 훈련된 LDA모델인 ldamodel[]에 전체 데이터가 정수 인코딩 된 결과를 넣은 후 확인 가능. "
      ]
    },
    {
      "cell_type": "markdown",
      "metadata": {
        "id": "omKnx6dfzfeN"
      },
      "source": [
        "상위 5개의 문서에 대해서만 토픽분포 확인"
      ]
    },
    {
      "cell_type": "code",
      "metadata": {
        "id": "k-NcMoqZg-z_",
        "colab": {
          "base_uri": "https://localhost:8080/"
        },
        "outputId": "ef0679da-44df-4697-f342-53ef136f542f"
      },
      "source": [
        "for i, topic_list in enumerate(ldamodel[corpus]):\n",
        "    if i==5:\n",
        "        break\n",
        "    print(i,'번째 문서의 topic 비율은',topic_list)"
      ],
      "execution_count": 52,
      "outputs": [
        {
          "output_type": "stream",
          "name": "stdout",
          "text": [
            "0 번째 문서의 topic 비율은 [(3, 0.25302717), (7, 0.25270706), (10, 0.06613306), (11, 0.14127937), (19, 0.2451867)]\n",
            "1 번째 문서의 topic 비율은 [(12, 0.28121677), (13, 0.5687832)]\n",
            "2 번째 문서의 topic 비율은 [(19, 0.89444447)]\n",
            "3 번째 문서의 topic 비율은 [(7, 0.63242215), (12, 0.09474277), (18, 0.041312285), (19, 0.20189314)]\n",
            "4 번째 문서의 topic 비율은 [(4, 0.10213815), (9, 0.15248063), (10, 0.065371454), (13, 0.122473955), (16, 0.1808673), (17, 0.2934186), (19, 0.061583254)]\n"
          ]
        }
      ]
    },
    {
      "cell_type": "markdown",
      "metadata": {
        "id": "EP7ytG_fzmw4"
      },
      "source": [
        "위의 출력 결과에서 (숫자, 확률)은 토픽 번호와 해당토픽이 해당문서에서 차지하는 분포도를 의미.예를 들어 2번째 문서의 토픽 비율에서 (5, 0.16109002)은 5번 토픽이 16%의 분포도를 가지는 것을 의미"
      ]
    },
    {
      "cell_type": "markdown",
      "metadata": {
        "id": "yyb5A86Nz7x1"
      },
      "source": [
        "좀 더 깔끔한 형태의 데이터프레임 형식으로 출력"
      ]
    },
    {
      "cell_type": "code",
      "metadata": {
        "id": "_TG7XBkDdZLN"
      },
      "source": [
        "def make_topictable_per_doc(ldamodel, corpus):\n",
        "    topic_table = pd.DataFrame()\n",
        "\n",
        "    # 몇 번째 문서인지를 의미하는 문서 번호와 해당 문서의 토픽 비중을 한 줄씩 꺼내온다.\n",
        "    for i, topic_list in enumerate(ldamodel[corpus]):\n",
        "        doc = topic_list[0] if ldamodel.per_word_topics else topic_list            \n",
        "        doc = sorted(doc, key=lambda x: (x[1]), reverse=True)\n",
        "        # 각 문서에 대해서 비중이 높은 토픽순으로 토픽을 정렬한다.\n",
        "        # EX) 정렬 전 0번 문서 : (2번 토픽, 48.5%), (8번 토픽, 25%), (10번 토픽, 5%), (12번 토픽, 21.5%), \n",
        "        # Ex) 정렬 후 0번 문서 : (2번 토픽, 48.5%), (8번 토픽, 25%), (12번 토픽, 21.5%), (10번 토픽, 5%)\n",
        "        # 48 > 25 > 21 > 5 순으로 정렬이 된 것.\n",
        "\n",
        "        # 모든 문서에 대해서 각각 아래를 수행\n",
        "        for j, (topic_num, prop_topic) in enumerate(doc): #  몇 번 토픽인지와 비중을 나눠서 저장한다.\n",
        "            if j == 0:  # 정렬을 한 상태이므로 가장 앞에 있는 것이 가장 비중이 높은 토픽\n",
        "                topic_table = topic_table.append(pd.Series([int(topic_num), round(prop_topic,4), topic_list]), ignore_index=True)\n",
        "                # 가장 비중이 높은 토픽과, 가장 비중이 높은 토픽의 비중과, 전체 토픽의 비중을 저장한다.\n",
        "            else:\n",
        "                break\n",
        "    return(topic_table)"
      ],
      "execution_count": 53,
      "outputs": []
    },
    {
      "cell_type": "code",
      "metadata": {
        "colab": {
          "base_uri": "https://localhost:8080/",
          "height": 363
        },
        "id": "ZNzr7sYJpiCg",
        "outputId": "118c5236-1f2b-4337-e91f-ea039e2c2cb9"
      },
      "source": [
        "topictable = make_topictable_per_doc(ldamodel, corpus)\n",
        "topictable = topictable.reset_index() # 문서 번호을 의미하는 열(column)로 사용하기 위해서 인덱스 열을 하나 더 만든다.\n",
        "topictable.columns = ['문서 번호', '가장 비중이 높은 토픽', '가장 높은 토픽의 비중', '각 토픽의 비중']\n",
        "topictable[:10]#상위 10개 댓글별 비중이 높은 토픽은 무엇이고 얼만큼 차지하는지"
      ],
      "execution_count": 54,
      "outputs": [
        {
          "output_type": "execute_result",
          "data": {
            "text/html": [
              "<div>\n",
              "<style scoped>\n",
              "    .dataframe tbody tr th:only-of-type {\n",
              "        vertical-align: middle;\n",
              "    }\n",
              "\n",
              "    .dataframe tbody tr th {\n",
              "        vertical-align: top;\n",
              "    }\n",
              "\n",
              "    .dataframe thead th {\n",
              "        text-align: right;\n",
              "    }\n",
              "</style>\n",
              "<table border=\"1\" class=\"dataframe\">\n",
              "  <thead>\n",
              "    <tr style=\"text-align: right;\">\n",
              "      <th></th>\n",
              "      <th>문서 번호</th>\n",
              "      <th>가장 비중이 높은 토픽</th>\n",
              "      <th>가장 높은 토픽의 비중</th>\n",
              "      <th>각 토픽의 비중</th>\n",
              "    </tr>\n",
              "  </thead>\n",
              "  <tbody>\n",
              "    <tr>\n",
              "      <th>0</th>\n",
              "      <td>0</td>\n",
              "      <td>3.0</td>\n",
              "      <td>0.2530</td>\n",
              "      <td>[(3, 0.2530023), (7, 0.2527093), (10, 0.066136...</td>\n",
              "    </tr>\n",
              "    <tr>\n",
              "      <th>1</th>\n",
              "      <td>1</td>\n",
              "      <td>13.0</td>\n",
              "      <td>0.5688</td>\n",
              "      <td>[(12, 0.28123522), (13, 0.56876475)]</td>\n",
              "    </tr>\n",
              "    <tr>\n",
              "      <th>2</th>\n",
              "      <td>2</td>\n",
              "      <td>19.0</td>\n",
              "      <td>0.8944</td>\n",
              "      <td>[(19, 0.89444447)]</td>\n",
              "    </tr>\n",
              "    <tr>\n",
              "      <th>3</th>\n",
              "      <td>3</td>\n",
              "      <td>7.0</td>\n",
              "      <td>0.6324</td>\n",
              "      <td>[(7, 0.6324267), (12, 0.094749175), (18, 0.041...</td>\n",
              "    </tr>\n",
              "    <tr>\n",
              "      <th>4</th>\n",
              "      <td>4</td>\n",
              "      <td>17.0</td>\n",
              "      <td>0.2934</td>\n",
              "      <td>[(4, 0.10213033), (9, 0.15247975), (10, 0.0653...</td>\n",
              "    </tr>\n",
              "    <tr>\n",
              "      <th>5</th>\n",
              "      <td>5</td>\n",
              "      <td>13.0</td>\n",
              "      <td>0.4677</td>\n",
              "      <td>[(0, 0.052061476), (12, 0.0696473), (13, 0.467...</td>\n",
              "    </tr>\n",
              "    <tr>\n",
              "      <th>6</th>\n",
              "      <td>6</td>\n",
              "      <td>13.0</td>\n",
              "      <td>0.5804</td>\n",
              "      <td>[(4, 0.30169094), (10, 0.055411104), (13, 0.58...</td>\n",
              "    </tr>\n",
              "    <tr>\n",
              "      <th>7</th>\n",
              "      <td>7</td>\n",
              "      <td>0.0</td>\n",
              "      <td>0.3814</td>\n",
              "      <td>[(0, 0.3814288), (1, 0.35827836), (13, 0.21555...</td>\n",
              "    </tr>\n",
              "    <tr>\n",
              "      <th>8</th>\n",
              "      <td>8</td>\n",
              "      <td>11.0</td>\n",
              "      <td>0.3947</td>\n",
              "      <td>[(11, 0.39466307), (12, 0.24045952), (15, 0.30...</td>\n",
              "    </tr>\n",
              "    <tr>\n",
              "      <th>9</th>\n",
              "      <td>9</td>\n",
              "      <td>8.0</td>\n",
              "      <td>0.8776</td>\n",
              "      <td>[(8, 0.8776482), (18, 0.09588127)]</td>\n",
              "    </tr>\n",
              "  </tbody>\n",
              "</table>\n",
              "</div>"
            ],
            "text/plain": [
              "   문서 번호  ...                                           각 토픽의 비중\n",
              "0      0  ...  [(3, 0.2530023), (7, 0.2527093), (10, 0.066136...\n",
              "1      1  ...               [(12, 0.28123522), (13, 0.56876475)]\n",
              "2      2  ...                                 [(19, 0.89444447)]\n",
              "3      3  ...  [(7, 0.6324267), (12, 0.094749175), (18, 0.041...\n",
              "4      4  ...  [(4, 0.10213033), (9, 0.15247975), (10, 0.0653...\n",
              "5      5  ...  [(0, 0.052061476), (12, 0.0696473), (13, 0.467...\n",
              "6      6  ...  [(4, 0.30169094), (10, 0.055411104), (13, 0.58...\n",
              "7      7  ...  [(0, 0.3814288), (1, 0.35827836), (13, 0.21555...\n",
              "8      8  ...  [(11, 0.39466307), (12, 0.24045952), (15, 0.30...\n",
              "9      9  ...                 [(8, 0.8776482), (18, 0.09588127)]\n",
              "\n",
              "[10 rows x 4 columns]"
            ]
          },
          "metadata": {},
          "execution_count": 54
        }
      ]
    },
    {
      "cell_type": "markdown",
      "metadata": {
        "id": "vdefHJqG21K8"
      },
      "source": [
        "# 단어 관점에서topic과 documents를 알기\n"
      ]
    },
    {
      "cell_type": "code",
      "metadata": {
        "colab": {
          "base_uri": "https://localhost:8080/"
        },
        "id": "i1SlwAhmkhi-",
        "outputId": "11d47a61-a155-4df7-b21f-861009303f8c"
      },
      "source": [
        "keyword=\"세금\"\n",
        "id_list=[]\n",
        "for i in range(len(data)):\n",
        "  if keyword in tokenized_doc[i]:\n",
        "    print(\"해당 단어가 들어간 댓글:\",i,\"번 댓글\",\":\",data['tweet'][i])\n",
        "    for y in range(len(tokenized_doc[i])):\n",
        "      if tokenized_doc[i][y]==keyword:\n",
        "        key_id=corpus[i][y]\n",
        "        print(\"해당단어의 아이디는\",key_id)\n",
        "        id_list.append(key_id[0])"
      ],
      "execution_count": 62,
      "outputs": [
        {
          "output_type": "stream",
          "name": "stdout",
          "text": [
            "해당 단어가 들어간 댓글: 670 번 댓글 : 참여연대 16억 주택 소유자 종부세 20만원 수준 세금폭탄인가 SfTDlkVlx9 국민의힘 윤석열 후보에 공개질의서 발송 고령층 종부세 대상자도 연 소득 1억 넘어 \n",
            "해당단어의 아이디는 (1064, 1)\n",
            "해당 단어가 들어간 댓글: 921 번 댓글 :  대상자만 100만명 육박 역대급 종부세 커지는 조세저항 조세저항 저항한다고 세무사 변호사에 줄 돈으로 그냥 세금내라 그리고 세금 적게 걷어가는 나라로 이민가 가보면 알겠지 내는 세금만큼 혜택받는 나라가 있는지 pn0rjFNAHO\n",
            "해당단어의 아이디는 (3878, 1)\n",
            "해당 단어가 들어간 댓글: 1060 번 댓글 : 종부세 폭탄 종부세는 국민 상위 1 4 부자들이 부담하는 세금인데 이것을 국민 모두가 부담하는 세금으로 오인하겠금 보도하고 윤석열은 이런 세금도 깍아주겠다고 홍보하고 있습니다 세계 각국이 코로나로 증세로 가고 특히 부자들에 대한 세금이 대폭 오르고 있는데 깍는다고 미친놈 욕나오네 u0DeKWZyqr\n",
            "해당단어의 아이디는 (276, 1)\n",
            "해당 단어가 들어간 댓글: 1711 번 댓글 :  lt 윤석열 gt 은 종부세 대상자로서 1가구1주택자이다 윤석열은 종부세 세금이 아까워서 종부세 폐지 공약 을 발표했나 보다 윤서결 종부세\n",
            "해당단어의 아이디는 (3198, 1)\n",
            "해당 단어가 들어간 댓글: 1816 번 댓글 : 윤석열 대통령 골때리지만 김건희 영부인은 정말 못받아주겠다 사기범죄에 학력위조 학위위조 논문위조 한사람을 우리세금으로 영부인 대우를 해야해 \n",
            "해당단어의 아이디는 (5983, 1)\n",
            "해당 단어가 들어간 댓글: 2120 번 댓글 :  ojg4008 거봐 종부세 없애면 근로소득자면 세금 는다 했지 이런대도 윤석열뽑을래 난 이거보고 이재명을 뽑기로함\n",
            "해당단어의 아이디는 (934, 1)\n",
            "해당 단어가 들어간 댓글: 2904 번 댓글 : 윤석열 종부세 재검토 에 참여연대가 16억 아파트 따져봤다 pFxTXXyBfO 20만원 수준 1주택 고령자 최대공제 시 4만원 세금폭탄 근거 대라 공개질의\n",
            "해당단어의 아이디는 (8024, 1)\n",
            "해당 단어가 들어간 댓글: 2933 번 댓글 : 종부세 전면 재검토를 공약한 윤석열 국민의힘 대선 후보에게 참여연대가 공개질의서를 전달했다 16억 아파트에 20만원 수준 1주택 고령자 최대공제 시 4만원 3천만원 자동차도 60만원 이상 종부세 세금폭탄_근거_대라 g5PYs1BMHl\n",
            "해당단어의 아이디는 (8274, 1)\n",
            "해당 단어가 들어간 댓글: 3182 번 댓글 : 참여연대가 윤석열 후보에게 물었습니다 전체 인구 중 1 만 납부하는 종부세 16억 원의 집 가져도 고작 20만 원 납부 종부세 대상 고령자들의 평균 소득은 1억 원 진정 종부세가 세금폭탄인가요 KvooOhGOrp dhgs9yYQvM\n",
            "해당단어의 아이디는 (8769, 1)\n",
            "해당 단어가 들어간 댓글: 3596 번 댓글 : 자꾸 빚내 잔치하렵니까 돈 있는 분들이 스스로 기부 안하니 세금 좀 거둬 어려운 사람들 도와야죠 윤석열 후보님 종부세 폐지 반대합니다 대다수 국민은 해당 없다는데도 극소수 부자편 듭니까 국가 재정 생각하시오 \n",
            "해당단어의 아이디는 (215, 1)\n",
            "해당 단어가 들어간 댓글: 3744 번 댓글 :  부동산 공약 실현불가능한 거짓말 이재명 윤석열 묶어 때린 김동연 아파트 공동주택 공급하는 데 8년 10년 걸려 무주택 1주택자 대출 및 세금 완화 다주택자 확실한 규제 1VaKK5LnLd 새로운물결 김동연 기회공화국 아래로부터의반란 공무원개혁 국가균형발전\n",
            "해당단어의 아이디는 (5603, 1)\n",
            "해당 단어가 들어간 댓글: 3757 번 댓글 :  부동산 공약 실현불가능한 거짓말 이재명 윤석열 묶어 때린 김동연 아파트 공동주택 공급하는 데 8년 10년 걸려 무주택 1주택자 대출 및 세금 완화 다주택자 확실한 규제 1VaKK5LnLd\n",
            "해당단어의 아이디는 (9859, 1)\n",
            "해당 단어가 들어간 댓글: 4557 번 댓글 : 윤석열 부동산 정책 실패로 세금 폭탄 도미노 부과 체계 개편할 것 newspim bmpcwGupTJ\n",
            "해당단어의 아이디는 (1064, 1)\n",
            "해당 단어가 들어간 댓글: 4739 번 댓글 :  좌파가 정권 심판을 위해 윤석열 어쩌고 저쩌고 떠드는 이야기를 보면 니네 좀 더 솔직해질 필요가 있지 않겠니 세계적인 팬데믹 상황과 중국의 독자노선 앞에서 보건과 군사문제는 핑계일 뿐이고 코인과 부동산 규제 그리고 조금 더 늘어난 세금에 눈이 뒤집힌 것뿐이잖아 그게 무슨 좌파야 \n",
            "해당단어의 아이디는 (11774, 1)\n",
            "해당 단어가 들어간 댓글: 5148 번 댓글 :  종부세는 가족관계 파괴하는 세계 유례없는 괴물 세금 다음 뉴스 vjmWSk0vbp 미친기레기놈들 난종부세내고싶다 국민98 는안내잖어 쳐죽일놈들아\n",
            "해당단어의 아이디는 (418, 1)\n",
            "해당 단어가 들어간 댓글: 5238 번 댓글 : 국민 1 7 가 납부한다는 종부세 일종의 부자세 를 개편한다는 윤석열이 부자 편들고 있네 그러면서 종부세가 국민들이 누구나 내는 세금으로 홍보하면서 국민을 속이고 있다 부자들 감세하겠다는 국민의힘이 진정 국민을 위한 정당인지 묻고 싶다 욕나오려고 하네 4Ht526zQYS\n",
            "해당단어의 아이디는 (4185, 1)\n",
            "해당 단어가 들어간 댓글: 5271 번 댓글 : 6754원이 폭등이면 총장시절 3개월만에 재산이 약 2 6억 오른 윤석열이는 돈벼락 맞은 모양이네 돈벼락 맞았으면 세금도 잘 내고 그래 무정부주의자 아니라면 \n",
            "해당단어의 아이디는 (12790, 1)\n",
            "해당 단어가 들어간 댓글: 5291 번 댓글 : 윤석열은 갑부들 세금 깍아주고 담배값 4950원 으로 인상 요지랄할듯 존나 사람 짜증나게 만드는 간접세 증상 뭐 그런 지랄 \n",
            "해당단어의 아이디는 (586, 1)\n",
            "해당 단어가 들어간 댓글: 5681 번 댓글 : 윤석열 무고로 깜방갈 것들과 손해배상으로 해결할 것들 진짜 많을 것 같다 손실된 400조 세금 충당하자 \n",
            "해당단어의 아이디는 (13557, 1)\n",
            "해당 단어가 들어간 댓글: 5845 번 댓글 : 윤석열 국민의힘 대선 후보는 연일 세금 부동산 문제 등 현 정권의 실책을 지적하고 있습니다 oXi0s84hzm\n",
            "해당단어의 아이디는 (320, 1)\n",
            "해당 단어가 들어간 댓글: 6604 번 댓글 : 윤석열이 종부세는 세금 폭탄이라고 허위 사실로 선동하고 있다 민주사회를위한변호사모임 시가 20억 아파트의 소유자 70세 보유기간 10년인 경우의 종부세는 많아야 25만 원이다 정의당 심상정 의원 집 부자들 대변하며 부자 감세에 앞장선 후보로는 대한민국 부동산 문제 영원히 해결 못 한다 \n",
            "해당단어의 아이디는 (99, 1)\n",
            "해당 단어가 들어간 댓글: 6653 번 댓글 : 구김당 애들은 세금폭탄이라고 열심히 떠들고 있지 사실은 아닌데도 좃중동은 옆에서 구김당애들을 응원하려고 세금폭탄이라고 같이 떠들어주고 있는거지 \n",
            "해당단어의 아이디는 (1305, 1)\n",
            "해당 단어가 들어간 댓글: 6662 번 댓글 : 세금이 이런거였어 대한민국이 따라야할 모범사례중 하나인거지 \n",
            "해당단어의 아이디는 (20, 1)\n",
            "해당 단어가 들어간 댓글: 6726 번 댓글 : 인천시의원들 99 국민 무시 셀프감세 윤석열 화끈한 회견 부자 감세한 만큼 서민 세금 늘릴거냐 nS7Edq8yGe\n",
            "해당단어의 아이디는 (4937, 1)\n",
            "해당 단어가 들어간 댓글: 6890 번 댓글 : 윤석열 세금 건보료 폭탄 올해가 마지막 반문 결집에 힘 쏟아 출처 세계일보 네이버 뉴스 Qx9mSR3uvu G1kalqHW7L\n",
            "해당단어의 아이디는 (16, 1)\n",
            "해당 단어가 들어간 댓글: 7496 번 댓글 : 윤석열 이번엔 건보료 폭탄 세금 전쟁 확전 SxDD4RjdGM\n",
            "해당단어의 아이디는 (1064, 1)\n",
            "해당 단어가 들어간 댓글: 7560 번 댓글 : 세금이 단순하게 소득이 아니라 담세능력 에 따라서 결정되어야 하듯이 건보료도 마찬가지여야 하는데 윤석열은 그 조차도 퇴행적으로 만들겠다는 소리 진중권이나 김수민 같은 가짜 진보일 수밖에 없는 자유주의자자들이 원하는 세상이란 결국 이런 계급에 따라 약육강식이 결정되는 세상 \n",
            "해당단어의 아이디는 (9, 1)\n",
            "해당 단어가 들어간 댓글: 8131 번 댓글 : 국민의힘 윤석열 대선후보 종부세를 세금폭탄으로 선동하는 것이 마치 검찰의 수사 조작 왜곡 수법을 써먹고 있는것 같다 민주사회를 위한 변호사모임 종부세를 세금폭탄이라고 선동하며 종부세 폐지 및 1주택자 면제 방안을 공약한 윤석열 국민의힘 대선 후보를 강력히 규탄한다 고 밝혔다 \n",
            "해당단어의 아이디는 (216, 1)\n",
            "해당 단어가 들어간 댓글: 8149 번 댓글 : 이번 대선 생각할수록 답이 안보여서 한숨 밖에 안나오는데 얘넨 고민할 게 고작 세금 밖에 없어서 좋겠다 아무 생각없이 윤석열이나 뽑을 거 아냐 \n",
            "해당단어의 아이디는 (2321, 1)\n",
            "해당 단어가 들어간 댓글: 8710 번 댓글 : 광주에서 윤석열 발언 비판하는 시민단체 서울에서 오세훈의 복지 예산 운운하는 시민단체 이것들 전부 세금 빼먹고 살아온 인간들이 밥줄 끊기게 되니까 지랄 떠는거야 그것도 80년 광주 팔고 저소득층 복지를 팔면서 세상 추악한 것들이지 \n",
            "해당단어의 아이디는 (1272, 1)\n",
            "해당 단어가 들어간 댓글: 8880 번 댓글 : 윤석열 부동산 실패는 정부 세금 폭탄은 국민이 올해 끝내야 뉴스 동아닷컴 1utMxNrNLr\n",
            "해당단어의 아이디는 (199, 1)\n",
            "해당 단어가 들어간 댓글: 8881 번 댓글 : 윤석열 부동산 실패는 정부 세금 폭탄은 국민이 올해 끝내야 뉴스 동아닷컴 zBqWkw6ue4\n",
            "해당단어의 아이디는 (166, 1)\n",
            "해당 단어가 들어간 댓글: 8882 번 댓글 :  patriamea 장모가 건강보험 23억원 사기친 죄로 징역3년이 선고됐고 아산 땅투기로 132억 빼먹었고 농지법 위반하며 양평아파트 불법개발로 800억 챙겨먹었고 김건희는 주가조작으로 개미 잡아먹었는데 윤석열은 부동산 세금과 건강보험 말하는것이 정말 뻔뻔해도 너무 뻔뻔하구나\n",
            "해당단어의 아이디는 (3200, 1)\n",
            "해당 단어가 들어간 댓글: 8884 번 댓글 : 장모가 건강보험 23억원 사기친 죄로 징역3년이 선고됐고 아산 땅투기로 132억 빼먹었고 농지법 위반하며 양평아파트 불법개발로 800억 챙겨먹었고 김건희는 주가조작으로 개미 잡아먹었는데 윤석열은 부동산 세금과 건강보험 말하는것이 정말 뻔뻔해도 너무 뻔뻔하구나\n",
            "해당단어의 아이디는 (3200, 1)\n",
            "해당 단어가 들어간 댓글: 8980 번 댓글 : 윤석열의 종부세 폐지는 부자감세 종부세 면죄는 300만 가구 다주택자를 염두에 둔 부자들을 위한 감세정책 정부의 다주택자에 종부세 부과하여 자산불평등 지역불평등을 해소하려는 정부정책을 근본적으로 뒤집는 것이며 종부세를 세금 폭탄이라고 거짓으로 선동하고 있다\n",
            "해당단어의 아이디는 (18570, 1)\n",
            "해당 단어가 들어간 댓글: 9036 번 댓글 : 종부세 1억 세금폭탄이라는 기레기의 개소리 이게 팩트지 시가 90억이상 가진 사람이 몇이나 되겠냐 이 종부세 내리고 월급쟁이 지갑 털겠다는게 윤석열이였던가 j4GjNkoEOy\n",
            "해당단어의 아이디는 (215, 1)\n",
            "해당 단어가 들어간 댓글: 9103 번 댓글 : 건보료 뿐만 아니라 부동산 세금 등 국민에게 부담을 지울 땐 상대방 사정을 깊이 헤아려서 실행하기를 바란다 내일 아니라고 소수라고 무시하고 쉽게 결정하는 짓 좀 그만두고 윤석열 건보료 폭탄 올해가 마지막 소득중심 부과로 개편 뉴스 동아닷컴 FHYRTN5bt4\n",
            "해당단어의 아이디는 (108, 1)\n",
            "해당 단어가 들어간 댓글: 9106 번 댓글 :  hopesniper 장모가 건강보험 23억원 사기친 죄로 징역3년이 선고됐고 아산 땅투기로 132억 빼먹었고 농지법 위반하며 양평아파트 불법개발로 800억 챙겨먹었고 김건희는 주가조작으로 개미 잡아먹었는데 윤석열은 부동산 세금과 건강보험 말하는것이 정말 뻔뻔해도 너무 뻔뻔하구나\n",
            "해당단어의 아이디는 (3200, 1)\n",
            "해당 단어가 들어간 댓글: 9107 번 댓글 : 장모가 건강보험 23억원 사기친 죄로 징역3년이 선고됐고 아산 땅투기로 132억 빼먹었고 농지법 위반하며 양평아파트 불법개발로 800억 챙겨먹었고 김건희는 주가조작으로 개미 잡아먹었는데 윤석열은 부동산 세금과 건강보험 말하는것이 정말 뻔뻔해도 너무 뻔뻔하구나\n",
            "해당단어의 아이디는 (3200, 1)\n",
            "해당 단어가 들어간 댓글: 9131 번 댓글 : 윤석열 건보료 세금폭탄 올해가 마지막 될 것 bz7z1vVOl7\n",
            "해당단어의 아이디는 (1060, 1)\n",
            "해당 단어가 들어간 댓글: 9145 번 댓글 :  prochangQ jsh2708 한동훈 휴대폰 비밀번호 언제 열릴까 조중동 기더기들 사주들 뭐하고 있나 국민 세금 먹는 값 해야지 검찰 범죄 증거 보존 한 것을 현직 검사가 무시하고 숨기는 행위 이게 공정 하고 상식적인가 한동훈 근친 국힘 대선후보 윤석열 이게 정상적인가 이게 정의인가 묻는다 \n",
            "해당단어의 아이디는 (1024, 1)\n",
            "해당 단어가 들어간 댓글: 9375 번 댓글 : 윤석열 세금 건보료 폭탄 올해가 마지막 반문 결집에 힘 쏟아 가족 사기단 IR9ItJkixK\n",
            "해당단어의 아이디는 (16, 1)\n",
            "해당 단어가 들어간 댓글: 9430 번 댓글 : 상위 1 7 를 위해 종부세를 폐지하겠다는 윤석열의 말은 곧 복지예산을 대폭 줄이겠다는 것입니다 노무현대통령께서 종부세를 신설하니 땅 한평 집 하나 없는 사람들이 세금때문에 못살겠다고 아우성이었다는 웃지 못할 이야기가 생각납니다 제발 깨어있는 시민이 됩시다 \n",
            "해당단어의 아이디는 (3200, 1)\n",
            "해당 단어가 들어간 댓글: 9661 번 댓글 : 윤석열 건보료 기준은 재산 gt 소득이나 종부세 폐지 등의 메시지는 이른바 자기 또래 혹은 그의 장모 또래 등 부동산 소유하지만 소득은 없는 근데 세금 나오는 게 싫은 윤석열 지지층의 속마음이자 그들의 메시지인데 이걸로 가장 손해보는 건 월급생활자겠고 목돈이 없는 청년 세대겠지 \n",
            "해당단어의 아이디는 (4368, 1)\n",
            "해당 단어가 들어간 댓글: 10370 번 댓글 : 윤석열 부동산 실패는 정부 세금 폭탄은 국민이 올해 끝내야 mDtC9xjTKg\n",
            "해당단어의 아이디는 (912, 1)\n",
            "해당 단어가 들어간 댓글: 10455 번 댓글 : 떡검 이쉐뀌들은 국민세금으로 월급 따박따박 받아가면서 하는일은 룸뻥에서 공짜술 얻어 마시는거 말고 하는게 데체 뭐냐 RT ohmynews_korea 검찰 윤석열 장모의 사문서 위조 혐의 수사 안했다 윤석열 최은순 김건희 정대택 모해위증죄 구영식 기자 4OVeqHhvRm\n",
            "해당단어의 아이디는 (49, 1)\n",
            "해당 단어가 들어간 댓글: 10577 번 댓글 : 윤석열의 폭탄 시리즈 집값 폭등으로 이번엔 건보료 폭탄 QMbTIJduja 종부세 건보료 깍아주고 빵꾸나는 세금은 어디서 메꿀건데 무조건 깍아주는것이 포퓰리즘이다 \n",
            "해당단어의 아이디는 (9435, 1)\n",
            "해당 단어가 들어간 댓글: 10623 번 댓글 : 문 정부가 부동산 정책 실패해서 60대들의 표심이 떠난 거라면서 세금 많이 내라 해서 그런거라며 60대들을 달래며 가야했다는 개소리 두가지를 합치길래 첫번째와 두번째는 다른 논리이고 세번째로 갈거면 민주당이 국민의 힘이랑 다를 이유가 없고 그래서 윤석열을 뽑겠다는 말은 그냥 개소리라고\n",
            "해당단어의 아이디는 (1030, 1)\n",
            "해당 단어가 들어간 댓글: 10661 번 댓글 :  lt 윤석열 후보 거짓선동 집어치우시라 gt 윤석열 후보가 세금 폭탄론에 이어 건보료 폭탄론까지 던지고 있습니다 정략적인 거짓선동입니다 집값 폭등은 우리 민주당과 정부가 국민 앞에 머리 숙여 사죄해야 할 일입니다 다시 한번 국민 앞에 사과드립니다 YKaLXHnKYV\n",
            "해당단어의 아이디는 (103, 1)\n",
            "해당 단어가 들어간 댓글: 10713 번 댓글 : 개발이익환수법을 구김당이 반대한다구 민주당 윤호중 개자식 국회의장 박병석 개자식 이런 시발놈들이 국회에서 국민세금으로 나랏밥 먹고 있는 건가 \n",
            "해당단어의 아이디는 (20977, 1)\n",
            "해당 단어가 들어간 댓글: 10752 번 댓글 : 우리가 낸 세금으로 월급 받는 공무원 뻔뻔하게 거짓말했던 국민의힘 윤석열의 오른팔 정치검찰 20201 01 22 ad3SIuI9kx\n",
            "해당단어의 아이디는 (9, 1)\n",
            "해당 단어가 들어간 댓글: 10770 번 댓글 : 이억원 기재부 1차관 98 국민은 종부세와 무관하다 과장된 우려들이 있지만 분명한 것은 전체 국민들 중 약 98 국민들께는 고지서가 발송되지 않는다는 것이다 윤석열의 종부세 폐지 세금 폭탄 주장은 국민에게 불안감만 조성하는 허위 사실을 주장한 것이다 \n",
            "해당단어의 아이디는 (12134, 1)\n",
            "해당 단어가 들어간 댓글: 10835 번 댓글 : 인천시의원들 99 국민 무시 셀프감세 윤석열 화끈한 회견 부자 감세한 만큼 서민 세금 늘릴거냐 NwWqI96vQB YouTube\n",
            "해당단어의 아이디는 (15476, 1)\n",
            "해당 단어가 들어간 댓글: 11033 번 댓글 : 윤석열 부동산 실패는 정부 세금 폭탄은 국민이 올해 끝내야 출처 동아일보 네이버 끝장을 내야합니다 Ya59rGOsg6\n",
            "해당단어의 아이디는 (116, 1)\n",
            "해당 단어가 들어간 댓글: 11203 번 댓글 : 윤석열 부동산 실패는 정부 세금 폭탄은 국민이 올해 끝내야 동아닷컴 SBNmXUhgAK\n",
            "해당단어의 아이디는 (1064, 1)\n",
            "해당 단어가 들어간 댓글: 11388 번 댓글 : 윤석열의 공약은 중간이 없을 정도로 무지막지해서 민주당과 이재명이 공격하기 쉬운것 종부세 폐지론도 바로 상위 1 7 만 내는데 왜 세금 깎아 로 대응 가능하니 \n",
            "해당단어의 아이디는 (2314, 1)\n",
            "해당 단어가 들어간 댓글: 11452 번 댓글 : 주 120시간으로도 모자라서 월급쟁이 건보료 올린다는 종부세 없애고 이래도 윤석열 지지하나 서민 세금 더 내고 빈부격차 더 늘리겠다고\n",
            "해당단어의 아이디는 (5476, 1)\n",
            "해당 단어가 들어간 댓글: 11531 번 댓글 : 구김당류들은 전국민 재난 지원금을 반대하는 거지 국민 gt 소상공인 gt 국가세금 건물주 임대료 gt 국가세금 gt 국민 국민에게 지급되면 선순환의 고리가 이렇게 이루어진다 \n",
            "해당단어의 아이디는 (11615, 1)\n",
            "해당 단어가 들어간 댓글: 11783 번 댓글 :  patriamea 권영세 그게 윤석열 표 공정이고 상식이냐 상식 이하 짓거리 언제까지 계속 할 것인가 정의 평상심 가지고 국민 세금 먹는 몫 제대로 하기 바란다 \n",
            "해당단어의 아이디는 (17108, 1)\n",
            "해당 단어가 들어간 댓글: 11802 번 댓글 : 윤석열 부동산실패 文케어 포퓰리즘에 집값 세금 건보료 폭등 국민부담 사슬 끊겠다 출처 디지털타임스 네이버 뉴스 kZaVCBTafx\n",
            "해당단어의 아이디는 (1060, 1)\n",
            "해당 단어가 들어간 댓글: 11860 번 댓글 : 윤석열 부동산실패 文케어 포퓰리즘에 집값 세금 건보료 폭등 국민부담 사슬 끊겠다 출처 디지털타임스 네이버 뉴스 TwK0RHOe6d\n",
            "해당단어의 아이디는 (266, 1)\n",
            "해당 단어가 들어간 댓글: 11904 번 댓글 : 윤석열 국민의힘 대선 후보가 19일 건강보험 지역가입자 보험료 인상과 관련 부동산 정책 실패는 정부가 저질러 놓고 왜 가만히 있던 국민이 세금 폭탄과 건보료 폭탄을 맞아야 하는 거냐 고 비판했다 nFIF6UGm5C\n",
            "해당단어의 아이디는 (1955, 1)\n",
            "해당 단어가 들어간 댓글: 11991 번 댓글 : 윤석열 건보료 폭탄 정부가 잘못했는데 왜 국민이 맞나 윤석열 국민의힘 대선 후보가 19일 부동산 정책 실패는 정부가 저질러 놓고 왜 가만히 있던 국민이 세금 폭탄과 건보료 폭탄을 맞아야 하는 것인가 라고 했다 rtxv4GJVii\n",
            "해당단어의 아이디는 (7628, 1)\n",
            "해당 단어가 들어간 댓글: 12090 번 댓글 : 윤석열 국민의 힘 대통령 후보 amp quot 부동산 정책 실패로 세금 건보료 폭탄 amp quot 브레이크뉴스 b0vp1dvfxj\n",
            "해당단어의 아이디는 (331, 1)\n",
            "해당 단어가 들어간 댓글: 12159 번 댓글 :  속보 윤석열 정부 부동산 정책 실패 왜 국민이 세금 폭탄ㆍ건보료 폭탄 맞아야 하나 출처 강원일보 네이버 uqGsaV84Uc\n",
            "해당단어의 아이디는 (333, 1)\n",
            "해당 단어가 들어간 댓글: 12168 번 댓글 :  Jaemyung_Lee 읏기는건 해당도 안되는 인간들이 몆 가 해당된줄 모르고 세금반대를 외치다는것 윤석열과 동급들이죠\n",
            "해당단어의 아이디는 (2102, 1)\n",
            "해당 단어가 들어간 댓글: 12182 번 댓글 : 윤석열 정부 부동산 정책 실패 왜 국민이 세금 폭탄ㆍ건보료 폭탄 맞아야 하나 출처 강원일보 네이버 뉴스 qGnd4I8n35\n",
            "해당단어의 아이디는 (172, 1)\n",
            "해당 단어가 들어간 댓글: 12196 번 댓글 : 윤석열이 종부세 폐지를 주장하면서 세금 폭탄 없애겠다고 호도하고 있다 종부세 대상은 전국민의 불과 4 뿐 70세 고령의 은퇴자가 20억 1주택을 10년간 보유했다면 종부세 25만원에 불과하다 윤석열은 세금 폭탄이라고 이를 호도하고 있지만 사실은 부자들 다주택자들에게 혜택을 주는 것이다 \n",
            "해당단어의 아이디는 (216, 1)\n",
            "해당 단어가 들어간 댓글: 12263 번 댓글 : 윤석열후보 자신의 페이스북을 통해 건강보험료 지역가입자 11월분 보험료가 평균 6 754원이 인상된다고 한다 국민 힘 빠지게 하는 또 한 번의 폭등 소식 윤석열에게는 코로나백신 돈 받고 6754원 깍아줘라 30억 아파트 세금 110만원도 내기 싫단다 \n",
            "해당단어의 아이디는 (13204, 1)\n",
            "해당 단어가 들어간 댓글: 12293 번 댓글 : 윤석열 후보는 국민에게 돌아온 것은 바로 집값 폭등 세금 폭등 건보료 폭등 등 폭등의 도미노 폭등 이라고 목소리를 높였다 김건희소유 30억 아파트 가격오르니 세금올라가 건보료 올라가 세금 더 내고 건보료 더 내도 좋으니 30억 아파트 나에게 줄수 없는 건희 \n",
            "해당단어의 아이디는 (256, 1)\n",
            "해당 단어가 들어간 댓글: 12634 번 댓글 : 2021년 대한민국 국민의힘 검찰비리 하이라이트 곽상도 아들 50억 뇌물이 알선수재로 퇴직금이 세금면제되는 산업재해로 화천대유는 누구꺼 국민의힘 윤석열 게이트 곽상도 아들 50억 퇴직금 알선수재 혐의 적용 다음 뉴스 2iAwtSCtRa\n",
            "해당단어의 아이디는 (2376, 1)\n",
            "해당 단어가 들어간 댓글: 12676 번 댓글 : 인천시의원들 99 국민 무시 셀프감세 윤석열 화끈한 회견 부자 감세한 만큼 서민 세금 늘릴거냐 ryqBvTvjVT via YouTube\n",
            "해당단어의 아이디는 (15477, 1)\n",
            "해당 단어가 들어간 댓글: 13057 번 댓글 :  lt 윤석열 종부세 폐지 이재명은 합니다 gt 윤석열이 종부세 폐지를 들고 나왔다 민주당과 이재명 지지자들 사이에서는 자동차 세금이 아파트 종부세보다 더 비싸다며 반발하고 있다 또한 종부세 대상자가 적다며 강남주민들 특혜라고 한다 Kmt8RwaTft KLDE176txk\n",
            "해당단어의 아이디는 (2402, 1)\n",
            "해당 단어가 들어간 댓글: 13880 번 댓글 : 이재명 尹 청약통장 모른다더니 종부세 셀프감면 1 7 대변하는 정치그만 eUOLGWplAW 尹 종부세 누구에게 폭탄 종부세 낼1주택자는 전체 1 7 1 7 안에 윤석열 부부포함 30억원 부동산에 장기보유혜택 110만원 셀프감액 대안 세금이 국민에게가는것 국토보유세 통한 서민감세 j2An5onsh7\n",
            "해당단어의 아이디는 (14646, 1)\n",
            "해당 단어가 들어간 댓글: 14173 번 댓글 : 인천시의원들 99 국민 무시 셀프감세 윤석열 화끈한 회견 부자 감세한 만큼 서민 세금 늘릴거냐 MediaVOP UVEx5uMOgp\n",
            "해당단어의 아이디는 (15476, 1)\n",
            "해당 단어가 들어간 댓글: 14237 번 댓글 :  sosimhuman beads72 happy_CSR_ 이재명은 경기도지사할때는 경기도 세금으로 선거운동하더니 여당대선후보가 되더니 국민세금으로 선거운동을 해요 대한민국이 여다만의 것인가 전국민 70 가 반대하는데 윤석열은 세금 안뽑아써도 지지율 50 가 넘는데 \n",
            "해당단어의 아이디는 (269, 1)\n",
            "해당 단어가 들어간 댓글: 14316 번 댓글 : 종부세는 전면 재검토한다는 윤석열 후보 1 7 만 대변하는 정치는 하지 마십시오 이재명 너네들 세금 엄청 내야한다이 라고 국민을 속이려드는 권력자와 언론들 아프리카나 여느 미개한 나라와 똑같다 \n",
            "해당단어의 아이디는 (657, 1)\n",
            "해당 단어가 들어간 댓글: 14412 번 댓글 : MBC 윤석열 민주당 혈세 19조원을 대선 자금으로 쓰려 하나 추가로 걷힌 세금을 국민에게 돌려주는게 뭐가 문제입니까 그러라고 세금 내는겁니다 LrKX6qo4BC\n",
            "해당단어의 아이디는 (1817, 1)\n",
            "해당 단어가 들어간 댓글: 14414 번 댓글 : 오마이뉴스 이재명 윤석열 1 7 만 대변 윤석열 세금이 대선자금 윤석열은 부자감세를 외치며 국민의 복지에는 무관심한 모습을 보이고 있습니다 FNtegbkd2A\n",
            "해당단어의 아이디는 (657, 1)\n",
            "해당 단어가 들어간 댓글: 14742 번 댓글 : 이재명 윤석열 1 7 만 대변 윤석열 세금이 대선자금 출처 오마이뉴스 네이버 뉴스 If1yESszek 국민 1 7 는 무시해도 되는 국민인가 재명아 이 시벌럼아 국민중 일부는 개새끼냐 좀만한 새끼야\n",
            "해당단어의 아이디는 (136, 1)\n",
            "해당 단어가 들어간 댓글: 14825 번 댓글 : 윤석열 이재명 종부세 격돌 전면 재검토 vs 1 7 만 대변 이재명 종부세 낼 1주택자 전체 1 7 뿐 청약통장 모르면서 종부세 전면 재검토 윤석열 종부세 세금 폭탄 수입 준 사람 多 중장기 재산세에 통합 1주택자 면제 검토 출처 한국경제 뉴스 qXgG6rJGIl\n",
            "해당단어의 아이디는 (2195, 1)\n",
            "해당 단어가 들어간 댓글: 14898 번 댓글 : 윤석열이 풀겠다는 국민세금 50조는 오천만 국민 1인당 1백만원씩 4인가족 기준 가구당 400만원씩 지급가능한 규모의 돈인데 이 돈을 특정계층 일부에만 선별지원 세금낸 나머지 국민은 십원 힌징 혜택도 없는 이따위 정책을 지지한다는건 끼리끼리 해처먹을 멤버로서가 아니면 절대 불가능하지 \n",
            "해당단어의 아이디는 (33, 1)\n",
            "해당 단어가 들어간 댓글: 14967 번 댓글 : 떼부자 1 7 가 내야할 세금 98 3 에게 떠넘기기 일본 대변인 토착왜구 몰아내자 이재명 윤석열 청약통장은 모르고 종부세는 재검토 1 7 만 대변 다음뉴스 dVg21NFP8H\n",
            "해당단어의 아이디는 (108, 1)\n",
            "해당 단어가 들어간 댓글: 15041 번 댓글 : 이재명 윤석열 1 7 만 대변 윤석열 세금이 대선자금 출처 오마이뉴스 네이버 뉴스 0lSZbeiIQi\n",
            "해당단어의 아이디는 (199, 1)\n",
            "해당 단어가 들어간 댓글: 15103 번 댓글 : 집이 없어서 청약통장은 만들지 않았다라는 윤석열이 종부세 재검토 이것은 시장에서 순대 먹으며 대기업 세금 걱정하는 소리잖아 yKdCxRRRHw\n",
            "해당단어의 아이디는 (14647, 1)\n",
            "해당 단어가 들어간 댓글: 15161 번 댓글 : 이재명 윤석열 1 7 만 대변 윤석열 세금이 대선자금 이재명 종부세_재검토 전국민_방역지원금 윤석열 Wx4KP7M2HA 이경태 기자\n",
            "해당단어의 아이디는 (203, 1)\n",
            "해당 단어가 들어간 댓글: 15468 번 댓글 :  hanitweet 일부러 그런거다 세금 빼먹는 자 홍남기와 같은 자 구석 구석 숨어있다 이재명이 그랬다 공무원들 알아서 하라고 하면 본인들 하고 싶은데로 한다고 저 세수 룸을 만들었다가 윤석열한테 바치려고 \n",
            "해당단어의 아이디는 (10, 1)\n",
            "해당 단어가 들어간 댓글: 15570 번 댓글 : 강남에 30억 고가아파트 가진 윤석열 종부세 110만원 없애야 퇴직금 으로 아파트 매수한 60대 세금폭탄 에 결국 다음뉴스 h1C3M8Zq3G\n",
            "해당단어의 아이디는 (1064, 1)\n",
            "해당 단어가 들어간 댓글: 15642 번 댓글 :  종부세와 관련 윤석열은 완화라 했고 이재명은 국토보유세로 인상하자는데 그건 윤석열의 해법이 옳다고 본다 왜 기득권에 세금을 무리하게 올려봐야 곧 부메랑이 되어 임대료인상 gt 물가인상 gt 서민고통 가중으로 되풀이 될 수밖에 없다 세금 걷는다고 그게 다 좋은 건 아니다 \n",
            "해당단어의 아이디는 (3672, 1)\n",
            "해당 단어가 들어간 댓글: 15792 번 댓글 :  patriamea 권영세 이넘은 윤석열에게 공정 교육 을 받아야 할 넘이다 저런 쓰레기가 우리의 세금을 가져가다니 \n",
            "해당단어의 아이디는 (17108, 1)\n",
            "해당 단어가 들어간 댓글: 15939 번 댓글 :  Jaemyung_Lee 아니 부동산 해결하겠다더니 세금 뚜드릴 생각만 하고 경제 살린다더니 윤석열 욕만하고 젊은이가 힘들다고 하니 자기 약만 파네 십알 사법고시 없어졌는 데 사법고시 보라는 겨 머여 \n",
            "해당단어의 아이디는 (92, 1)\n",
            "해당 단어가 들어간 댓글: 16175 번 댓글 : 윤석열의 30억 원 고가 아파트 종부세 110만 원 세금 폭탄 인가 2021 11 17 뉴스외전 MBC 7As5dSL6Uy via YouTube\n",
            "해당단어의 아이디는 (920, 1)\n",
            "해당 단어가 들어간 댓글: 16363 번 댓글 : 이 고품질 공공 기본주택 vs 윤 세금 내리고 규제 푼다 뉴스데스크 zi9uHNxQJj 윤석열씨에게 조언하나 하자면 세금을 내릴려면 종부세 같은 부자들세금말고 서민들이 소득대비 더 많은 비율을 내는 부가가치세를 내려 그럼 서민들이 다 찍어줄꺼임 대신 재벌들과 등을져야함 \n",
            "해당단어의 아이디는 (216, 1)\n",
            "해당 단어가 들어간 댓글: 16556 번 댓글 : 주식시장에서의 주가조작은 제일 악랄한 쓰레기 시궁창 같은새끼다 조작으로 결국 개미들 돈 빨아먹게 다는거다 이런년을 어떻게 대한민국 세금을 지원하는 나라의 영부인으로 만들수는 없다 그래서 이런년을 부인으로 두고있는 윤석열새끼도 증거만 럾으면 끝까지 거짓말한다 양심이 개새끼다 \n",
            "해당단어의 아이디는 (905, 1)\n",
            "해당 단어가 들어간 댓글: 16923 번 댓글 :  TheMinjoo_Kr 이재명 자백 내가 설계자입니다 유동규는 실무자로 담당 임원이었죠 화천대유 대장동_남판교 이재명 전과4범_대장동설계자_이재명 국민 74 대장동 윗선 있다 국민 68 재난지원금 부정적 11兆 만들 세금 뭐가 있는데 vs 백혜련 전국민지원금 재원 묻자 與 침묵 \n",
            "해당단어의 아이디는 (11533, 1)\n",
            "해당 단어가 들어간 댓글: 17128 번 댓글 :  뉴스외전 정치 맞수다 30억 원 고가 아파트 종부세 110만 원 세금 폭탄 인가 2021 11 17 뉴스외전 MBC Khkn5YKwFh 출처 YouTube 윤석열 진정 국민을 위한 공약은 \n",
            "해당단어의 아이디는 (1064, 1)\n",
            "해당 단어가 들어간 댓글: 17282 번 댓글 : 내가 계속해서 주장한 내용 종부세는 동일물건 이중과세고 옥상옥이고 위헌이다 공시지가 조정해 세금폭탄이다 이를 반영한 윤석열 후보 전략 시기적절 굿\n",
            "해당단어의 아이디는 (3201, 1)\n",
            "해당 단어가 들어간 댓글: 17454 번 댓글 : 이재명의 계속되는 자충수 악수 국민들은 문재인 악몽때문에 세금이라면 치를떠는데 거기다 국토보유세를 걷는다는 공약을내세워 스스로를끝내기 이틈에 윤석열은 절세공약으로 국민 호응 불법적인 이중과세정책을 법리적으로 설명하며 종부세폐지 법인세도 곧 18 20 로 줄이기바란다 경기대상승\n",
            "해당단어의 아이디는 (1057, 1)\n",
            "해당 단어가 들어간 댓글: 17556 번 댓글 :  jhannes37 이게 윤석열이 종부세 없앤다하면 일반 중산층까지 아이쿠 저 양반이 우리 모두 세금 감면해주것네 한다 이말이죠 그래서 지금 지지율이 이리 폭락하는 것도 있겠습니다 이는 순전히 민주당의 눈높이 홍보부족으로 보입니다 \n",
            "해당단어의 아이디는 (785, 1)\n",
            "해당 단어가 들어간 댓글: 17576 번 댓글 : 윤석열은 종부세 과세 대상자다 본인의 감세를 위해 셀프 감세를 추진하는 윤석열 돈만 밝히고 돈이 전부인 졸부의 마인드다 종부세는 폭탄이 아니라 상위 4 국민의 명예다 세금 내기 싫으면 한국을 떠나시라 나도_종부세_내고싶다 avRyi1aMLh\n",
            "해당단어의 아이디는 (4108, 1)\n",
            "해당 단어가 들어간 댓글: 17698 번 댓글 :  yoeman6310 윤석열이 50조원 소상공인 지원하겠다 대통령 된다면 여기에 의심은 기재부와 국힘당과 내통하며 사전 올 세금이 50조원 가량 추가로 걷힐것이라 알려준것 아닌지 대한민국은 내부의 3 기득권 수꼴인 검찰당 검찰 사법부 기재부 금융 재벌들과의 싸움입니다 정신 차려 선거하자 oj0LE8vyQj\n",
            "해당단어의 아이디는 (1600, 1)\n",
            "해당 단어가 들어간 댓글: 17701 번 댓글 :  bkfire1004 윤석열이 50조원 소상공인 지원하겠다 대통령 된다면 여기에 의심은 기재부와 국힘당과 내통하며 사전 올 세금이 50조원 가량 추가로 걷힐것이라 알려준것 아닌지 대한민국은 내부의 3 기득권 수꼴인 검찰당 검찰 사법부 기재부 금융 재벌들과의 싸움입니다 정신 차려 선거하자\n",
            "해당단어의 아이디는 (1671, 1)\n",
            "해당 단어가 들어간 댓글: 17705 번 댓글 :  withmin413 esangmin 윤석열이 50조원 소상공인 지원하겠다 대통령 된다면 여기에 의심은 기재부와 국힘당과 내통하며 사전 올 세금이 50조원 가량 추가로 걷힐것이라 알려준것 아닌지 대한민국은 내부의 3 기득권 수꼴인 검찰 사법부 기재부 금융 재벌들과의 싸움입니다 정신 차려 선거하자\n",
            "해당단어의 아이디는 (1671, 1)\n",
            "해당 단어가 들어간 댓글: 17711 번 댓글 :  kimyong72790925 eduhimang 윤석열이 50조원 소상공인 지원하겠다 대통령 된다면 여기에 의심은 기재부와 국힘당과 내통하며 사전 올 세금이 50조원 가량 추가로 걷힐것이라 알려준것 아닌지 대한민국은 내부의 3 기득권 수꼴인 검찰 사법부 기재부 금융 재벌들과의 싸움 정신 차려 선거하자 QaItNahvhW\n",
            "해당단어의 아이디는 (1671, 1)\n",
            "해당 단어가 들어간 댓글: 17716 번 댓글 :  dpcorea Bulloger 윤석열이 50조원 소상공인 지원하겠다 대통령 된다면 여기에 의심은 기재부와 국힘당과 내통하며 사전 올 세금이 50조원 가량 추가로 걷힐것이라 알려준것 아닌지 대한민국은 내부의 3 기득권 수꼴인 검찰 사법부 기재부 금융 재벌들과의 싸움입니다 정신 차려 선거하자\n",
            "해당단어의 아이디는 (1640, 1)\n",
            "해당 단어가 들어간 댓글: 17719 번 댓글 :  ssaribi jktjj 윤석열이 50조 소상공인 지원하겠다 대통령 된다면 여기에 의심은 기재부와 국힘당과 내통하며 사전 올 세금이 50조원 가량 추가로 걷힐것이라 알려준것 아닌지 대한민국은 내부의 3 기득권 수꼴인 검찰 사법부 기재부 금융 재벌들과의 싸움입니다 정신 차려 선거하자 zfTYnUXIMo\n",
            "해당단어의 아이디는 (1600, 1)\n",
            "해당 단어가 들어간 댓글: 17721 번 댓글 :  moonriver365 윤석열이 50조원 소상공인 지원하겠다 대통령 된다면 여기에 의심은 기재부와 국힘당과 내통하며 사전 올 세금이 50조원 가량 추가로 걷힐것이라 알려준것 아닌지 의심이 대한민국은 내부의 3 기득권 수꼴인 검찰 사법부 기재부 금융 재벌들과의 싸움입니다 정신 차려 선거하자 lFlYoR5a2g\n",
            "해당단어의 아이디는 (1600, 1)\n",
            "해당 단어가 들어간 댓글: 17887 번 댓글 : 다행인건 윤석열이 종부세 폐지논란에 대해서 그저 국민들이 알아서 판단한다 고 완전 안일하게 대응중 이럴떄 적극적으로 강조해야 함 1 상위 4 가 재산 왕창 늘렸는데 왜 세금은 깎는가 2 종부세 폐지한다고 집값 내려갑니까 부자감세로 프레임 잡아서 박탈감 느끼게 해야 함 z3fGbE0B3A\n",
            "해당단어의 아이디는 (4089, 1)\n",
            "해당 단어가 들어간 댓글: 18042 번 댓글 :  윤석열 수사 주임검사 여운국 이재명 선대위 소속 민주당 의원 접촉 논란 공수처의 볼품 없는 수사력도 세금이 아까운 지경인데 엄정 중립을 지켜야 할 공수처가 정치에 개입하고 있는 모양새여서 존재의 이유에 의문을 갖게 한다 경험하기 싫은 나라를 만들었다 rAdGR3Xwdg\n",
            "해당단어의 아이디는 (2142, 1)\n",
            "해당 단어가 들어간 댓글: 18484 번 댓글 : 1 검찰공화국으로 가서 까부는 놈들 전부 기소하고 문재인 꼬뚜리잡아 감방 보내고 이재명 대장동 뒤집어 쒸워 옭아넣고 댓글에 우리 대통령 각하 윤석열 비방한 놈들 전부 벌금때리고 부자들 세금 깍아주고 토지구획 정리해 우리끼리 수천배 뻥 튀겨 우리끼리 나눠먹고 파리떼들 전부 모여라 썩은 \n",
            "해당단어의 아이디는 (4185, 1)\n",
            "해당 단어가 들어간 댓글: 18650 번 댓글 : 윤석열 300만세대 다주택자 세금 감면 900만 무주택자들 정부 주택정책실패 비판 무주택자들 빰 맞아가며 윤석열 지지 Zi0mCXgvos\n",
            "해당단어의 아이디는 (476, 1)\n",
            "해당 단어가 들어간 댓글: 18874 번 댓글 : 부자세금 은 없애고 서민부담 은 늘이는 정책 만 쏟아내는 윤석열 당장 연금 개혁하고 문재인 케어도 손봐야 omB6QIpsFJ\n",
            "해당단어의 아이디는 (105, 1)\n",
            "해당 단어가 들어간 댓글: 18910 번 댓글 : 정치라는게변수가많아올해안으로도어떤일이돌발변수로터질지예측할수없을정도다 이지명지지율이계속떨어저윤석열과겨차가점점벌어지자민주당내우려의목소리들이새어나오고있는실정이다 안철수심상정특히김동연은이재명윤석열의세금갖고다투는경제정책을두고경제의기본도모르는같잖은정책이라고비판했다\n",
            "해당단어의 아이디는 (24067, 1)\n",
            "해당 단어가 들어간 댓글: 19071 번 댓글 :  윤석열 서민 뺨 때리고 부자 머리 쓰다듬을건가 한판승부 다음뉴스 UgwxUBctVz 국가를 운영해야 하는데 부자들 세금을 깍아주면 나올데라곤 서민들 밖에 없는데 조선시대처럼 양반의 세금을 서민들이 내야 하는 거야 5공시대도 아니고 조선시대로 돌아가자고 \n",
            "해당단어의 아이디는 (2178, 1)\n",
            "해당 단어가 들어간 댓글: 19184 번 댓글 : 종부세 내는 국민 2 3프로 되나 일반 서민들은 내고 싶어도 재산이 없어 못내는 종부세를 윤석열이 깎아준다네 즉 부자들을 위해 그 얼마 되지도 않는 세금도 깎아준댜 \n",
            "해당단어의 아이디는 (8967, 1)\n",
            "해당 단어가 들어간 댓글: 19650 번 댓글 : 윤석열이 종부세를 세금폭탄이라 한 것에 대해 민변의 반박성명이 나왔다 매표행위에 불과하다 자동차세에 비하면 조족지혈 서울 20억주택 10년 소유한 퇴직자는 연 25만원 부담 전 국민의 4 공시지가 11억 시가 14 5억 넘어야 부담 종부세는 국세 보유세는 지방세라 통합 불가능하다 gR4FdbcP2j\n",
            "해당단어의 아이디는 (145, 1)\n",
            "해당 단어가 들어간 댓글: 19751 번 댓글 : 국민 4 만 내는 세금 종부세 종부세가 과다하다는 분들 투기꾼 또는 다주택자 민변 윤석열 종부세 폭탄으로 선동 투기꾼 다주택자 주장 답습 다음뉴스 p8zQmu7UPY\n",
            "해당단어의 아이디는 (90, 1)\n",
            "해당 단어가 들어간 댓글: 19779 번 댓글 :  sdsdsdss613 적폐는 좌우를 가리지 않는다 경기도민 세금 탕진하고 대장동 부동산 폭등의 주범이 이재명인데 윤석열만 깐다고 우주를 낼름 말아먹을 최악의 범죄자인 이재명을 뒤에 두고 우리가 국민의짐당을 욕할 자격 하나도 없다 \n",
            "해당단어의 아이디는 (179, 1)\n",
            "해당 단어가 들어간 댓글: 19782 번 댓글 : 국가 부채는 낮고 개인국민부채는 높은 우리나라 이다 국민이 죽든 말든 국가 재정과 기재부의 관료기득권 놀음으로 서민과 민생 지원은 외면하고 있다 세금이나 세율이 낮으면 부동산투기와 유류 사용 등으로 모두 부자들만 살판 나는 윤석열의 정책들이다 \n",
            "해당단어의 아이디는 (3809, 1)\n",
            "해당 단어가 들어간 댓글: 19907 번 댓글 : 상위1ㆍ7 의 종부세를 줄이고 98 의 서민들에게 세금을 더 부과하겠다는 윤석열측은 정상이 아니지 박근혜처럼 부자감세하고 담배세 올린것처림 서민들에게 더 걷겠다는거지뭐 마치 서민들 세금을 깍아주겠다고 착각하는 98 의 국민들은 잘생각해보길 돈있는곳에 세금 있는거야 서민들아 속지마라\n",
            "해당단어의 아이디는 (216, 1)\n",
            "해당 단어가 들어간 댓글: 20014 번 댓글 :  nkNHrTuWyDiZKHs Mzwdj8eTiv2vi8n Jaemyung_Lee 이재명은 합니다 믿어 보세요 윤석열은 종부세를 폐지한다죠 1 7 부자들을 위해 98 3 국민에게 세금 뜯어내고 목조르겠죠 그래도 그런당과 후보가 더 믿음이 간다면 더 이상 무슨 말이 필요할까요 이명바그네는 명함도 내밀 수 없을만큼 끔찍하고 잔인무도한 세상을 경험할지도 \n",
            "해당단어의 아이디는 (790, 1)\n",
            "해당 단어가 들어간 댓글: 20113 번 댓글 : 이재명이 인물면에서는 10 를 앞서고 있는데 지지율은 10 뒤지고 있다 국민들은 윤석열이 되면 세금이 줄어든다 생각하기 시작한다 국민들은 윤석열이 당선되어도 직접적인 불편함과 폐해를 알지 못한다 이 점을 간과하면 안된다 민주당 진보유투버 모든것을 아전인수격 해석해선 안된다 \n",
            "해당단어의 아이디는 (136, 1)\n",
            "해당 단어가 들어간 댓글: 20411 번 댓글 : 버러지 같은 놈 시민 세금으로 호의호식하면서 편리 봐 줬으니 도움을 달라 힘 합칠 때 윤석열 나경원에 공동선대위원장 제안 다음 뉴스 co3DXbhfwB\n",
            "해당단어의 아이디는 (16, 1)\n",
            "해당 단어가 들어간 댓글: 20433 번 댓글 : 윤석열이 종부세를 전면 재검토하겠다며 재산세에 통합과 1주택자에게 면제를 제안했습니다 종부세를 유명무실하게 만들겠다는 건데요 불로소득에 매기는 세금을 저렇게 반대하는건 역시 부인과 장모가 가진 재산이 많은 이유일까요 셀프로 세금을 깎겠다니 가진놈은 뭐가 달라도 다르네요 FAklpoLnXV\n",
            "해당단어의 아이디는 (3840, 1)\n",
            "해당 단어가 들어간 댓글: 20457 번 댓글 :  파주 요양병원 윤석열 장모가 주도한 것 맞다 다음뉴스 bYWCRdLGlh 이상한 가족 내 세금을 갈취 \n",
            "해당단어의 아이디는 (10266, 1)\n",
            "해당 단어가 들어간 댓글: 20476 번 댓글 :  윤석열 종부세 다주택자들 타깃 선동 국민 96 무관 민변 4 에 표달라 박태웅 부자 돈 아껴 우리가 세금 더 내자는 말 GYxswvlOzj 출처 고발뉴스\n",
            "해당단어의 아이디는 (5727, 1)\n",
            "해당 단어가 들어간 댓글: 20505 번 댓글 :  TheMinjoo_Kr 연합뉴스 폐방시켜야 한다 국민세금 한해 300억 넘게 받으며 언론기능 안하는 방송사는 국민의 짐이다 국고보조금도 이참에 폐지하는게 마땅하다 후보교체 없는 한 윤석열이다 같이 죽을래 후보교체 하고 살래 절대_이재명은_안찍는다\n",
            "해당단어의 아이디는 (195, 1)\n",
            "해당 단어가 들어간 댓글: 20517 번 댓글 : 윤석열의 종부세 발언은 민주당으로선 좋은 공격 기회다 민주당은 당장 거리마다 플래카드 써붙여라 윤석열 말처럼 종부세 없애면 서민들 세금만 늘어난다 윤석열은 종부세 내는 1 7 부유층 위해 가난한 서민들 다 죽일 거냐 종부세 깍아주자는 부자정당 국민의 힘 니들만 국민인가 \n",
            "해당단어의 아이디는 (639, 1)\n",
            "해당 단어가 들어간 댓글: 20674 번 댓글 :  IXUB72tyK6bQY0Z 윤석열은 반포에서 최고가 아파트에 살면서 세금내기 아까워 죽겠지 이사가라 시골로\n",
            "해당단어의 아이디는 (5237, 1)\n",
            "해당 단어가 들어간 댓글: 20762 번 댓글 : 윤석열의 정치는 먹고 마시고 막말로 배설하는 것이 전부인 것 같다 문제는 국민 세금으로 이짓을 버젓이 한다는 것이다 누가 이 호사 누릴 권리를 준 건가 6t36o3XKab\n",
            "해당단어의 아이디는 (536, 1)\n",
            "해당 단어가 들어간 댓글: 20819 번 댓글 : 민주당은 윤석열 국민의힘 대선후보가 주장한 1주택자 종부세 전면 검토에 대해서는 양보할 수 없는 지점 이라고 못을 박았습니다 종부세 폐지 논란은 소수 0 19를 위한 것 0 19 소수를 위해 전체 세금에 대해 큰 문제가 있는 것처럼 보이게 하는 것 4irVZNe8jL\n",
            "해당단어의 아이디는 (9275, 2)\n",
            "해당 단어가 들어간 댓글: 20829 번 댓글 : 윤석열이 종부세를 전면 재검토하겠다며 재산세에 통합과 1주택자에게 면제를 제안했습니다 종부세를 유명무실하게 만들겠다는 건데요 불로소득에 매기는 세금을 저렇게 반대하는건 역시 부인과 장모가 가진 재산이 많은 이유일까요 셀프로 세금을 깎겠다니 가진놈은 뭐가 달라도 다르네요 CQEBo0d7qk\n",
            "해당단어의 아이디는 (3200, 1)\n",
            "해당 단어가 들어간 댓글: 20848 번 댓글 : 윤석열 폭탄 발언 종부세는 상위 2 만 내는거 나도 없지만 20억 30억 집도 없고 이런 종부세 낼 수 있는 사람이 전체 4 인데 이 정책을 지지 한다고 왜 개돼지가 이리 많은지 이제서야 집이 있어도 종부세 내고 싶어도 못내는 세금이 종부세야 왜냐 96 는 해당되지 않는 사람이거든 좀 알고 지지를 6JbH4rPNaq\n",
            "해당단어의 아이디는 (2195, 1)\n",
            "해당 단어가 들어간 댓글: 21136 번 댓글 : 윤석열 측 李 재밌는 강남 세금 폭탄 눈앞에 있는데 모욕적 동아닷컴 8XbDNGT35W\n",
            "해당단어의 아이디는 (1191, 1)\n",
            "해당 단어가 들어간 댓글: 21198 번 댓글 : 김두관 종부세는 우리나라에서 약 따라서 윤석열 공약의 핵심은 강남구청으로 세금을 몰아주고 강남만 잘사는 나라를 만들겠다는 것입니다 윤석열 후보는 자신의 지지기반의 핵심이 어디인지를 정확히 간파하고 있습니다 tgzWfIPDvO Y0SFY5IJLL\n",
            "해당단어의 아이디는 (659, 1)\n",
            "해당 단어가 들어간 댓글: 21309 번 댓글 :  윤석열 종부세 다주택자들 타깃 선동 국민 96 무관 고발뉴스닷컴 xRBuseC3YG 민변 4 에 표달라 박태웅 부자 돈 아껴 우리가 세금 더 내자는 말 출처 고발뉴스닷컴 xRBuseC3YG\n",
            "해당단어의 아이디는 (16740, 1)\n",
            "해당 단어가 들어간 댓글: 21406 번 댓글 : 적폐의 모든 것들 게시물 Facebook 윤석열이 종부세를 전면 재검토하겠다며 재산세에 통합과 1주택자에게 면제를 제안했습니다 종부세를 유명무실하게 만들겠다는 건데요 불로소득에 매기는 세금을 저렇게 반대하는건 역시 부인과 장모가 가진 재산이 많은 이유일까요 JnNuE30cWS\n",
            "해당단어의 아이디는 (7528, 1)\n",
            "해당 단어가 들어간 댓글: 21436 번 댓글 :  미디어스 11 16 윤석열이 폭탄 취급하는 종부세는 민변 자산 지역 불평등 해소할 수 있는 좋은 세제 다주택자 600만 표 타겟팅 발언 종부세 는 내고 싶다고 낼 수 있는 세금이 아니다 대한민국 4 에게만 명예롭게 부과되는 세금 g43zQwxVDq BFMylbhSRF\n",
            "해당단어의 아이디는 (9519, 1)\n",
            "해당 단어가 들어간 댓글: 21557 번 댓글 : 김기현 이재명 재난지원금 윤석열과 논의 국면전환 꼼수 다음 뉴스 qclhFWspbn 이거 이거 보세요 전국민 뭐 해주겠다 해도 싫다고 하는데 민주당은 뭐하러 그럽니까 대신 내 세금이나 깎아주세요 국힘당 세비로 여러 복지비로 나가는 내 세금 꼬박꼬박 내기 싫으니까 \n",
            "해당단어의 아이디는 (4319, 1)\n",
            "해당 단어가 들어간 댓글: 21672 번 댓글 : 민주사회를 위한 변호사모임이 윤석열 국민의힘 대선 후보의 종부세_폭탄 발언을 반박했다 종부세 내고 싶다고 낼 수 있는 세금 아냐 자산 지역 불평등 해소할 수 있는 좋은 세제 5RA5uB5Z0r\n",
            "해당단어의 아이디는 (3793, 1)\n",
            "해당 단어가 들어간 댓글: 21776 번 댓글 : 이재명 세금 뿌리기 윤석열 50조 왜 쌍특검도 안하지 \n",
            "해당단어의 아이디는 (10, 1)\n",
            "해당 단어가 들어간 댓글: 21825 번 댓글 : 윤석열이 종부세를 전면 재검토하겠다며 재산세에 통합과 1주택자에게 면제를 제안했습니다 종부세를 유명무실하게 만들겠다는 것인데요 불로소득에 매기는 세금을 저렇게 반대하는 건 부인과 장모가 가진 재산이 많은 이유일까요 셀프로 세금을 깎겠다니 가진 놈은 뭐가 달라도 다르네요 rCGm1AXLzp\n",
            "해당단어의 아이디는 (3840, 1)\n",
            "해당 단어가 들어간 댓글: 21885 번 댓글 : 종부세는 세금 폭탄이라며 걱정 없게 전면 재검토 한다는 윤석열 국민의 96 는 종부세와 아무 상관없다 gDa50gi6WB\n",
            "해당단어의 아이디는 (205, 1)\n",
            "해당 단어가 들어간 댓글: 21963 번 댓글 : 민변 윤석열 4 에 표달라 한 것 박태웅 종부세 감세 부자 돈 아껴 우리가 세금 더 내자는 말 JmXhtbFWP4 마트는 고발마트 rDj84qoaxd f5j3nQ9hSk\n",
            "해당단어의 아이디는 (1694, 1)\n",
            "해당 단어가 들어간 댓글: 21965 번 댓글 : 표 쫓는 지원금 과세 연기 남발 세금정치 度 넘었다 이재명이 세금 뿌린다고 윤석열은 할 술 더 떠서 50조 뿌리고 zfGiTLo76B\n",
            "해당단어의 아이디는 (1024, 1)\n",
            "해당 단어가 들어간 댓글: 21992 번 댓글 : 겁나 싼 국산차 타고 다닐 때 내는 세금과 서초 아크로 살 때 내는 세금은 좀 차이가 나야하지 않을까 세금폭탄이라니 대통령 후보로서 자격없고 그를 지지하는 국힘당은 국짐당이다 어쩔 수없다 한겨레 윤석열 집부자들만 위한 대통령 되겠다는 건가 다음 뉴스 nVG8UJJEAb\n",
            "해당단어의 아이디는 (33, 1)\n",
            "해당 단어가 들어간 댓글: 21993 번 댓글 : 어느계층이든 세금 은 민감한 주제고 누구든지 감세를 좋아하지 증세는 좋아하지 않음 그러니 세금 걷어서 뭐뭐 하겠다 는 말보단 종부세 폐지하면 서민들이 세금 부담 떠안는다 종부세 폐지하면 설령 윤석열이 증세 안한다고 해도 서민들의 혜택이 줄어드니 부담 늘어난다 식으로 프레임 잡아야\n",
            "해당단어의 아이디는 (86, 1)\n",
            "해당 단어가 들어간 댓글: 22017 번 댓글 : 윤석열이 대통령에 당선된다면 서민 노동자들은 세금폭탄에 곡소리나지 싶다 전체 인구의 채 10 도 안되는 갑부들어게 조차 종부세를 안 거두면 결국 그 결손분은 노동자들의 급여에서 원천징수 당할 것은 명약관화하다 해야 할 것 물대포 최루탄도 다시 자주 보게 될 듯 F8hrVz9UBD\n",
            "해당단어의 아이디는 (216, 1)\n",
            "해당 단어가 들어간 댓글: 22059 번 댓글 :  종부세 대상자는 전국민의 1 7 1가구1주택 고령층 장기보유자의 경우 시가 20억원 아파트의 종부세는 25만원 아래 종부세가 현행대로 국세여야 전 국민을 대상으로 세금을 쓸 수 있음 윤석열의 공약대로 지방세로 전환할 경우 지역 불평등이 심해짐 \n",
            "해당단어의 아이디는 (7534, 1)\n",
            "해당 단어가 들어간 댓글: 22066 번 댓글 : 펌 글 종부세 종합부동산세를 왜 걷는지 아세요 종부세는 국세 재산세는 지방세 입니다 지방세 중에서도 도단위 세금이 아니라 구 시 군 단위로 걷는 세금 입니다 윤석열의 제안대로 종합부동산세를 재산세로 통합하면 결국 서울 강남구청은 돈이 남아 돌아 갑니다 \n",
            "해당단어의 아이디는 (3200, 1)\n",
            "해당 단어가 들어간 댓글: 22116 번 댓글 : 한겨레 윤석열 집부자들만 위한 대통령 되겠다는 건가 윤석열 집에 종부세 대상이니 세금 내기 싫은거다 종부세를 일반 서민들에게 재산세라는 명목으로 나눠서 대신 부과시키고 싶어하는 윤석열을 보면 지지하고 부자를 위해 세금은 더 내겠다는 모지리들 dPLH6HH9WM\n",
            "해당단어의 아이디는 (725, 1)\n",
            "해당 단어가 들어간 댓글: 22188 번 댓글 :  윤석열 종부세 폭탄 발언은 선동 민변 규탄 성명 개기렉들 선동에 종부세에 포함도 안 되는 것들이 광분하고 결국 있는 놈들 세금 깍아주는데 앞장서는 이 개가튼 현상은 머냐 왜 아무나 낼수 없는 돈많은 우리나라 상위 4 를 걱정하냐 sLsaidLRup\n",
            "해당단어의 아이디는 (1127, 1)\n",
            "해당 단어가 들어간 댓글: 22258 번 댓글 : 김태근 민변 변호사 종부세는 낼 수 있다고 내는 세금이 아네요 우리나라에 4 에게만 혜택이 있는 세금이니 걱정하지 마세요 윤석열 지지하는 약 40 세력은 전생에 종놈 노비 출신이어서 대감마님 걱정하는 사실을 김변이 모르고 있다고 본다 38jlkCyVaa\n",
            "해당단어의 아이디는 (233, 1)\n",
            "해당 단어가 들어간 댓글: 22282 번 댓글 : 실제 국민이 상식이 있고 판단력이 있다면 성추행 대장동비리 부동산 전세폭등 세금폭탄 민주당 이재명 후보를 찍을 사람들이 없을텐데 압도적 승리를 위해 윤석열후보 에게 표를 몰아줘야한다 \n",
            "해당단어의 아이디는 (1595, 1)\n",
            "해당 단어가 들어간 댓글: 22293 번 댓글 : 이재명 대통령 되면 홍남기 따위가 반발할것 같냐고 홍남기가 개기는게 정상이냐 공무원은 대통령이 까라면 까는거야 꼬우면 사표 내는거고 국민의 세금을 먹는 직업이 어딜개겨 윤석열 당신말이야\n",
            "해당단어의 아이디는 (4059, 1)\n",
            "해당 단어가 들어간 댓글: 22415 번 댓글 : 윤석열의 종부세 발언 이것은 부자를 위한 것도 아니고 국민을 위한것도 아닙니다 단순히 자신만 세금을 안내고 싶은겁니다 전형적인 소인배 특징 \n",
            "해당단어의 아이디는 (3200, 1)\n",
            "해당 단어가 들어간 댓글: 22475 번 댓글 : 부자들의 종부세를 폐지하면 결국 세금 부담은 오롯이 국민에게 전가됩니다 국민이 부자들의 세금을 대신 내주는 모양새가 됩니다 청약통장도 모르는 윤석열이 종부세 폭탄 타령을 합니다 민어회에 폭탄주 마시더니 헛소리를 해서 국민 염장을 지릅니다 윤석열_폭탄 H32OFsavcG\n",
            "해당단어의 아이디는 (278, 1)\n",
            "해당 단어가 들어간 댓글: 22477 번 댓글 :  청약통장도 모르는 윤석열이 종부세는 알까요 윤석열이 대한민국 상위 2 가 내는 부자세인 종부세를 없애겠답니다 코로나로 고통받는 국민에게 10만원의 재난지원금을 지급하는 것도 포퓰리즘이라더니 부자들의 세금을 없애준답니다 HjGOhOfVKx\n",
            "해당단어의 아이디는 (18063, 1)\n",
            "해당 단어가 들어간 댓글: 22513 번 댓글 :  윤석열 종부세 폭탄 발언은 선동 민변 규탄 성명 다음 뉴스 goniDlf0PI 노무현대통령때 한나라당이 세금폭탄 으로 재미 좀 봤거든 국민이 개돼지라 \n",
            "해당단어의 아이디는 (3201, 1)\n",
            "해당 단어가 들어간 댓글: 22617 번 댓글 : Fighting Stigma 종부세가 세금 폭탄 尹 향한 참여연대 일침 공공뉴스 공공뉴스 정혜경 기자 대통령에 당선되면 종합부동산세를 전면적으로 재검토하겠다 는 윤석열 국민의힘 대선 후보의 발언에 대해 참여연대가 시대착오적 LK8l68U1fX\n",
            "해당단어의 아이디는 (56, 1)\n",
            "해당 단어가 들어간 댓글: 22741 번 댓글 :  augusjin Jaemyung_Lee 통역을 통역 마사지 해주는 사람도 있었다니 세금 아끼려면 윤석열은 더더욱 아니되옵니다\n",
            "해당단어의 아이디는 (3200, 1)\n",
            "해당 단어가 들어간 댓글: 22784 번 댓글 : 연합 포털에서 퇴출 됐는데 세금지원도 퇴출 시키자 윤석열이 앞머리 올렸다는 뉴스나 보도하는 언론이 뭔 필요가 있나 \n",
            "해당단어의 아이디는 (163, 1)\n",
            "해당 단어가 들어간 댓글: 22991 번 댓글 : 한줄요약 이재명 국가가 나서서 부동산 투기 이익을 세금으로 환수해 국민들에게 환원 기본소득 지급 윤석열 국가가 나서서 부동산 폭리를 40억대 주택보유 투기꾼들에게 그대로 전달 강남 펜트하우스에서 편히 놀고먹는 부자들 배불려줄 사람을 대통령에 앉히면 지난 이명박근혜 9년꼴 나는건\n",
            "해당단어의 아이디는 (454, 1)\n",
            "해당 단어가 들어간 댓글: 23065 번 댓글 :  이슈체크 이재명 vs 윤석열 부동산 세금 공약 어떻게 다른가 bl5q1TMojF\n",
            "해당단어의 아이디는 (2314, 1)\n",
            "해당 단어가 들어간 댓글: 23092 번 댓글 : 윤석열이 부자세인 종부세를 폐지하면 결국 그 세금은 국민 전체가 나눠 대신 내는 꼴 종부세 재검토 vs 국토보유세 대선 쟁점 떠올랐다 출처 SBS 네이버 뉴스 4Wr5SydwFD\n",
            "해당단어의 아이디는 (216, 1)\n",
            "해당 단어가 들어간 댓글: 23171 번 댓글 : 이재명 윤석열 부동산 세금 전쟁 본격화 FdiNDLwFPI 간단히 이재명은 서민편 윤석열은 재벌편\n",
            "해당단어의 아이디는 (1192, 1)\n",
            "해당 단어가 들어간 댓글: 23383 번 댓글 :  yonhaptweet 국가지원금도 삭감해야돼 윤석열기관지에 왜 국가세금이 들어가냐고\n",
            "해당단어의 아이디는 (34261, 1)\n",
            "해당 단어가 들어간 댓글: 23451 번 댓글 :  Chosun 좃선일본 구더기 새끼들은 허위광고를 많이 했지 발행부수 속여서 국민세금 많이 빼앗아 갔지 좃선일본 구더기 새끼들은 국민을 대상으로 사기를 친거야 그렇지 내 생각이다 \n",
            "해당단어의 아이디는 (6103, 1)\n",
            "해당 단어가 들어간 댓글: 23496 번 댓글 : 2021 11 15 SBS 뉴스 종부세 재검토 vs 국토보유세 대선 쟁점 떠올랐다 국민의힘 윤석열 후보가 종합부동산세를 전면 재검토하겠다고 나서자 민주당 이재명 후보는 토지에 세금을 매겨서 기본소득의 재원으로 쓰겠다는 국토보유세 공약을 다시 꺼내며 맞불을 놔 PMr7GF7krc\n",
            "해당단어의 아이디는 (4275, 1)\n",
            "해당 단어가 들어간 댓글: 23500 번 댓글 : 종부세 없애겠다는 윤석열 지지자들은 자신에게 9억원 이상의 부동산이 있는지 다시 확인해 보시길 이런 데서 세금을 없애면 당연히 다른 데서 증세를 해야 한다 윤석열은 고소득층을 위해 서민증세를 할 것 QfsCUg4jdB\n",
            "해당단어의 아이디는 (3200, 1)\n",
            "해당 단어가 들어간 댓글: 23634 번 댓글 : 윤석열 종부세 전면 재검토 국민 98 3 는 가라 1 7 가 중요하다 박태웅 최상위 1 7 가 내지 않으면 나머지를 우리가 내야 한다 부자 돈 아껴주게 우리가 세금 더 내자는 말 이태경 종부세 형해화되면 투기는 더 기승 주택가격은 폭등 줄어든 종부세수 서민들이 3dAmVs7VnJ\n",
            "해당단어의 아이디는 (3809, 1)\n",
            "해당 단어가 들어간 댓글: 23851 번 댓글 : 윤석열 종부세 폐지 공약은 윤석열과 김건희가 낼 세금 폐지하겠다는거지 그 비싼집에 살면서 세금도 안내겠다는거지 \n",
            "해당단어의 아이디는 (1458, 1)\n",
            "해당 단어가 들어간 댓글: 24000 번 댓글 : 종부세 비판론은 맞는말이다 근데 지역균형 발전 없이 세금만으로 집값을 잡겠다라 너님도 윤석열 만큼 현실성 없는거 생각안하죠 수도권 거주인구 분산 외에 집값 잡을 최종적 방법없음 공급확대 죽죽 해봐야 수요 자체를 줄이지 않으면 집값 영원히 못잡음 \n",
            "해당단어의 아이디는 (645, 1)\n",
            "해당 단어가 들어간 댓글: 24001 번 댓글 : 종부세가 세금 폭탄 참여연대 윤석열 국힘 후보에 화살 oX6rfNw0tg\n",
            "해당단어의 아이디는 (103, 1)\n",
            "해당 단어가 들어간 댓글: 24139 번 댓글 :  hankookilbo 딱 이명박 시즌2 그떄와 판박이 노무현때 국민신조어가 웰빙일정도로 복에 겨워 사기꾼 새끼 뽑더만 아직도 정신 못차리고 종부세 세금폭탄 외치는 부일매국노 자식새끼 지지하는 병신들과 연일 윤석열 대통령 만들기에 올인하는 한국일보 개새끼 그래 윤을 뽑아서 또 맛봐라 헬조선의 깊은맛을\n",
            "해당단어의 아이디는 (1884, 1)\n",
            "해당 단어가 들어간 댓글: 24317 번 댓글 :  napalmogi 지랄들 하고있네 집 몇채씩 가진자 세금 없애서 집 더 사재기 하라고 집값 올리는 범인이 윤석열이네 종부세 한국 상위 몇 가 내냐 일반 국민들도 그정도는 안다 윤석열이 좋아하는 폭탄주 먹고 쥴리랑 개사과 먹고 살아라 한국 국민들에게 민폐끼치지 말고 김기현이 1800배 이익 가진자 는 걍아닥혀\n",
            "해당단어의 아이디는 (148, 1)\n",
            "해당 단어가 들어간 댓글: 24357 번 댓글 : 20억 아파트 125만원 세금내는게 폭탄인가 윤석열의 무식한 선동이 폭탄이다 민변 윤석열 종부세 재검토 공약 비판 폭탄으로 선동 gbLknI1wbx\n",
            "해당단어의 아이디는 (920, 1)\n",
            "해당 단어가 들어간 댓글: 24392 번 댓글 :  윤석열 국민의힘 대선후보가 종합부동산세 종부세 전면 재검토를 공약하며 집부자_민심 을 잡겠다는 뜻을 분명히 했다 보수 경제지 종부세 고지서 발송 코앞 약탈적 세금 주장 기승 집값 상승 외면 상위_2 부담 주목 xt6IzAPJf2\n",
            "해당단어의 아이디는 (3199, 1)\n",
            "해당 단어가 들어간 댓글: 24651 번 댓글 :  종부세 재검토 윤석열에 與 부자 본색 드러낸 것 비판 다음뉴스 695PXLkabS 종부세는 가진 자들이 내는 세금 즉 도둑의힘당은 부자들을 위한 정책을 쏟아낸다 이거지 개천에서 용나는걸 가장 싫어라함 이게 윤짜장의 도둑의힘 당은 근본 보고 있나 2030 \n",
            "해당단어의 아이디는 (331, 1)\n",
            "해당 단어가 들어간 댓글: 24682 번 댓글 : 민변 종부세를 폭탄으로 선동 尹 재검토 주장 비판 jwgANXJ6ia 윤석열 미국 주택 세금 연간 매매가격의 최고 3 5 평균 2 5 최하 1 05 알고 있나요 보유세 재산세 싸면 투기세력이 아파트 시장 좌지우지 한다 부동산 투기 부추기지 마라 처나 장모에게 물어 봐 \n",
            "해당단어의 아이디는 (695, 1)\n",
            "해당 단어가 들어간 댓글: 24857 번 댓글 : 합리적 제안 내년으로 미룰 이유가 뭐 재난소득 세금으로 돈 퍼준다는 이야기가 있지만 경제 정책의 일종 소비 쿠폰 형태니까 소득주도 성장을 위한 것이라 봐야 기업들 천문학적 돈 투자해서 경제 돌리는 것보다 나아 윤석열에 이재명의 제안 HA4jS6SpsO\n",
            "해당단어의 아이디는 (664, 1)\n",
            "해당 단어가 들어간 댓글: 24918 번 댓글 : 與 윤석열 종부세폐지 내용도 모른채 부자본색 드러낸 것 t6MTPgeBaq 무식해서 용감한케이스 허나 다주택자의 세금은 현행보다 배이상 중과세 필요\n",
            "해당단어의 아이디는 (4394, 1)\n",
            "해당 단어가 들어간 댓글: 24991 번 댓글 : 이재명 윤석열 두 대통령의 부동산 세금정책 비교 브레이크뉴스 tncaL2YeuJ\n",
            "해당단어의 아이디는 (331, 1)\n",
            "해당 단어가 들어간 댓글: 25065 번 댓글 : 윤석열 종부세 폭탄 걱정 없게 하겠다 종부세 폐지 시사 논란 그냥 세금은 매달 월급을 받는 직장인들에게만 걷겠습니다 그래라 그리고 청년들은 18시간 일을 하고 참 좋은 나라 되겠다 CEGz8M9Kf3\n",
            "해당단어의 아이디는 (245, 1)\n",
            "해당 단어가 들어간 댓글: 25087 번 댓글 : 윤석열 문재인 정부 향해 돈 뿌리기 그만하고 물가 대책에 주력해야 다음 뉴스 So40mXHRIT 정부가 잘못했네 이제 재난지원금은 꼭 선별합시다 기초생활비 국가장학금 반값등록금이 다 무슨 소용인가요 내가 낸 피 같은 세금으로 정부는 돈 그만 뿌려요 윤석열 화이팅 \n",
            "해당단어의 아이디는 (35749, 1)\n",
            "해당 단어가 들어간 댓글: 25149 번 댓글 : 이재명 소비쿠폰 전국민에 올해 지급하자 윤석열에 역제안 JOrnNOFuI2 니 돈으로 해라 3억 아파트가 20억이 되었다면 아파트 팔아서 소비 쿠폰을 줘라 종부기 넘들 내 돈은 아깝고 국민 세금이 자기 주머니 돈 쓰듯 한다\n",
            "해당단어의 아이디는 (34899, 1)\n",
            "해당 단어가 들어간 댓글: 25220 번 댓글 : 국민의힘 윤석열 후보 역시 종부세 전면 재검토 를 내걸며 재분배 및 부동산 가격 조정 위한 세금의 원칙을 허무는 발언을 이어가고 있습니다 종부세에 접근조차 하지 못하는 무주택자의 주거권은 안중에도 없고 오직 종부세를 낼 만큼 비싼 부동산을 보유한 이들의 이익에만 몰두하고 있습니다 \n",
            "해당단어의 아이디는 (1240, 1)\n",
            "해당 단어가 들어간 댓글: 25221 번 댓글 : 윤석열 종부세는 세금폭탄 사실상 종부세 폐지 공약 htQFEzlGWf 부자감세 수구 꼰대 기득권\n",
            "해당단어의 아이디는 (981, 1)\n",
            "해당 단어가 들어간 댓글: 25357 번 댓글 : 종부세 페지는 부자들의 세금 감면인데 민주당 아무 소리도못해 Jaemyung_Lee 종부세 폐지 부당함 조목조목 반박하고 침금피크제 페지로 맞서라 임피제 페지마저 선수 뺏기지 말고 윤석열 종부세 전면 재검토 점퍼 입고 야구장 찾아 출처 SBS 네이버 뉴스 mNfD6n2ICo\n",
            "해당단어의 아이디는 (107, 1)\n",
            "해당 단어가 들어간 댓글: 25398 번 댓글 :  다자대결서 윤석열 45 6 이재명 32 4 격차 벌어져 출처 서울신문 네이버 뉴스 9lNQOLx4tn 지지철회한 모든 민심중 난 담배세금 담배값 담뱃세인하 약속 어긴 민주당의 5년에 한이 맺혔다 심판 받어야지 흡연 담배를 팔며 금연 진정한 흡연충조직들아\n",
            "해당단어의 아이디는 (3249, 1)\n",
            "해당 단어가 들어간 댓글: 25460 번 댓글 : 한겨레 그림판이 또 한겨레 그림판 했네 세금 낼 직장도 없는 20대 세금 깍아준다고 헛발질한건 어제 민주당 이재명인데 왜 여기 윤석열을 넣어 종부세 폐지 언급은 적절한지 의문이지만 2030에 깍아준다고 한것도 아닌데 그림판으로도 가짜 뉴스를 만들 수 있다니 창의적이긴 하다 teUJ3q20L0\n",
            "해당단어의 아이디는 (26, 1)\n",
            "해당 단어가 들어간 댓글: 25474 번 댓글 :  BnmJ6ygNqFIXkdY SangYi21 이재명 보단 윤석열이 100 나으니깐 당신은 나중에 이재명되서 세금 많이 내도 불만 갖지말고 욕도 하지마 우린 안뽑고 욕할거니깐\n",
            "해당단어의 아이디는 (710, 1)\n",
            "해당 단어가 들어간 댓글: 25483 번 댓글 : 윤석열씨가 전체 1 2 대상의 소득 최상위층 부자들 종부세 세금 면해주고 부자 대변해 정치하겠다고 한다 서민들 재난지원금은 세금낭비한다는 듯 반대하고 복지도 축소 한다고 하니 윤석열 대통령되면 부자 만세 서민들과 청장년층 및 노인들은 암울한 세상 자명해 보인다 \n",
            "해당단어의 아이디는 (1915, 1)\n",
            "해당 단어가 들어간 댓글: 25640 번 댓글 : 윤석열 종부세는 세금폭탄 사실상 종부세 폐지 공약 제2의 박그네가 문통인줄 알았는데 윤 전총장 이었네 쩝 CRrjaOmb1e\n",
            "해당단어의 아이디는 (207, 1)\n",
            "해당 단어가 들어간 댓글: 25788 번 댓글 : 국민의힘 윤석열 가족사기단 세금을 걷어서 나눠줄 거면 일반적으로 안 걷는 게 제일 좋다 韓 노인빈곤 문제 심각 연금 월 수령액 83만원 일본의 50 다음 뉴스 6NuR854T6p\n",
            "해당단어의 아이디는 (119, 1)\n",
            "해당 단어가 들어간 댓글: 25795 번 댓글 : 허 찌른 기자는 예상 못 했나보다 난 예상했는데 부동산 부자 정당에서 당연한 거 아닌가 세금 때문에 집으로 돈 버는 시대는 지났다는 생각들이 퍼지는 와중에 이제 대선까지만 참으면 된다는 메세지 허 찌른 윤석열 종부세 없애겠다 집부자 민심 구애 다음 뉴스 t0FVvdngVA\n",
            "해당단어의 아이디는 (215, 1)\n",
            "해당 단어가 들어간 댓글: 25890 번 댓글 : 대한민국은 상과벌을 올곧게 하는 사회문화를 바로잡아야한다 위정자는 그죄가 무겁다 특히 국민의 세금으로 가족을 부양하는 공무원의 죄는 더 무겁다 화천대유로 흘러간 400억 역추적하니 윤석열이 등장했다 실수로 혐의 인정한 윤석열 Z9cuh42iLf 출처 YouTube\n",
            "해당단어의 아이디는 (326, 1)\n",
            "해당 단어가 들어간 댓글: 25891 번 댓글 : 윤석열이 대통령되면 종부세 전면재검토해 세금폭탄 걱정하지 않도록 하겠다고 말했다 우리나라 종부세 대상은 9만4천 가구로 전체가구 4 5 에 달하는 부유층을 대상으로 하는 것이다 윤석열이 벌써부터 부자위주 정책 의 마각을 드러낸 것이다 이것이 국짐당 본질이다 정신차려 속지말아야 한다 \n",
            "해당단어의 아이디는 (205, 1)\n",
            "해당 단어가 들어간 댓글: 26018 번 댓글 : 윤석열 文정부 다주택자 범죄자 취급 종부세 전면 재검토 w0e5e9zdUb 문재인 정부와 민주당은 고가의 부동산을 소유했다거나 다주택을 가진 국민을 범죄자 취급하면서 고액의 세금을 부과하는 것을 마치 정의의 실현인 것처럼 주장한다 다주택 고가주택 보유자들 많은 文정권의 위선\n",
            "해당단어의 아이디는 (3709, 1)\n",
            "해당 단어가 들어간 댓글: 26159 번 댓글 : 자본주의를 하는 나라에서 극좌와 중도의 싸움으로 보이는 군 이재명식은 공산주의를 하자는 것이고 윤석열은 자본주의를 하자는 것이라면 중도층들의 세금 손볼게 표 다오 1 2위 대선주자가 조세 LGybztwMO0\n",
            "해당단어의 아이디는 (1732, 1)\n",
            "해당 단어가 들어간 댓글: 26480 번 댓글 : 부자들에게 세금 우대정책 서민들에게 불공정 차별정책 윤석열은 부자들만의 세상을 꿈꾸는가 윤 종부세 폭탄 불만 찔렀지만 세금 통합 면제 카드 말처럼 쉬울까 다음 뉴스 8G53l6heiS\n",
            "해당단어의 아이디는 (86, 1)\n",
            "해당 단어가 들어간 댓글: 26543 번 댓글 : 일단 기획재정부를 중심으로 정부는 이런 여당의 무리수에 제동을 걸고는 있지만 힘에는 부친다 여기에다 국민의힘의 윤석열 대선후보도 부동산 세제의 개편을 요구하고 나서면서 세금의 정치 도구화 현상 이 짙어지는 흐름이다 8kC7YlnbRK\n",
            "해당단어의 아이디는 (3272, 1)\n",
            "해당 단어가 들어간 댓글: 26549 번 댓글 : 지난 그지같은 정권들을 돌아보라구 세금 많이 거두면 재벌들 법인세 낮춰주기 바빴지 어디 국민에게 나누어 주었나 이재명의 사고 방식은 혁신 혁명적인 것이다 \n",
            "해당단어의 아이디는 (320, 1)\n",
            "해당 단어가 들어간 댓글: 26552 번 댓글 : 재난지원금은 공짜가 아니다 코로나로 경제활동이 어려웠기 때문에 국가가 거둔 세금으로 지원하는 것이다 지원금을 받고 열심히 경제활동을 하라는 의미다 이재명의 기본소득도 동일하다 남은 세금을 나누어 주고 경제활동을 하여 세금을 걷겠다는 말이지 \n",
            "해당단어의 아이디는 (2422, 1)\n",
            "해당 단어가 들어간 댓글: 26589 번 댓글 : 송요훈 기자님 몰라서 묻습니다 국민의힘 윤석열 후보가 종부세는 기본적으로 문제가 많은 세금이며 대통령이 되어 내년 이맘 때면 종부세 폭탄 맞을 걱정을 하지 않아도 되게 하겠다고 했군요 \n",
            "해당단어의 아이디는 (1452, 1)\n",
            "해당 단어가 들어간 댓글: 26643 번 댓글 :  내 세금 더 걷어라 빌게이츠 워런버핏의 이유있는 외침을 좀 윤석열 한마디로 개 새 끼 임 k4W5UdFV07\n",
            "해당단어의 아이디는 (10, 1)\n",
            "해당 단어가 들어간 댓글: 26676 번 댓글 : 윤석열 文정부 다주택자 범죄자 취급 종부세 전면 재검토 다음 뉴스 B1IlofPHy9 박정희 시대 양담배 양주 걸리면 해직 징계 명단공개되는 범죄였었지 다주택자처럼 세금 더 내라 하면 될 일을 그런게 범죄자 취급이란다 무식한 넘아\n",
            "해당단어의 아이디는 (21149, 1)\n",
            "해당 단어가 들어간 댓글: 26688 번 댓글 : 윤석열이 종부세를 없애겠다고 이건 결국 종부세 내는 자기 가족과 주변에 득시글한 1 7 부동산 부자들 때문에 없애겠다는 것 아닌가 종부세 없애면 자기 세금 더 올라가는 줄도 모르고 지지하는 서민들은 제발 정신 좀 차려라 \n",
            "해당단어의 아이디는 (912, 1)\n",
            "해당 단어가 들어간 댓글: 26711 번 댓글 : 국가가 위기라서 지원금을 주는 걸 당연하게 여기는 걸 그냥 막 퍼주고 세금을 깍아주면 되는 걸로 인식해버린 이재명과 윤석열 다음 정권이 코로나 전으로만으로도 못 돌아갈텐데 어쩔려고 저리 막 말을 하는 건지 어차피 공약은 안 지키는 거지만 좀 고무신받고 좋아하던 60년대 노인들이냐고\n",
            "해당단어의 아이디는 (119, 1)\n",
            "해당 단어가 들어간 댓글: 26783 번 댓글 : 윤석열 결국 부동산 부자들 세금깍아준다 그러면 하위계층의 복지는 축소되겠지 이게 윤석열의 공정 정의 \n",
            "해당단어의 아이디는 (302, 1)\n",
            "해당 단어가 들어간 댓글: 26790 번 댓글 :  속보 윤석열 종부세 전면 재검토 발언에 민주당 한마디로 부자본색 비판 1가구1주택은 생존의 기본권 과한 세금 반대 MbqazSK3FH\n",
            "해당단어의 아이디는 (20159, 1)\n",
            "해당 단어가 들어간 댓글: 26832 번 댓글 : 종부세는 1 의 부자들이 내는 세금입니다 국민여러분 언론의 오인 또는 가짜뉴스에 속지마세요 기득권층이 종부세 안내려고 언론을 동원하더니 이젠 윤석열이도 거기에 합류하여 종부세 감면하겠다고 하네여 절대 속지마시고 종부세는 더 강화되어야 합니다 \n",
            "해당단어의 아이디는 (215, 1)\n",
            "해당 단어가 들어간 댓글: 26951 번 댓글 : 자기 욕망에 충실하고 뻔뻔한 캐릭터는 사회적으로 합의된 윤리적 규범을 무력화시킨다 너도 외쳐봐 너도 욕심 부리고 싶잖아 세금내기 싫잖아 그거 부끄러운 거 아니야 윤석열은 선거운동만으로도 우리나라를 망칠거다 트럼프 정권 4년의 해악이 미국이 쌓아온 규범을 송두리째 망가뜨렸듯이\n",
            "해당단어의 아이디는 (581, 1)\n",
            "해당 단어가 들어간 댓글: 26966 번 댓글 : 윤석열 대통령 되면 종부세 전면 재검토 1주택자 면제 포함 다음뉴스 재산 상위들에게만 혜택 그 세금 깎아주면 모자란 세금은 무가 낼까 국민이 다 같이 나눠내는거 아님 nHuUR0Ab83\n",
            "해당단어의 아이디는 (3885, 1)\n",
            "해당 단어가 들어간 댓글: 27140 번 댓글 : 국민의힘 윤석열 후보는 종부세 사실상 폐지 공약을 내놓았고 더불어민주당 선대위는 20대에 한해 소득세 비과세 등 세금을 깎아주는 정책을 만지작거리고 있습니다 YLxtMeUTHu\n",
            "해당단어의 아이디는 (10961, 1)\n",
            "해당 단어가 들어간 댓글: 27199 번 댓글 : 언론이나 국짐이 문정부를 공격하기 위해 왜곡 유포한 마타도어 수준의 세금폭탄론 을 그대로 믿고 이걸 공약하다니 외교안보정책과 마찬가지로 윤석열의 공약과 정책이라는 건 오직 반문 밖에 없다\n",
            "해당단어의 아이디는 (1955, 1)\n",
            "해당 단어가 들어간 댓글: 27368 번 댓글 : 윤석열 대통령 되면 종부세 전면 재검토 1주택자 면제 포함 다음 뉴스 gfDg9rPMV4 종부세는 부자들 1채지만 고가주택 다주택자들 아닌가요 종부세 내는 사람들이 얼마나 된다고 부자들이면 세금 많이 내는게 정상 아니가요 \n",
            "해당단어의 아이디는 (9867, 1)\n",
            "해당 단어가 들어간 댓글: 27385 번 댓글 : 윤석열 대통령 되면 종부세 전면 재검토 1주택자 면제 포함 1 부자감세 프렌들리 2 강남 포퓰리즘 3 장모님 맞춤 감세와 세금 약탈 문재인정부가 땅값 잡기가 실패한 이유가 부패의힘 친부동산 정책 때문에 그 똥치우느라 고생한 것을 한순간에 말아먹겠다는군 ZJXA6e8U3v\n",
            "해당단어의 아이디는 (1268, 1)\n",
            "해당 단어가 들어간 댓글: 27430 번 댓글 : 윤석열 종부세는 문제 많은 세금 대통령되면 전면 재검토 다음뉴스 iAKsPrk4NU\n",
            "해당단어의 아이디는 (216, 1)\n",
            "해당 단어가 들어간 댓글: 27454 번 댓글 : 빙신쉑 종부세는 투기를 일삼는 수구 꼴통들 잡을라카는 세금인줄 알고 그렇게 지끼는거제 윤석열 대통령 되면 1주택자는 종부세 면제 도 검토 다음뉴스 8an0LqboOO\n",
            "해당단어의 아이디는 (266, 1)\n",
            "해당 단어가 들어간 댓글: 27466 번 댓글 : 윤석열 대통령 되면 1주택자는 종부세 면제 종부세는 납세 대상자의 수가 아무리 적다고 하더라도 문제가 많은 세금 재산세와 동일한 세원에 대한 이중과세 조세평등주의 위반 재산권보장원칙 위반 과잉금지의 문제 등이다 뇌무현 문재앙 좌빨정권의 국민약약탈 제도다 GVvp8e5xr1\n",
            "해당단어의 아이디는 (470, 1)\n",
            "해당 단어가 들어간 댓글: 27533 번 댓글 : 윤석열 종부세는 세금폭탄 사실상 종부세 폐지 공약 3si5YldKCM\n",
            "해당단어의 아이디는 (215, 1)\n",
            "해당 단어가 들어간 댓글: 27550 번 댓글 : 윤석열 내년 종부세 폭탄 없애겠다 집 팔고 세금 내라 국민에 정부 할말 아냐 출처 디지털타임스 네이버 뉴스 ZaSK2U2bGK\n",
            "해당단어의 아이디는 (207, 1)\n",
            "해당 단어가 들어간 댓글: 27557 번 댓글 :  세금 늘려 기본소득 이재명 vs 민간중심 경제회복 윤석열 다음 뉴스 krZWwbpdK6\n",
            "해당단어의 아이디는 (10, 1)\n",
            "해당 단어가 들어간 댓글: 27672 번 댓글 :  logos613 재명이도 가면 비리떡검사 윤석열 도 가야지 나라세금으로 누가 떡로비하라디\n",
            "해당단어의 아이디는 (11826, 1)\n",
            "해당 단어가 들어간 댓글: 27773 번 댓글 :  S6vEdR0Er49DzFo headache10241 YgJxgmLL2NdmsvE 먼저 안철수 이재명 윤석열 심상정도 재산을 공개하야죠 적어도 허경영은 한해 세금 50억을 넘게 낸 정치인이죠\n",
            "해당단어의 아이디는 (5369, 1)\n"
          ]
        }
      ]
    },
    {
      "cell_type": "code",
      "metadata": {
        "colab": {
          "base_uri": "https://localhost:8080/"
        },
        "id": "6dFGflia1p_V",
        "outputId": "38fe2d8e-4dc3-446d-83dd-7b5ff88825c5"
      },
      "source": [
        "# 세금에 관련된 토픽(+토픽에 영향주는 키워드) 찾기\n",
        "term_topic_dist = ldamodel.get_term_topics( 27466, minimum_probability=0)\n",
        "sorted_term_topic = sorted(term_topic_dist, key=lambda x:x[1], reverse=True)\n",
        "sorted_term_topic"
      ],
      "execution_count": 64,
      "outputs": [
        {
          "output_type": "execute_result",
          "data": {
            "text/plain": [
              "[(19, 7.747001e-06)]"
            ]
          },
          "metadata": {},
          "execution_count": 64
        }
      ]
    },
    {
      "cell_type": "code",
      "metadata": {
        "id": "Gj-Lmlv2Mulj",
        "colab": {
          "base_uri": "https://localhost:8080/"
        },
        "outputId": "1b9ff606-f81b-44db-e182-8d291bce0680"
      },
      "source": [
        "topics[19]"
      ],
      "execution_count": 65,
      "outputs": [
        {
          "output_type": "execute_result",
          "data": {
            "text/plain": [
              "(19,\n",
              " '0.064*\"윤\" + 0.045*\"열\" + 0.032*\"후보\" + 0.026*\"이재명\" + 0.024*\"힘\" + 0.020*\"국민\" + 0.020*\"대선\"')"
            ]
          },
          "metadata": {},
          "execution_count": 65
        }
      ]
    },
    {
      "cell_type": "code",
      "metadata": {
        "colab": {
          "base_uri": "https://localhost:8080/"
        },
        "id": "wItx2jNhyr_L",
        "outputId": "549f4131-a5f6-4bd6-cea3-dbf1f9805aae"
      },
      "source": [
        "for n in range(len(id_list)):\n",
        "  term_topic_dist = ldamodel.get_term_topics(id_list[n], minimum_probability=0)\n",
        "  sorted_term_topic = sorted(term_topic_dist, key=lambda x:x[1], reverse=True)\n",
        "  print(\"토픽중요도:\",round(int(sorted_term_topic[0][1]*100),2),\"%\",\"토픽번호 및 해당키워드중요도:\",topics[sorted_term_topic[0][0]])"
      ],
      "execution_count": 66,
      "outputs": [
        {
          "output_type": "stream",
          "name": "stdout",
          "text": [
            "토픽중요도: 1 % 토픽번호 및 해당키워드중요도: (5, '0.046*\"종\" + 0.042*\"윤\" + 0.042*\"부세\" + 0.041*\"종부세\" + 0.019*\"1\" + 0.017*\"열\" + 0.015*\"부자\"')\n",
            "토픽중요도: 0 % 토픽번호 및 해당키워드중요도: (16, '0.034*\"윤\" + 0.016*\"혜\" + 0.015*\"경\" + 0.015*\"개\" + 0.015*\"열\" + 0.014*\"질문\" + 0.013*\"사과\"')\n",
            "토픽중요도: 2 % 토픽번호 및 해당키워드중요도: (4, '0.077*\"윤\" + 0.066*\"열\" + 0.052*\"이재명\" + 0.037*\"출처\" + 0.033*\"뉴스\" + 0.024*\"4\" + 0.024*\"1\"')\n",
            "토픽중요도: 0 % 토픽번호 및 해당키워드중요도: (18, '0.036*\"문\" + 0.027*\"윤\" + 0.027*\"재인\" + 0.022*\"문재인\" + 0.017*\"기\" + 0.017*\"정부\" + 0.016*\"검찰\"')\n",
            "토픽중요도: 0 % 토픽번호 및 해당키워드중요도: (5, '0.046*\"종\" + 0.042*\"윤\" + 0.042*\"부세\" + 0.041*\"종부세\" + 0.019*\"1\" + 0.017*\"열\" + 0.015*\"부자\"')\n",
            "토픽중요도: 0 % 토픽번호 및 해당키워드중요도: (16, '0.034*\"윤\" + 0.016*\"혜\" + 0.015*\"경\" + 0.015*\"개\" + 0.015*\"열\" + 0.014*\"질문\" + 0.013*\"사과\"')\n",
            "토픽중요도: 0 % 토픽번호 및 해당키워드중요도: (5, '0.046*\"종\" + 0.042*\"윤\" + 0.042*\"부세\" + 0.041*\"종부세\" + 0.019*\"1\" + 0.017*\"열\" + 0.015*\"부자\"')\n",
            "토픽중요도: 0 % 토픽번호 및 해당키워드중요도: (5, '0.046*\"종\" + 0.042*\"윤\" + 0.042*\"부세\" + 0.041*\"종부세\" + 0.019*\"1\" + 0.017*\"열\" + 0.015*\"부자\"')\n",
            "토픽중요도: 0 % 토픽번호 및 해당키워드중요도: (5, '0.046*\"종\" + 0.042*\"윤\" + 0.042*\"부세\" + 0.041*\"종부세\" + 0.019*\"1\" + 0.017*\"열\" + 0.015*\"부자\"')\n",
            "토픽중요도: 4 % 토픽번호 및 해당키워드중요도: (5, '0.046*\"종\" + 0.042*\"윤\" + 0.042*\"부세\" + 0.041*\"종부세\" + 0.019*\"1\" + 0.017*\"열\" + 0.015*\"부자\"')\n",
            "토픽중요도: 0 % 토픽번호 및 해당키워드중요도: (15, '0.021*\"윤\" + 0.019*\"50\" + 0.017*\"선거\" + 0.012*\"33\" + 0.012*\"52\" + 0.011*\"경기\" + 0.011*\"정의\"')\n",
            "토픽중요도: 0 % 토픽번호 및 해당키워드중요도: (5, '0.046*\"종\" + 0.042*\"윤\" + 0.042*\"부세\" + 0.041*\"종부세\" + 0.019*\"1\" + 0.017*\"열\" + 0.015*\"부자\"')\n",
            "토픽중요도: 1 % 토픽번호 및 해당키워드중요도: (5, '0.046*\"종\" + 0.042*\"윤\" + 0.042*\"부세\" + 0.041*\"종부세\" + 0.019*\"1\" + 0.017*\"열\" + 0.015*\"부자\"')\n",
            "토픽중요도: 0 % 토픽번호 및 해당키워드중요도: (14, '0.047*\"윤\" + 0.029*\"열\" + 0.025*\"석\" + 0.019*\"이재명\" + 0.019*\"정권\" + 0.018*\"정\" + 0.015*\"심상\"')\n",
            "토픽중요도: 1 % 토픽번호 및 해당키워드중요도: (3, '0.046*\"김건희\" + 0.040*\"김\" + 0.038*\"건희\" + 0.031*\"윤\" + 0.028*\"조작\" + 0.025*\"주가\" + 0.021*\"장모\"')\n",
            "토픽중요도: 1 % 토픽번호 및 해당키워드중요도: (5, '0.046*\"종\" + 0.042*\"윤\" + 0.042*\"부세\" + 0.041*\"종부세\" + 0.019*\"1\" + 0.017*\"열\" + 0.015*\"부자\"')\n",
            "토픽중요도: 0 % 토픽번호 및 해당키워드중요도: (17, '0.051*\"윤\" + 0.041*\"열\" + 0.028*\"이재명\" + 0.026*\"낙\" + 0.018*\"교체\" + 0.017*\"연\" + 0.016*\"후보\"')\n",
            "토픽중요도: 0 % 토픽번호 및 해당키워드중요도: (10, '0.053*\"윤\" + 0.024*\"열\" + 0.019*\"길\" + 0.013*\"거\" + 0.013*\"송영\" + 0.011*\"송영길\" + 0.011*\"라\"')\n",
            "토픽중요도: 0 % 토픽번호 및 해당키워드중요도: (3, '0.046*\"김건희\" + 0.040*\"김\" + 0.038*\"건희\" + 0.031*\"윤\" + 0.028*\"조작\" + 0.025*\"주가\" + 0.021*\"장모\"')\n",
            "토픽중요도: 1 % 토픽번호 및 해당키워드중요도: (14, '0.047*\"윤\" + 0.029*\"열\" + 0.025*\"석\" + 0.019*\"이재명\" + 0.019*\"정권\" + 0.018*\"정\" + 0.015*\"심상\"')\n",
            "토픽중요도: 1 % 토픽번호 및 해당키워드중요도: (14, '0.047*\"윤\" + 0.029*\"열\" + 0.025*\"석\" + 0.019*\"이재명\" + 0.019*\"정권\" + 0.018*\"정\" + 0.015*\"심상\"')\n",
            "토픽중요도: 0 % 토픽번호 및 해당키워드중요도: (10, '0.053*\"윤\" + 0.024*\"열\" + 0.019*\"길\" + 0.013*\"거\" + 0.013*\"송영\" + 0.011*\"송영길\" + 0.011*\"라\"')\n",
            "토픽중요도: 1 % 토픽번호 및 해당키워드중요도: (19, '0.064*\"윤\" + 0.045*\"열\" + 0.032*\"후보\" + 0.026*\"이재명\" + 0.024*\"힘\" + 0.020*\"국민\" + 0.020*\"대선\"')\n",
            "토픽중요도: 0 % 토픽번호 및 해당키워드중요도: (8, '0.063*\"표\" + 0.055*\"홍\" + 0.045*\"윤\" + 0.037*\"국민\" + 0.029*\"동\" + 0.026*\"당\" + 0.026*\"대장\"')\n",
            "토픽중요도: 2 % 토픽번호 및 해당키워드중요도: (19, '0.064*\"윤\" + 0.045*\"열\" + 0.032*\"후보\" + 0.026*\"이재명\" + 0.024*\"힘\" + 0.020*\"국민\" + 0.020*\"대선\"')\n",
            "토픽중요도: 1 % 토픽번호 및 해당키워드중요도: (5, '0.046*\"종\" + 0.042*\"윤\" + 0.042*\"부세\" + 0.041*\"종부세\" + 0.019*\"1\" + 0.017*\"열\" + 0.015*\"부자\"')\n",
            "토픽중요도: 6 % 토픽번호 및 해당키워드중요도: (4, '0.077*\"윤\" + 0.066*\"열\" + 0.052*\"이재명\" + 0.037*\"출처\" + 0.033*\"뉴스\" + 0.024*\"4\" + 0.024*\"1\"')\n",
            "토픽중요도: 4 % 토픽번호 및 해당키워드중요도: (5, '0.046*\"종\" + 0.042*\"윤\" + 0.042*\"부세\" + 0.041*\"종부세\" + 0.019*\"1\" + 0.017*\"열\" + 0.015*\"부자\"')\n",
            "토픽중요도: 0 % 토픽번호 및 해당키워드중요도: (9, '0.043*\"윤\" + 0.027*\"열\" + 0.019*\"사과\" + 0.012*\"광주\" + 0.012*\"조선\" + 0.010*\"36\" + 0.010*\"허\"')\n",
            "토픽중요도: 0 % 토픽번호 및 해당키워드중요도: (4, '0.077*\"윤\" + 0.066*\"열\" + 0.052*\"이재명\" + 0.037*\"출처\" + 0.033*\"뉴스\" + 0.024*\"4\" + 0.024*\"1\"')\n",
            "토픽중요도: 2 % 토픽번호 및 해당키워드중요도: (4, '0.077*\"윤\" + 0.066*\"열\" + 0.052*\"이재명\" + 0.037*\"출처\" + 0.033*\"뉴스\" + 0.024*\"4\" + 0.024*\"1\"')\n",
            "토픽중요도: 0 % 토픽번호 및 해당키워드중요도: (8, '0.063*\"표\" + 0.055*\"홍\" + 0.045*\"윤\" + 0.037*\"국민\" + 0.029*\"동\" + 0.026*\"당\" + 0.026*\"대장\"')\n",
            "토픽중요도: 1 % 토픽번호 및 해당키워드중요도: (5, '0.046*\"종\" + 0.042*\"윤\" + 0.042*\"부세\" + 0.041*\"종부세\" + 0.019*\"1\" + 0.017*\"열\" + 0.015*\"부자\"')\n",
            "토픽중요도: 1 % 토픽번호 및 해당키워드중요도: (5, '0.046*\"종\" + 0.042*\"윤\" + 0.042*\"부세\" + 0.041*\"종부세\" + 0.019*\"1\" + 0.017*\"열\" + 0.015*\"부자\"')\n",
            "토픽중요도: 0 % 토픽번호 및 해당키워드중요도: (5, '0.046*\"종\" + 0.042*\"윤\" + 0.042*\"부세\" + 0.041*\"종부세\" + 0.019*\"1\" + 0.017*\"열\" + 0.015*\"부자\"')\n",
            "토픽중요도: 4 % 토픽번호 및 해당키워드중요도: (5, '0.046*\"종\" + 0.042*\"윤\" + 0.042*\"부세\" + 0.041*\"종부세\" + 0.019*\"1\" + 0.017*\"열\" + 0.015*\"부자\"')\n",
            "토픽중요도: 11 % 토픽번호 및 해당키워드중요도: (1, '0.118*\"다음\" + 0.118*\"뉴스\" + 0.054*\"윤\" + 0.034*\"다음뉴스\" + 0.018*\"열\" + 0.017*\"8\" + 0.015*\"0\"')\n",
            "토픽중요도: 1 % 토픽번호 및 해당키워드중요도: (5, '0.046*\"종\" + 0.042*\"윤\" + 0.042*\"부세\" + 0.041*\"종부세\" + 0.019*\"1\" + 0.017*\"열\" + 0.015*\"부자\"')\n",
            "토픽중요도: 1 % 토픽번호 및 해당키워드중요도: (5, '0.046*\"종\" + 0.042*\"윤\" + 0.042*\"부세\" + 0.041*\"종부세\" + 0.019*\"1\" + 0.017*\"열\" + 0.015*\"부자\"')\n",
            "토픽중요도: 0 % 토픽번호 및 해당키워드중요도: (5, '0.046*\"종\" + 0.042*\"윤\" + 0.042*\"부세\" + 0.041*\"종부세\" + 0.019*\"1\" + 0.017*\"열\" + 0.015*\"부자\"')\n",
            "토픽중요도: 1 % 토픽번호 및 해당키워드중요도: (18, '0.036*\"문\" + 0.027*\"윤\" + 0.027*\"재인\" + 0.022*\"문재인\" + 0.017*\"기\" + 0.017*\"정부\" + 0.016*\"검찰\"')\n",
            "토픽중요도: 2 % 토픽번호 및 해당키워드중요도: (19, '0.064*\"윤\" + 0.045*\"열\" + 0.032*\"후보\" + 0.026*\"이재명\" + 0.024*\"힘\" + 0.020*\"국민\" + 0.020*\"대선\"')\n",
            "토픽중요도: 1 % 토픽번호 및 해당키워드중요도: (5, '0.046*\"종\" + 0.042*\"윤\" + 0.042*\"부세\" + 0.041*\"종부세\" + 0.019*\"1\" + 0.017*\"열\" + 0.015*\"부자\"')\n",
            "토픽중요도: 0 % 토픽번호 및 해당키워드중요도: (19, '0.064*\"윤\" + 0.045*\"열\" + 0.032*\"후보\" + 0.026*\"이재명\" + 0.024*\"힘\" + 0.020*\"국민\" + 0.020*\"대선\"')\n",
            "토픽중요도: 1 % 토픽번호 및 해당키워드중요도: (5, '0.046*\"종\" + 0.042*\"윤\" + 0.042*\"부세\" + 0.041*\"종부세\" + 0.019*\"1\" + 0.017*\"열\" + 0.015*\"부자\"')\n",
            "토픽중요도: 0 % 토픽번호 및 해당키워드중요도: (3, '0.046*\"김건희\" + 0.040*\"김\" + 0.038*\"건희\" + 0.031*\"윤\" + 0.028*\"조작\" + 0.025*\"주가\" + 0.021*\"장모\"')\n",
            "토픽중요도: 0 % 토픽번호 및 해당키워드중요도: (5, '0.046*\"종\" + 0.042*\"윤\" + 0.042*\"부세\" + 0.041*\"종부세\" + 0.019*\"1\" + 0.017*\"열\" + 0.015*\"부자\"')\n",
            "토픽중요도: 0 % 토픽번호 및 해당키워드중요도: (19, '0.064*\"윤\" + 0.045*\"열\" + 0.032*\"후보\" + 0.026*\"이재명\" + 0.024*\"힘\" + 0.020*\"국민\" + 0.020*\"대선\"')\n",
            "토픽중요도: 3 % 토픽번호 및 해당키워드중요도: (19, '0.064*\"윤\" + 0.045*\"열\" + 0.032*\"후보\" + 0.026*\"이재명\" + 0.024*\"힘\" + 0.020*\"국민\" + 0.020*\"대선\"')\n",
            "토픽중요도: 0 % 토픽번호 및 해당키워드중요도: (9, '0.043*\"윤\" + 0.027*\"열\" + 0.019*\"사과\" + 0.012*\"광주\" + 0.012*\"조선\" + 0.010*\"36\" + 0.010*\"허\"')\n",
            "토픽중요도: 6 % 토픽번호 및 해당키워드중요도: (4, '0.077*\"윤\" + 0.066*\"열\" + 0.052*\"이재명\" + 0.037*\"출처\" + 0.033*\"뉴스\" + 0.024*\"4\" + 0.024*\"1\"')\n",
            "토픽중요도: 0 % 토픽번호 및 해당키워드중요도: (5, '0.046*\"종\" + 0.042*\"윤\" + 0.042*\"부세\" + 0.041*\"종부세\" + 0.019*\"1\" + 0.017*\"열\" + 0.015*\"부자\"')\n",
            "토픽중요도: 0 % 토픽번호 및 해당키워드중요도: (8, '0.063*\"표\" + 0.055*\"홍\" + 0.045*\"윤\" + 0.037*\"국민\" + 0.029*\"동\" + 0.026*\"당\" + 0.026*\"대장\"')\n",
            "토픽중요도: 3 % 토픽번호 및 해당키워드중요도: (4, '0.077*\"윤\" + 0.066*\"열\" + 0.052*\"이재명\" + 0.037*\"출처\" + 0.033*\"뉴스\" + 0.024*\"4\" + 0.024*\"1\"')\n",
            "토픽중요도: 1 % 토픽번호 및 해당키워드중요도: (5, '0.046*\"종\" + 0.042*\"윤\" + 0.042*\"부세\" + 0.041*\"종부세\" + 0.019*\"1\" + 0.017*\"열\" + 0.015*\"부자\"')\n",
            "토픽중요도: 0 % 토픽번호 및 해당키워드중요도: (15, '0.021*\"윤\" + 0.019*\"50\" + 0.017*\"선거\" + 0.012*\"33\" + 0.012*\"52\" + 0.011*\"경기\" + 0.011*\"정의\"')\n",
            "토픽중요도: 0 % 토픽번호 및 해당키워드중요도: (18, '0.036*\"문\" + 0.027*\"윤\" + 0.027*\"재인\" + 0.022*\"문재인\" + 0.017*\"기\" + 0.017*\"정부\" + 0.016*\"검찰\"')\n",
            "토픽중요도: 0 % 토픽번호 및 해당키워드중요도: (5, '0.046*\"종\" + 0.042*\"윤\" + 0.042*\"부세\" + 0.041*\"종부세\" + 0.019*\"1\" + 0.017*\"열\" + 0.015*\"부자\"')\n",
            "토픽중요도: 0 % 토픽번호 및 해당키워드중요도: (15, '0.021*\"윤\" + 0.019*\"50\" + 0.017*\"선거\" + 0.012*\"33\" + 0.012*\"52\" + 0.011*\"경기\" + 0.011*\"정의\"')\n",
            "토픽중요도: 0 % 토픽번호 및 해당키워드중요도: (5, '0.046*\"종\" + 0.042*\"윤\" + 0.042*\"부세\" + 0.041*\"종부세\" + 0.019*\"1\" + 0.017*\"열\" + 0.015*\"부자\"')\n",
            "토픽중요도: 2 % 토픽번호 및 해당키워드중요도: (4, '0.077*\"윤\" + 0.066*\"열\" + 0.052*\"이재명\" + 0.037*\"출처\" + 0.033*\"뉴스\" + 0.024*\"4\" + 0.024*\"1\"')\n",
            "토픽중요도: 1 % 토픽번호 및 해당키워드중요도: (18, '0.036*\"문\" + 0.027*\"윤\" + 0.027*\"재인\" + 0.022*\"문재인\" + 0.017*\"기\" + 0.017*\"정부\" + 0.016*\"검찰\"')\n",
            "토픽중요도: 0 % 토픽번호 및 해당키워드중요도: (2, '0.043*\"조사\" + 0.037*\"여론\" + 0.027*\"여론조사\" + 0.021*\"지지율\" + 0.020*\"격차\" + 0.019*\"이재명\" + 0.016*\"윤\"')\n",
            "토픽중요도: 0 % 토픽번호 및 해당키워드중요도: (0, '0.048*\"윤\" + 0.033*\"열\" + 0.017*\"이재명\" + 0.012*\"대통령\" + 0.012*\"안\" + 0.011*\"철수\" + 0.008*\"안철수\"')\n",
            "토픽중요도: 0 % 토픽번호 및 해당키워드중요도: (1, '0.118*\"다음\" + 0.118*\"뉴스\" + 0.054*\"윤\" + 0.034*\"다음뉴스\" + 0.018*\"열\" + 0.017*\"8\" + 0.015*\"0\"')\n",
            "토픽중요도: 0 % 토픽번호 및 해당키워드중요도: (7, '0.034*\"윤\" + 0.022*\"목포\" + 0.021*\"열\" + 0.020*\"논란\" + 0.014*\"폭탄주\" + 0.013*\"만찬\" + 0.011*\"위반\"')\n",
            "토픽중요도: 0 % 토픽번호 및 해당키워드중요도: (14, '0.047*\"윤\" + 0.029*\"열\" + 0.025*\"석\" + 0.019*\"이재명\" + 0.019*\"정권\" + 0.018*\"정\" + 0.015*\"심상\"')\n",
            "토픽중요도: 4 % 토픽번호 및 해당키워드중요도: (5, '0.046*\"종\" + 0.042*\"윤\" + 0.042*\"부세\" + 0.041*\"종부세\" + 0.019*\"1\" + 0.017*\"열\" + 0.015*\"부자\"')\n",
            "토픽중요도: 0 % 토픽번호 및 해당키워드중요도: (5, '0.046*\"종\" + 0.042*\"윤\" + 0.042*\"부세\" + 0.041*\"종부세\" + 0.019*\"1\" + 0.017*\"열\" + 0.015*\"부자\"')\n",
            "토픽중요도: 0 % 토픽번호 및 해당키워드중요도: (12, '0.053*\"김\" + 0.042*\"윤\" + 0.036*\"위\" + 0.030*\"선대\" + 0.025*\"준석\" + 0.023*\"선대위\" + 0.022*\"종인\"')\n",
            "토픽중요도: 0 % 토픽번호 및 해당키워드중요도: (10, '0.053*\"윤\" + 0.024*\"열\" + 0.019*\"길\" + 0.013*\"거\" + 0.013*\"송영\" + 0.011*\"송영길\" + 0.011*\"라\"')\n",
            "토픽중요도: 0 % 토픽번호 및 해당키워드중요도: (8, '0.063*\"표\" + 0.055*\"홍\" + 0.045*\"윤\" + 0.037*\"국민\" + 0.029*\"동\" + 0.026*\"당\" + 0.026*\"대장\"')\n",
            "토픽중요도: 0 % 토픽번호 및 해당키워드중요도: (10, '0.053*\"윤\" + 0.024*\"열\" + 0.019*\"길\" + 0.013*\"거\" + 0.013*\"송영\" + 0.011*\"송영길\" + 0.011*\"라\"')\n",
            "토픽중요도: 0 % 토픽번호 및 해당키워드중요도: (5, '0.046*\"종\" + 0.042*\"윤\" + 0.042*\"부세\" + 0.041*\"종부세\" + 0.019*\"1\" + 0.017*\"열\" + 0.015*\"부자\"')\n",
            "토픽중요도: 0 % 토픽번호 및 해당키워드중요도: (8, '0.063*\"표\" + 0.055*\"홍\" + 0.045*\"윤\" + 0.037*\"국민\" + 0.029*\"동\" + 0.026*\"당\" + 0.026*\"대장\"')\n",
            "토픽중요도: 1 % 토픽번호 및 해당키워드중요도: (0, '0.048*\"윤\" + 0.033*\"열\" + 0.017*\"이재명\" + 0.012*\"대통령\" + 0.012*\"안\" + 0.011*\"철수\" + 0.008*\"안철수\"')\n",
            "토픽중요도: 0 % 토픽번호 및 해당키워드중요도: (5, '0.046*\"종\" + 0.042*\"윤\" + 0.042*\"부세\" + 0.041*\"종부세\" + 0.019*\"1\" + 0.017*\"열\" + 0.015*\"부자\"')\n",
            "토픽중요도: 0 % 토픽번호 및 해당키워드중요도: (10, '0.053*\"윤\" + 0.024*\"열\" + 0.019*\"길\" + 0.013*\"거\" + 0.013*\"송영\" + 0.011*\"송영길\" + 0.011*\"라\"')\n",
            "토픽중요도: 0 % 토픽번호 및 해당키워드중요도: (5, '0.046*\"종\" + 0.042*\"윤\" + 0.042*\"부세\" + 0.041*\"종부세\" + 0.019*\"1\" + 0.017*\"열\" + 0.015*\"부자\"')\n",
            "토픽중요도: 5 % 토픽번호 및 해당키워드중요도: (4, '0.077*\"윤\" + 0.066*\"열\" + 0.052*\"이재명\" + 0.037*\"출처\" + 0.033*\"뉴스\" + 0.024*\"4\" + 0.024*\"1\"')\n",
            "토픽중요도: 0 % 토픽번호 및 해당키워드중요도: (18, '0.036*\"문\" + 0.027*\"윤\" + 0.027*\"재인\" + 0.022*\"문재인\" + 0.017*\"기\" + 0.017*\"정부\" + 0.016*\"검찰\"')\n",
            "토픽중요도: 2 % 토픽번호 및 해당키워드중요도: (8, '0.063*\"표\" + 0.055*\"홍\" + 0.045*\"윤\" + 0.037*\"국민\" + 0.029*\"동\" + 0.026*\"당\" + 0.026*\"대장\"')\n",
            "토픽중요도: 11 % 토픽번호 및 해당키워드중요도: (1, '0.118*\"다음\" + 0.118*\"뉴스\" + 0.054*\"윤\" + 0.034*\"다음뉴스\" + 0.018*\"열\" + 0.017*\"8\" + 0.015*\"0\"')\n",
            "토픽중요도: 2 % 토픽번호 및 해당키워드중요도: (4, '0.077*\"윤\" + 0.066*\"열\" + 0.052*\"이재명\" + 0.037*\"출처\" + 0.033*\"뉴스\" + 0.024*\"4\" + 0.024*\"1\"')\n",
            "토픽중요도: 0 % 토픽번호 및 해당키워드중요도: (5, '0.046*\"종\" + 0.042*\"윤\" + 0.042*\"부세\" + 0.041*\"종부세\" + 0.019*\"1\" + 0.017*\"열\" + 0.015*\"부자\"')\n",
            "토픽중요도: 2 % 토픽번호 및 해당키워드중요도: (4, '0.077*\"윤\" + 0.066*\"열\" + 0.052*\"이재명\" + 0.037*\"출처\" + 0.033*\"뉴스\" + 0.024*\"4\" + 0.024*\"1\"')\n",
            "토픽중요도: 7 % 토픽번호 및 해당키워드중요도: (4, '0.077*\"윤\" + 0.066*\"열\" + 0.052*\"이재명\" + 0.037*\"출처\" + 0.033*\"뉴스\" + 0.024*\"4\" + 0.024*\"1\"')\n",
            "토픽중요도: 1 % 토픽번호 및 해당키워드중요도: (5, '0.046*\"종\" + 0.042*\"윤\" + 0.042*\"부세\" + 0.041*\"종부세\" + 0.019*\"1\" + 0.017*\"열\" + 0.015*\"부자\"')\n",
            "토픽중요도: 0 % 토픽번호 및 해당키워드중요도: (5, '0.046*\"종\" + 0.042*\"윤\" + 0.042*\"부세\" + 0.041*\"종부세\" + 0.019*\"1\" + 0.017*\"열\" + 0.015*\"부자\"')\n",
            "토픽중요도: 0 % 토픽번호 및 해당키워드중요도: (15, '0.021*\"윤\" + 0.019*\"50\" + 0.017*\"선거\" + 0.012*\"33\" + 0.012*\"52\" + 0.011*\"경기\" + 0.011*\"정의\"')\n",
            "토픽중요도: 0 % 토픽번호 및 해당키워드중요도: (19, '0.064*\"윤\" + 0.045*\"열\" + 0.032*\"후보\" + 0.026*\"이재명\" + 0.024*\"힘\" + 0.020*\"국민\" + 0.020*\"대선\"')\n",
            "토픽중요도: 0 % 토픽번호 및 해당키워드중요도: (3, '0.046*\"김건희\" + 0.040*\"김\" + 0.038*\"건희\" + 0.031*\"윤\" + 0.028*\"조작\" + 0.025*\"주가\" + 0.021*\"장모\"')\n",
            "토픽중요도: 4 % 토픽번호 및 해당키워드중요도: (5, '0.046*\"종\" + 0.042*\"윤\" + 0.042*\"부세\" + 0.041*\"종부세\" + 0.019*\"1\" + 0.017*\"열\" + 0.015*\"부자\"')\n",
            "토픽중요도: 2 % 토픽번호 및 해당키워드중요도: (6, '0.024*\"박\" + 0.020*\"년\" + 0.020*\"윤\" + 0.017*\"검찰\" + 0.013*\"권오수\" + 0.011*\"기소\" + 0.010*\"영수\"')\n",
            "토픽중요도: 0 % 토픽번호 및 해당키워드중요도: (11, '0.037*\"윤\" + 0.035*\"수사\" + 0.025*\"처\" + 0.023*\"열\" + 0.021*\"공수\" + 0.019*\"검찰\" + 0.019*\"공수처\"')\n",
            "토픽중요도: 1 % 토픽번호 및 해당키워드중요도: (5, '0.046*\"종\" + 0.042*\"윤\" + 0.042*\"부세\" + 0.041*\"종부세\" + 0.019*\"1\" + 0.017*\"열\" + 0.015*\"부자\"')\n",
            "토픽중요도: 0 % 토픽번호 및 해당키워드중요도: (0, '0.048*\"윤\" + 0.033*\"열\" + 0.017*\"이재명\" + 0.012*\"대통령\" + 0.012*\"안\" + 0.011*\"철수\" + 0.008*\"안철수\"')\n",
            "토픽중요도: 0 % 토픽번호 및 해당키워드중요도: (15, '0.021*\"윤\" + 0.019*\"50\" + 0.017*\"선거\" + 0.012*\"33\" + 0.012*\"52\" + 0.011*\"경기\" + 0.011*\"정의\"')\n",
            "토픽중요도: 0 % 토픽번호 및 해당키워드중요도: (19, '0.064*\"윤\" + 0.045*\"열\" + 0.032*\"후보\" + 0.026*\"이재명\" + 0.024*\"힘\" + 0.020*\"국민\" + 0.020*\"대선\"')\n",
            "토픽중요도: 0 % 토픽번호 및 해당키워드중요도: (16, '0.034*\"윤\" + 0.016*\"혜\" + 0.015*\"경\" + 0.015*\"개\" + 0.015*\"열\" + 0.014*\"질문\" + 0.013*\"사과\"')\n",
            "토픽중요도: 0 % 토픽번호 및 해당키워드중요도: (15, '0.021*\"윤\" + 0.019*\"50\" + 0.017*\"선거\" + 0.012*\"33\" + 0.012*\"52\" + 0.011*\"경기\" + 0.011*\"정의\"')\n",
            "토픽중요도: 1 % 토픽번호 및 해당키워드중요도: (15, '0.021*\"윤\" + 0.019*\"50\" + 0.017*\"선거\" + 0.012*\"33\" + 0.012*\"52\" + 0.011*\"경기\" + 0.011*\"정의\"')\n",
            "토픽중요도: 1 % 토픽번호 및 해당키워드중요도: (15, '0.021*\"윤\" + 0.019*\"50\" + 0.017*\"선거\" + 0.012*\"33\" + 0.012*\"52\" + 0.011*\"경기\" + 0.011*\"정의\"')\n",
            "토픽중요도: 1 % 토픽번호 및 해당키워드중요도: (15, '0.021*\"윤\" + 0.019*\"50\" + 0.017*\"선거\" + 0.012*\"33\" + 0.012*\"52\" + 0.011*\"경기\" + 0.011*\"정의\"')\n",
            "토픽중요도: 0 % 토픽번호 및 해당키워드중요도: (18, '0.036*\"문\" + 0.027*\"윤\" + 0.027*\"재인\" + 0.022*\"문재인\" + 0.017*\"기\" + 0.017*\"정부\" + 0.016*\"검찰\"')\n",
            "토픽중요도: 0 % 토픽번호 및 해당키워드중요도: (15, '0.021*\"윤\" + 0.019*\"50\" + 0.017*\"선거\" + 0.012*\"33\" + 0.012*\"52\" + 0.011*\"경기\" + 0.011*\"정의\"')\n",
            "토픽중요도: 0 % 토픽번호 및 해당키워드중요도: (15, '0.021*\"윤\" + 0.019*\"50\" + 0.017*\"선거\" + 0.012*\"33\" + 0.012*\"52\" + 0.011*\"경기\" + 0.011*\"정의\"')\n",
            "토픽중요도: 0 % 토픽번호 및 해당키워드중요도: (1, '0.118*\"다음\" + 0.118*\"뉴스\" + 0.054*\"윤\" + 0.034*\"다음뉴스\" + 0.018*\"열\" + 0.017*\"8\" + 0.015*\"0\"')\n",
            "토픽중요도: 0 % 토픽번호 및 해당키워드중요도: (11, '0.037*\"윤\" + 0.035*\"수사\" + 0.025*\"처\" + 0.023*\"열\" + 0.021*\"공수\" + 0.019*\"검찰\" + 0.019*\"공수처\"')\n",
            "토픽중요도: 1 % 토픽번호 및 해당키워드중요도: (5, '0.046*\"종\" + 0.042*\"윤\" + 0.042*\"부세\" + 0.041*\"종부세\" + 0.019*\"1\" + 0.017*\"열\" + 0.015*\"부자\"')\n",
            "토픽중요도: 0 % 토픽번호 및 해당키워드중요도: (13, '0.038*\"윤\" + 0.035*\"대한\" + 0.035*\"민국\" + 0.035*\"대한민국\" + 0.019*\"열\" + 0.018*\"분\" + 0.017*\"대통령\"')\n",
            "토픽중요도: 2 % 토픽번호 및 해당키워드중요도: (4, '0.077*\"윤\" + 0.066*\"열\" + 0.052*\"이재명\" + 0.037*\"출처\" + 0.033*\"뉴스\" + 0.024*\"4\" + 0.024*\"1\"')\n",
            "토픽중요도: 0 % 토픽번호 및 해당키워드중요도: (14, '0.047*\"윤\" + 0.029*\"열\" + 0.025*\"석\" + 0.019*\"이재명\" + 0.019*\"정권\" + 0.018*\"정\" + 0.015*\"심상\"')\n",
            "토픽중요도: 0 % 토픽번호 및 해당키워드중요도: (15, '0.021*\"윤\" + 0.019*\"50\" + 0.017*\"선거\" + 0.012*\"33\" + 0.012*\"52\" + 0.011*\"경기\" + 0.011*\"정의\"')\n",
            "토픽중요도: 0 % 토픽번호 및 해당키워드중요도: (5, '0.046*\"종\" + 0.042*\"윤\" + 0.042*\"부세\" + 0.041*\"종부세\" + 0.019*\"1\" + 0.017*\"열\" + 0.015*\"부자\"')\n",
            "토픽중요도: 2 % 토픽번호 및 해당키워드중요도: (4, '0.077*\"윤\" + 0.066*\"열\" + 0.052*\"이재명\" + 0.037*\"출처\" + 0.033*\"뉴스\" + 0.024*\"4\" + 0.024*\"1\"')\n",
            "토픽중요도: 1 % 토픽번호 및 해당키워드중요도: (13, '0.038*\"윤\" + 0.035*\"대한\" + 0.035*\"민국\" + 0.035*\"대한민국\" + 0.019*\"열\" + 0.018*\"분\" + 0.017*\"대통령\"')\n",
            "토픽중요도: 2 % 토픽번호 및 해당키워드중요도: (8, '0.063*\"표\" + 0.055*\"홍\" + 0.045*\"윤\" + 0.037*\"국민\" + 0.029*\"동\" + 0.026*\"당\" + 0.026*\"대장\"')\n",
            "토픽중요도: 0 % 토픽번호 및 해당키워드중요도: (8, '0.063*\"표\" + 0.055*\"홍\" + 0.045*\"윤\" + 0.037*\"국민\" + 0.029*\"동\" + 0.026*\"당\" + 0.026*\"대장\"')\n",
            "토픽중요도: 4 % 토픽번호 및 해당키워드중요도: (5, '0.046*\"종\" + 0.042*\"윤\" + 0.042*\"부세\" + 0.041*\"종부세\" + 0.019*\"1\" + 0.017*\"열\" + 0.015*\"부자\"')\n",
            "토픽중요도: 0 % 토픽번호 및 해당키워드중요도: (19, '0.064*\"윤\" + 0.045*\"열\" + 0.032*\"후보\" + 0.026*\"이재명\" + 0.024*\"힘\" + 0.020*\"국민\" + 0.020*\"대선\"')\n",
            "토픽중요도: 5 % 토픽번호 및 해당키워드중요도: (4, '0.077*\"윤\" + 0.066*\"열\" + 0.052*\"이재명\" + 0.037*\"출처\" + 0.033*\"뉴스\" + 0.024*\"4\" + 0.024*\"1\"')\n",
            "토픽중요도: 2 % 토픽번호 및 해당키워드중요도: (19, '0.064*\"윤\" + 0.045*\"열\" + 0.032*\"후보\" + 0.026*\"이재명\" + 0.024*\"힘\" + 0.020*\"국민\" + 0.020*\"대선\"')\n",
            "토픽중요도: 0 % 토픽번호 및 해당키워드중요도: (17, '0.051*\"윤\" + 0.041*\"열\" + 0.028*\"이재명\" + 0.026*\"낙\" + 0.018*\"교체\" + 0.017*\"연\" + 0.016*\"후보\"')\n",
            "토픽중요도: 0 % 토픽번호 및 해당키워드중요도: (3, '0.046*\"김건희\" + 0.040*\"김\" + 0.038*\"건희\" + 0.031*\"윤\" + 0.028*\"조작\" + 0.025*\"주가\" + 0.021*\"장모\"')\n",
            "토픽중요도: 0 % 토픽번호 및 해당키워드중요도: (18, '0.036*\"문\" + 0.027*\"윤\" + 0.027*\"재인\" + 0.022*\"문재인\" + 0.017*\"기\" + 0.017*\"정부\" + 0.016*\"검찰\"')\n",
            "토픽중요도: 0 % 토픽번호 및 해당키워드중요도: (19, '0.064*\"윤\" + 0.045*\"열\" + 0.032*\"후보\" + 0.026*\"이재명\" + 0.024*\"힘\" + 0.020*\"국민\" + 0.020*\"대선\"')\n",
            "토픽중요도: 0 % 토픽번호 및 해당키워드중요도: (13, '0.038*\"윤\" + 0.035*\"대한\" + 0.035*\"민국\" + 0.035*\"대한민국\" + 0.019*\"열\" + 0.018*\"분\" + 0.017*\"대통령\"')\n",
            "토픽중요도: 0 % 토픽번호 및 해당키워드중요도: (1, '0.118*\"다음\" + 0.118*\"뉴스\" + 0.054*\"윤\" + 0.034*\"다음뉴스\" + 0.018*\"열\" + 0.017*\"8\" + 0.015*\"0\"')\n",
            "토픽중요도: 0 % 토픽번호 및 해당키워드중요도: (18, '0.036*\"문\" + 0.027*\"윤\" + 0.027*\"재인\" + 0.022*\"문재인\" + 0.017*\"기\" + 0.017*\"정부\" + 0.016*\"검찰\"')\n",
            "토픽중요도: 0 % 토픽번호 및 해당키워드중요도: (6, '0.024*\"박\" + 0.020*\"년\" + 0.020*\"윤\" + 0.017*\"검찰\" + 0.013*\"권오수\" + 0.011*\"기소\" + 0.010*\"영수\"')\n",
            "토픽중요도: 1 % 토픽번호 및 해당키워드중요도: (5, '0.046*\"종\" + 0.042*\"윤\" + 0.042*\"부세\" + 0.041*\"종부세\" + 0.019*\"1\" + 0.017*\"열\" + 0.015*\"부자\"')\n",
            "토픽중요도: 0 % 토픽번호 및 해당키워드중요도: (18, '0.036*\"문\" + 0.027*\"윤\" + 0.027*\"재인\" + 0.022*\"문재인\" + 0.017*\"기\" + 0.017*\"정부\" + 0.016*\"검찰\"')\n",
            "토픽중요도: 0 % 토픽번호 및 해당키워드중요도: (1, '0.118*\"다음\" + 0.118*\"뉴스\" + 0.054*\"윤\" + 0.034*\"다음뉴스\" + 0.018*\"열\" + 0.017*\"8\" + 0.015*\"0\"')\n",
            "토픽중요도: 0 % 토픽번호 및 해당키워드중요도: (5, '0.046*\"종\" + 0.042*\"윤\" + 0.042*\"부세\" + 0.041*\"종부세\" + 0.019*\"1\" + 0.017*\"열\" + 0.015*\"부자\"')\n",
            "토픽중요도: 0 % 토픽번호 및 해당키워드중요도: (0, '0.048*\"윤\" + 0.033*\"열\" + 0.017*\"이재명\" + 0.012*\"대통령\" + 0.012*\"안\" + 0.011*\"철수\" + 0.008*\"안철수\"')\n",
            "토픽중요도: 0 % 토픽번호 및 해당키워드중요도: (2, '0.043*\"조사\" + 0.037*\"여론\" + 0.027*\"여론조사\" + 0.021*\"지지율\" + 0.020*\"격차\" + 0.019*\"이재명\" + 0.016*\"윤\"')\n",
            "토픽중요도: 0 % 토픽번호 및 해당키워드중요도: (19, '0.064*\"윤\" + 0.045*\"열\" + 0.032*\"후보\" + 0.026*\"이재명\" + 0.024*\"힘\" + 0.020*\"국민\" + 0.020*\"대선\"')\n",
            "토픽중요도: 0 % 토픽번호 및 해당키워드중요도: (0, '0.048*\"윤\" + 0.033*\"열\" + 0.017*\"이재명\" + 0.012*\"대통령\" + 0.012*\"안\" + 0.011*\"철수\" + 0.008*\"안철수\"')\n",
            "토픽중요도: 0 % 토픽번호 및 해당키워드중요도: (7, '0.034*\"윤\" + 0.022*\"목포\" + 0.021*\"열\" + 0.020*\"논란\" + 0.014*\"폭탄주\" + 0.013*\"만찬\" + 0.011*\"위반\"')\n",
            "토픽중요도: 7 % 토픽번호 및 해당키워드중요도: (4, '0.077*\"윤\" + 0.066*\"열\" + 0.052*\"이재명\" + 0.037*\"출처\" + 0.033*\"뉴스\" + 0.024*\"4\" + 0.024*\"1\"')\n",
            "토픽중요도: 0 % 토픽번호 및 해당키워드중요도: (17, '0.051*\"윤\" + 0.041*\"열\" + 0.028*\"이재명\" + 0.026*\"낙\" + 0.018*\"교체\" + 0.017*\"연\" + 0.016*\"후보\"')\n",
            "토픽중요도: 0 % 토픽번호 및 해당키워드중요도: (19, '0.064*\"윤\" + 0.045*\"열\" + 0.032*\"후보\" + 0.026*\"이재명\" + 0.024*\"힘\" + 0.020*\"국민\" + 0.020*\"대선\"')\n",
            "토픽중요도: 6 % 토픽번호 및 해당키워드중요도: (8, '0.063*\"표\" + 0.055*\"홍\" + 0.045*\"윤\" + 0.037*\"국민\" + 0.029*\"동\" + 0.026*\"당\" + 0.026*\"대장\"')\n",
            "토픽중요도: 1 % 토픽번호 및 해당키워드중요도: (18, '0.036*\"문\" + 0.027*\"윤\" + 0.027*\"재인\" + 0.022*\"문재인\" + 0.017*\"기\" + 0.017*\"정부\" + 0.016*\"검찰\"')\n",
            "토픽중요도: 2 % 토픽번호 및 해당키워드중요도: (8, '0.063*\"표\" + 0.055*\"홍\" + 0.045*\"윤\" + 0.037*\"국민\" + 0.029*\"동\" + 0.026*\"당\" + 0.026*\"대장\"')\n",
            "토픽중요도: 0 % 토픽번호 및 해당키워드중요도: (10, '0.053*\"윤\" + 0.024*\"열\" + 0.019*\"길\" + 0.013*\"거\" + 0.013*\"송영\" + 0.011*\"송영길\" + 0.011*\"라\"')\n",
            "토픽중요도: 4 % 토픽번호 및 해당키워드중요도: (5, '0.046*\"종\" + 0.042*\"윤\" + 0.042*\"부세\" + 0.041*\"종부세\" + 0.019*\"1\" + 0.017*\"열\" + 0.015*\"부자\"')\n",
            "토픽중요도: 0 % 토픽번호 및 해당키워드중요도: (5, '0.046*\"종\" + 0.042*\"윤\" + 0.042*\"부세\" + 0.041*\"종부세\" + 0.019*\"1\" + 0.017*\"열\" + 0.015*\"부자\"')\n",
            "토픽중요도: 1 % 토픽번호 및 해당키워드중요도: (5, '0.046*\"종\" + 0.042*\"윤\" + 0.042*\"부세\" + 0.041*\"종부세\" + 0.019*\"1\" + 0.017*\"열\" + 0.015*\"부자\"')\n",
            "토픽중요도: 0 % 토픽번호 및 해당키워드중요도: (0, '0.048*\"윤\" + 0.033*\"열\" + 0.017*\"이재명\" + 0.012*\"대통령\" + 0.012*\"안\" + 0.011*\"철수\" + 0.008*\"안철수\"')\n",
            "토픽중요도: 0 % 토픽번호 및 해당키워드중요도: (0, '0.048*\"윤\" + 0.033*\"열\" + 0.017*\"이재명\" + 0.012*\"대통령\" + 0.012*\"안\" + 0.011*\"철수\" + 0.008*\"안철수\"')\n",
            "토픽중요도: 0 % 토픽번호 및 해당키워드중요도: (19, '0.064*\"윤\" + 0.045*\"열\" + 0.032*\"후보\" + 0.026*\"이재명\" + 0.024*\"힘\" + 0.020*\"국민\" + 0.020*\"대선\"')\n",
            "토픽중요도: 0 % 토픽번호 및 해당키워드중요도: (2, '0.043*\"조사\" + 0.037*\"여론\" + 0.027*\"여론조사\" + 0.021*\"지지율\" + 0.020*\"격차\" + 0.019*\"이재명\" + 0.016*\"윤\"')\n",
            "토픽중요도: 0 % 토픽번호 및 해당키워드중요도: (18, '0.036*\"문\" + 0.027*\"윤\" + 0.027*\"재인\" + 0.022*\"문재인\" + 0.017*\"기\" + 0.017*\"정부\" + 0.016*\"검찰\"')\n",
            "토픽중요도: 1 % 토픽번호 및 해당키워드중요도: (5, '0.046*\"종\" + 0.042*\"윤\" + 0.042*\"부세\" + 0.041*\"종부세\" + 0.019*\"1\" + 0.017*\"열\" + 0.015*\"부자\"')\n",
            "토픽중요도: 0 % 토픽번호 및 해당키워드중요도: (17, '0.051*\"윤\" + 0.041*\"열\" + 0.028*\"이재명\" + 0.026*\"낙\" + 0.018*\"교체\" + 0.017*\"연\" + 0.016*\"후보\"')\n",
            "토픽중요도: 0 % 토픽번호 및 해당키워드중요도: (5, '0.046*\"종\" + 0.042*\"윤\" + 0.042*\"부세\" + 0.041*\"종부세\" + 0.019*\"1\" + 0.017*\"열\" + 0.015*\"부자\"')\n",
            "토픽중요도: 0 % 토픽번호 및 해당키워드중요도: (0, '0.048*\"윤\" + 0.033*\"열\" + 0.017*\"이재명\" + 0.012*\"대통령\" + 0.012*\"안\" + 0.011*\"철수\" + 0.008*\"안철수\"')\n",
            "토픽중요도: 0 % 토픽번호 및 해당키워드중요도: (17, '0.051*\"윤\" + 0.041*\"열\" + 0.028*\"이재명\" + 0.026*\"낙\" + 0.018*\"교체\" + 0.017*\"연\" + 0.016*\"후보\"')\n",
            "토픽중요도: 1 % 토픽번호 및 해당키워드중요도: (5, '0.046*\"종\" + 0.042*\"윤\" + 0.042*\"부세\" + 0.041*\"종부세\" + 0.019*\"1\" + 0.017*\"열\" + 0.015*\"부자\"')\n",
            "토픽중요도: 0 % 토픽번호 및 해당키워드중요도: (8, '0.063*\"표\" + 0.055*\"홍\" + 0.045*\"윤\" + 0.037*\"국민\" + 0.029*\"동\" + 0.026*\"당\" + 0.026*\"대장\"')\n",
            "토픽중요도: 0 % 토픽번호 및 해당키워드중요도: (10, '0.053*\"윤\" + 0.024*\"열\" + 0.019*\"길\" + 0.013*\"거\" + 0.013*\"송영\" + 0.011*\"송영길\" + 0.011*\"라\"')\n",
            "토픽중요도: 0 % 토픽번호 및 해당키워드중요도: (15, '0.021*\"윤\" + 0.019*\"50\" + 0.017*\"선거\" + 0.012*\"33\" + 0.012*\"52\" + 0.011*\"경기\" + 0.011*\"정의\"')\n",
            "토픽중요도: 4 % 토픽번호 및 해당키워드중요도: (5, '0.046*\"종\" + 0.042*\"윤\" + 0.042*\"부세\" + 0.041*\"종부세\" + 0.019*\"1\" + 0.017*\"열\" + 0.015*\"부자\"')\n",
            "토픽중요도: 0 % 토픽번호 및 해당키워드중요도: (19, '0.064*\"윤\" + 0.045*\"열\" + 0.032*\"후보\" + 0.026*\"이재명\" + 0.024*\"힘\" + 0.020*\"국민\" + 0.020*\"대선\"')\n",
            "토픽중요도: 0 % 토픽번호 및 해당키워드중요도: (15, '0.021*\"윤\" + 0.019*\"50\" + 0.017*\"선거\" + 0.012*\"33\" + 0.012*\"52\" + 0.011*\"경기\" + 0.011*\"정의\"')\n",
            "토픽중요도: 0 % 토픽번호 및 해당키워드중요도: (2, '0.043*\"조사\" + 0.037*\"여론\" + 0.027*\"여론조사\" + 0.021*\"지지율\" + 0.020*\"격차\" + 0.019*\"이재명\" + 0.016*\"윤\"')\n",
            "토픽중요도: 0 % 토픽번호 및 해당키워드중요도: (8, '0.063*\"표\" + 0.055*\"홍\" + 0.045*\"윤\" + 0.037*\"국민\" + 0.029*\"동\" + 0.026*\"당\" + 0.026*\"대장\"')\n",
            "토픽중요도: 1 % 토픽번호 및 해당키워드중요도: (5, '0.046*\"종\" + 0.042*\"윤\" + 0.042*\"부세\" + 0.041*\"종부세\" + 0.019*\"1\" + 0.017*\"열\" + 0.015*\"부자\"')\n",
            "토픽중요도: 0 % 토픽번호 및 해당키워드중요도: (8, '0.063*\"표\" + 0.055*\"홍\" + 0.045*\"윤\" + 0.037*\"국민\" + 0.029*\"동\" + 0.026*\"당\" + 0.026*\"대장\"')\n",
            "토픽중요도: 0 % 토픽번호 및 해당키워드중요도: (0, '0.048*\"윤\" + 0.033*\"열\" + 0.017*\"이재명\" + 0.012*\"대통령\" + 0.012*\"안\" + 0.011*\"철수\" + 0.008*\"안철수\"')\n",
            "토픽중요도: 0 % 토픽번호 및 해당키워드중요도: (14, '0.047*\"윤\" + 0.029*\"열\" + 0.025*\"석\" + 0.019*\"이재명\" + 0.019*\"정권\" + 0.018*\"정\" + 0.015*\"심상\"')\n",
            "토픽중요도: 3 % 토픽번호 및 해당키워드중요도: (19, '0.064*\"윤\" + 0.045*\"열\" + 0.032*\"후보\" + 0.026*\"이재명\" + 0.024*\"힘\" + 0.020*\"국민\" + 0.020*\"대선\"')\n",
            "토픽중요도: 0 % 토픽번호 및 해당키워드중요도: (5, '0.046*\"종\" + 0.042*\"윤\" + 0.042*\"부세\" + 0.041*\"종부세\" + 0.019*\"1\" + 0.017*\"열\" + 0.015*\"부자\"')\n",
            "토픽중요도: 1 % 토픽번호 및 해당키워드중요도: (16, '0.034*\"윤\" + 0.016*\"혜\" + 0.015*\"경\" + 0.015*\"개\" + 0.015*\"열\" + 0.014*\"질문\" + 0.013*\"사과\"')\n",
            "토픽중요도: 0 % 토픽번호 및 해당키워드중요도: (3, '0.046*\"김건희\" + 0.040*\"김\" + 0.038*\"건희\" + 0.031*\"윤\" + 0.028*\"조작\" + 0.025*\"주가\" + 0.021*\"장모\"')\n",
            "토픽중요도: 0 % 토픽번호 및 해당키워드중요도: (12, '0.053*\"김\" + 0.042*\"윤\" + 0.036*\"위\" + 0.030*\"선대\" + 0.025*\"준석\" + 0.023*\"선대위\" + 0.022*\"종인\"')\n",
            "토픽중요도: 0 % 토픽번호 및 해당키워드중요도: (0, '0.048*\"윤\" + 0.033*\"열\" + 0.017*\"이재명\" + 0.012*\"대통령\" + 0.012*\"안\" + 0.011*\"철수\" + 0.008*\"안철수\"')\n",
            "토픽중요도: 0 % 토픽번호 및 해당키워드중요도: (1, '0.118*\"다음\" + 0.118*\"뉴스\" + 0.054*\"윤\" + 0.034*\"다음뉴스\" + 0.018*\"열\" + 0.017*\"8\" + 0.015*\"0\"')\n",
            "토픽중요도: 0 % 토픽번호 및 해당키워드중요도: (4, '0.077*\"윤\" + 0.066*\"열\" + 0.052*\"이재명\" + 0.037*\"출처\" + 0.033*\"뉴스\" + 0.024*\"4\" + 0.024*\"1\"')\n",
            "토픽중요도: 0 % 토픽번호 및 해당키워드중요도: (0, '0.048*\"윤\" + 0.033*\"열\" + 0.017*\"이재명\" + 0.012*\"대통령\" + 0.012*\"안\" + 0.011*\"철수\" + 0.008*\"안철수\"')\n",
            "토픽중요도: 0 % 토픽번호 및 해당키워드중요도: (0, '0.048*\"윤\" + 0.033*\"열\" + 0.017*\"이재명\" + 0.012*\"대통령\" + 0.012*\"안\" + 0.011*\"철수\" + 0.008*\"안철수\"')\n",
            "토픽중요도: 1 % 토픽번호 및 해당키워드중요도: (4, '0.077*\"윤\" + 0.066*\"열\" + 0.052*\"이재명\" + 0.037*\"출처\" + 0.033*\"뉴스\" + 0.024*\"4\" + 0.024*\"1\"')\n",
            "토픽중요도: 0 % 토픽번호 및 해당키워드중요도: (0, '0.048*\"윤\" + 0.033*\"열\" + 0.017*\"이재명\" + 0.012*\"대통령\" + 0.012*\"안\" + 0.011*\"철수\" + 0.008*\"안철수\"')\n",
            "토픽중요도: 0 % 토픽번호 및 해당키워드중요도: (0, '0.048*\"윤\" + 0.033*\"열\" + 0.017*\"이재명\" + 0.012*\"대통령\" + 0.012*\"안\" + 0.011*\"철수\" + 0.008*\"안철수\"')\n",
            "토픽중요도: 0 % 토픽번호 및 해당키워드중요도: (12, '0.053*\"김\" + 0.042*\"윤\" + 0.036*\"위\" + 0.030*\"선대\" + 0.025*\"준석\" + 0.023*\"선대위\" + 0.022*\"종인\"')\n",
            "토픽중요도: 0 % 토픽번호 및 해당키워드중요도: (12, '0.053*\"김\" + 0.042*\"윤\" + 0.036*\"위\" + 0.030*\"선대\" + 0.025*\"준석\" + 0.023*\"선대위\" + 0.022*\"종인\"')\n",
            "토픽중요도: 2 % 토픽번호 및 해당키워드중요도: (4, '0.077*\"윤\" + 0.066*\"열\" + 0.052*\"이재명\" + 0.037*\"출처\" + 0.033*\"뉴스\" + 0.024*\"4\" + 0.024*\"1\"')\n",
            "토픽중요도: 0 % 토픽번호 및 해당키워드중요도: (0, '0.048*\"윤\" + 0.033*\"열\" + 0.017*\"이재명\" + 0.012*\"대통령\" + 0.012*\"안\" + 0.011*\"철수\" + 0.008*\"안철수\"')\n",
            "토픽중요도: 0 % 토픽번호 및 해당키워드중요도: (0, '0.048*\"윤\" + 0.033*\"열\" + 0.017*\"이재명\" + 0.012*\"대통령\" + 0.012*\"안\" + 0.011*\"철수\" + 0.008*\"안철수\"')\n",
            "토픽중요도: 0 % 토픽번호 및 해당키워드중요도: (10, '0.053*\"윤\" + 0.024*\"열\" + 0.019*\"길\" + 0.013*\"거\" + 0.013*\"송영\" + 0.011*\"송영길\" + 0.011*\"라\"')\n",
            "토픽중요도: 0 % 토픽번호 및 해당키워드중요도: (5, '0.046*\"종\" + 0.042*\"윤\" + 0.042*\"부세\" + 0.041*\"종부세\" + 0.019*\"1\" + 0.017*\"열\" + 0.015*\"부자\"')\n",
            "토픽중요도: 4 % 토픽번호 및 해당키워드중요도: (5, '0.046*\"종\" + 0.042*\"윤\" + 0.042*\"부세\" + 0.041*\"종부세\" + 0.019*\"1\" + 0.017*\"열\" + 0.015*\"부자\"')\n",
            "토픽중요도: 11 % 토픽번호 및 해당키워드중요도: (1, '0.118*\"다음\" + 0.118*\"뉴스\" + 0.054*\"윤\" + 0.034*\"다음뉴스\" + 0.018*\"열\" + 0.017*\"8\" + 0.015*\"0\"')\n",
            "토픽중요도: 4 % 토픽번호 및 해당키워드중요도: (5, '0.046*\"종\" + 0.042*\"윤\" + 0.042*\"부세\" + 0.041*\"종부세\" + 0.019*\"1\" + 0.017*\"열\" + 0.015*\"부자\"')\n",
            "토픽중요도: 3 % 토픽번호 및 해당키워드중요도: (13, '0.038*\"윤\" + 0.035*\"대한\" + 0.035*\"민국\" + 0.035*\"대한민국\" + 0.019*\"열\" + 0.018*\"분\" + 0.017*\"대통령\"')\n",
            "토픽중요도: 0 % 토픽번호 및 해당키워드중요도: (19, '0.064*\"윤\" + 0.045*\"열\" + 0.032*\"후보\" + 0.026*\"이재명\" + 0.024*\"힘\" + 0.020*\"국민\" + 0.020*\"대선\"')\n",
            "토픽중요도: 0 % 토픽번호 및 해당키워드중요도: (10, '0.053*\"윤\" + 0.024*\"열\" + 0.019*\"길\" + 0.013*\"거\" + 0.013*\"송영\" + 0.011*\"송영길\" + 0.011*\"라\"')\n",
            "토픽중요도: 0 % 토픽번호 및 해당키워드중요도: (7, '0.034*\"윤\" + 0.022*\"목포\" + 0.021*\"열\" + 0.020*\"논란\" + 0.014*\"폭탄주\" + 0.013*\"만찬\" + 0.011*\"위반\"')\n",
            "토픽중요도: 0 % 토픽번호 및 해당키워드중요도: (10, '0.053*\"윤\" + 0.024*\"열\" + 0.019*\"길\" + 0.013*\"거\" + 0.013*\"송영\" + 0.011*\"송영길\" + 0.011*\"라\"')\n",
            "토픽중요도: 1 % 토픽번호 및 해당키워드중요도: (8, '0.063*\"표\" + 0.055*\"홍\" + 0.045*\"윤\" + 0.037*\"국민\" + 0.029*\"동\" + 0.026*\"당\" + 0.026*\"대장\"')\n",
            "토픽중요도: 1 % 토픽번호 및 해당키워드중요도: (14, '0.047*\"윤\" + 0.029*\"열\" + 0.025*\"석\" + 0.019*\"이재명\" + 0.019*\"정권\" + 0.018*\"정\" + 0.015*\"심상\"')\n",
            "토픽중요도: 0 % 토픽번호 및 해당키워드중요도: (11, '0.037*\"윤\" + 0.035*\"수사\" + 0.025*\"처\" + 0.023*\"열\" + 0.021*\"공수\" + 0.019*\"검찰\" + 0.019*\"공수처\"')\n",
            "토픽중요도: 0 % 토픽번호 및 해당키워드중요도: (11, '0.037*\"윤\" + 0.035*\"수사\" + 0.025*\"처\" + 0.023*\"열\" + 0.021*\"공수\" + 0.019*\"검찰\" + 0.019*\"공수처\"')\n",
            "토픽중요도: 7 % 토픽번호 및 해당키워드중요도: (4, '0.077*\"윤\" + 0.066*\"열\" + 0.052*\"이재명\" + 0.037*\"출처\" + 0.033*\"뉴스\" + 0.024*\"4\" + 0.024*\"1\"')\n",
            "토픽중요도: 0 % 토픽번호 및 해당키워드중요도: (5, '0.046*\"종\" + 0.042*\"윤\" + 0.042*\"부세\" + 0.041*\"종부세\" + 0.019*\"1\" + 0.017*\"열\" + 0.015*\"부자\"')\n",
            "토픽중요도: 1 % 토픽번호 및 해당키워드중요도: (5, '0.046*\"종\" + 0.042*\"윤\" + 0.042*\"부세\" + 0.041*\"종부세\" + 0.019*\"1\" + 0.017*\"열\" + 0.015*\"부자\"')\n",
            "토픽중요도: 11 % 토픽번호 및 해당키워드중요도: (1, '0.118*\"다음\" + 0.118*\"뉴스\" + 0.054*\"윤\" + 0.034*\"다음뉴스\" + 0.018*\"열\" + 0.017*\"8\" + 0.015*\"0\"')\n",
            "토픽중요도: 0 % 토픽번호 및 해당키워드중요도: (19, '0.064*\"윤\" + 0.045*\"열\" + 0.032*\"후보\" + 0.026*\"이재명\" + 0.024*\"힘\" + 0.020*\"국민\" + 0.020*\"대선\"')\n",
            "토픽중요도: 0 % 토픽번호 및 해당키워드중요도: (14, '0.047*\"윤\" + 0.029*\"열\" + 0.025*\"석\" + 0.019*\"이재명\" + 0.019*\"정권\" + 0.018*\"정\" + 0.015*\"심상\"')\n",
            "토픽중요도: 4 % 토픽번호 및 해당키워드중요도: (5, '0.046*\"종\" + 0.042*\"윤\" + 0.042*\"부세\" + 0.041*\"종부세\" + 0.019*\"1\" + 0.017*\"열\" + 0.015*\"부자\"')\n",
            "토픽중요도: 0 % 토픽번호 및 해당키워드중요도: (10, '0.053*\"윤\" + 0.024*\"열\" + 0.019*\"길\" + 0.013*\"거\" + 0.013*\"송영\" + 0.011*\"송영길\" + 0.011*\"라\"')\n",
            "토픽중요도: 0 % 토픽번호 및 해당키워드중요도: (0, '0.048*\"윤\" + 0.033*\"열\" + 0.017*\"이재명\" + 0.012*\"대통령\" + 0.012*\"안\" + 0.011*\"철수\" + 0.008*\"안철수\"')\n",
            "토픽중요도: 0 % 토픽번호 및 해당키워드중요도: (15, '0.021*\"윤\" + 0.019*\"50\" + 0.017*\"선거\" + 0.012*\"33\" + 0.012*\"52\" + 0.011*\"경기\" + 0.011*\"정의\"')\n",
            "토픽중요도: 1 % 토픽번호 및 해당키워드중요도: (18, '0.036*\"문\" + 0.027*\"윤\" + 0.027*\"재인\" + 0.022*\"문재인\" + 0.017*\"기\" + 0.017*\"정부\" + 0.016*\"검찰\"')\n",
            "토픽중요도: 0 % 토픽번호 및 해당키워드중요도: (5, '0.046*\"종\" + 0.042*\"윤\" + 0.042*\"부세\" + 0.041*\"종부세\" + 0.019*\"1\" + 0.017*\"열\" + 0.015*\"부자\"')\n",
            "토픽중요도: 0 % 토픽번호 및 해당키워드중요도: (16, '0.034*\"윤\" + 0.016*\"혜\" + 0.015*\"경\" + 0.015*\"개\" + 0.015*\"열\" + 0.014*\"질문\" + 0.013*\"사과\"')\n",
            "토픽중요도: 4 % 토픽번호 및 해당키워드중요도: (5, '0.046*\"종\" + 0.042*\"윤\" + 0.042*\"부세\" + 0.041*\"종부세\" + 0.019*\"1\" + 0.017*\"열\" + 0.015*\"부자\"')\n",
            "토픽중요도: 2 % 토픽번호 및 해당키워드중요도: (4, '0.077*\"윤\" + 0.066*\"열\" + 0.052*\"이재명\" + 0.037*\"출처\" + 0.033*\"뉴스\" + 0.024*\"4\" + 0.024*\"1\"')\n",
            "토픽중요도: 3 % 토픽번호 및 해당키워드중요도: (18, '0.036*\"문\" + 0.027*\"윤\" + 0.027*\"재인\" + 0.022*\"문재인\" + 0.017*\"기\" + 0.017*\"정부\" + 0.016*\"검찰\"')\n",
            "토픽중요도: 4 % 토픽번호 및 해당키워드중요도: (5, '0.046*\"종\" + 0.042*\"윤\" + 0.042*\"부세\" + 0.041*\"종부세\" + 0.019*\"1\" + 0.017*\"열\" + 0.015*\"부자\"')\n",
            "토픽중요도: 4 % 토픽번호 및 해당키워드중요도: (5, '0.046*\"종\" + 0.042*\"윤\" + 0.042*\"부세\" + 0.041*\"종부세\" + 0.019*\"1\" + 0.017*\"열\" + 0.015*\"부자\"')\n",
            "토픽중요도: 7 % 토픽번호 및 해당키워드중요도: (4, '0.077*\"윤\" + 0.066*\"열\" + 0.052*\"이재명\" + 0.037*\"출처\" + 0.033*\"뉴스\" + 0.024*\"4\" + 0.024*\"1\"')\n",
            "토픽중요도: 0 % 토픽번호 및 해당키워드중요도: (1, '0.118*\"다음\" + 0.118*\"뉴스\" + 0.054*\"윤\" + 0.034*\"다음뉴스\" + 0.018*\"열\" + 0.017*\"8\" + 0.015*\"0\"')\n",
            "토픽중요도: 0 % 토픽번호 및 해당키워드중요도: (15, '0.021*\"윤\" + 0.019*\"50\" + 0.017*\"선거\" + 0.012*\"33\" + 0.012*\"52\" + 0.011*\"경기\" + 0.011*\"정의\"')\n"
          ]
        }
      ]
    }
  ]
}