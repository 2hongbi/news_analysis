{
  "nbformat": 4,
  "nbformat_minor": 0,
  "metadata": {
    "colab": {
      "name": "LDA_practice2_이재명.ipynb",
      "provenance": [],
      "collapsed_sections": [
        "cC5GwAKwo3CZ"
      ]
    },
    "kernelspec": {
      "name": "python3",
      "display_name": "Python 3"
    },
    "language_info": {
      "name": "python"
    }
  },
  "cells": [
    {
      "cell_type": "code",
      "metadata": {
        "colab": {
          "base_uri": "https://localhost:8080/"
        },
        "id": "31lMlebGMh7p",
        "outputId": "8b4bc61e-81c1-410c-801b-f3465f479bc2"
      },
      "source": [
        "from google.colab import drive\n",
        "drive.mount('/content/drive')"
      ],
      "execution_count": null,
      "outputs": [
        {
          "output_type": "stream",
          "name": "stdout",
          "text": [
            "Mounted at /content/drive\n"
          ]
        }
      ]
    },
    {
      "cell_type": "code",
      "metadata": {
        "id": "zwzT-j9sNI7k"
      },
      "source": [
        "import pandas as pd\n",
        "import numpy as np"
      ],
      "execution_count": null,
      "outputs": []
    },
    {
      "cell_type": "code",
      "metadata": {
        "colab": {
          "base_uri": "https://localhost:8080/",
          "height": 206
        },
        "id": "UUI53c6YNJES",
        "outputId": "b3532555-ebd0-4029-c24f-fee2131641d3"
      },
      "source": [
        "data=pd.read_csv(\"/content/drive/MyDrive/outlier/이재명.csv\")\n",
        "data.head()\n"
      ],
      "execution_count": null,
      "outputs": [
        {
          "output_type": "execute_result",
          "data": {
            "text/html": [
              "<div>\n",
              "<style scoped>\n",
              "    .dataframe tbody tr th:only-of-type {\n",
              "        vertical-align: middle;\n",
              "    }\n",
              "\n",
              "    .dataframe tbody tr th {\n",
              "        vertical-align: top;\n",
              "    }\n",
              "\n",
              "    .dataframe thead th {\n",
              "        text-align: right;\n",
              "    }\n",
              "</style>\n",
              "<table border=\"1\" class=\"dataframe\">\n",
              "  <thead>\n",
              "    <tr style=\"text-align: right;\">\n",
              "      <th></th>\n",
              "      <th>tweet</th>\n",
              "      <th>date</th>\n",
              "      <th>retweets_count</th>\n",
              "      <th>link</th>\n",
              "    </tr>\n",
              "  </thead>\n",
              "  <tbody>\n",
              "    <tr>\n",
              "      <th>0</th>\n",
              "      <td>윤석열 vs 이재명 인성 논란 이 영상 하나로 종결 짓습니다 심각한 언론 형평성 4...</td>\n",
              "      <td>2021-11-22</td>\n",
              "      <td>0</td>\n",
              "      <td>https://twitter.com/SungJun_777/status/1462764...</td>\n",
              "    </tr>\n",
              "    <tr>\n",
              "      <th>1</th>\n",
              "      <td>jtkim1013 좌파들아 이재명을 구속해 그래야 윤돌이도 구속하지</td>\n",
              "      <td>2021-11-22</td>\n",
              "      <td>0</td>\n",
              "      <td>https://twitter.com/sosara609/status/146276435...</td>\n",
              "    </tr>\n",
              "    <tr>\n",
              "      <th>2</th>\n",
              "      <td>지도부 빼고 취준생 앉히고 이재명 부동산 대장동 반성 사과 B98BA8fnHt</td>\n",
              "      <td>2021-11-22</td>\n",
              "      <td>0</td>\n",
              "      <td>https://twitter.com/love2poem/status/146276434...</td>\n",
              "    </tr>\n",
              "    <tr>\n",
              "      <th>3</th>\n",
              "      <td>TheMinjoo_Kr 국힘당 보다 수준 떨어지는 만주당 상태 북한까지 이재명의 ...</td>\n",
              "      <td>2021-11-22</td>\n",
              "      <td>0</td>\n",
              "      <td>https://twitter.com/lanotte702/status/14627642...</td>\n",
              "    </tr>\n",
              "    <tr>\n",
              "      <th>4</th>\n",
              "      <td>진성준 아주 무례하고 개매너인 거 이재명을 위해 온 몸을 바쳐 막아가며 소리지르고 ...</td>\n",
              "      <td>2021-11-22</td>\n",
              "      <td>1</td>\n",
              "      <td>https://twitter.com/digidigi0208/status/146276...</td>\n",
              "    </tr>\n",
              "  </tbody>\n",
              "</table>\n",
              "</div>"
            ],
            "text/plain": [
              "                                               tweet  ...                                               link\n",
              "0  윤석열 vs 이재명 인성 논란 이 영상 하나로 종결 짓습니다 심각한 언론 형평성 4...  ...  https://twitter.com/SungJun_777/status/1462764...\n",
              "1             jtkim1013 좌파들아 이재명을 구속해 그래야 윤돌이도 구속하지   ...  https://twitter.com/sosara609/status/146276435...\n",
              "2        지도부 빼고 취준생 앉히고 이재명 부동산 대장동 반성 사과 B98BA8fnHt  ...  https://twitter.com/love2poem/status/146276434...\n",
              "3   TheMinjoo_Kr 국힘당 보다 수준 떨어지는 만주당 상태 북한까지 이재명의 ...  ...  https://twitter.com/lanotte702/status/14627642...\n",
              "4  진성준 아주 무례하고 개매너인 거 이재명을 위해 온 몸을 바쳐 막아가며 소리지르고 ...  ...  https://twitter.com/digidigi0208/status/146276...\n",
              "\n",
              "[5 rows x 4 columns]"
            ]
          },
          "metadata": {},
          "execution_count": 3
        }
      ]
    },
    {
      "cell_type": "code",
      "metadata": {
        "colab": {
          "base_uri": "https://localhost:8080/"
        },
        "id": "ariILWYSROAS",
        "outputId": "04a3d752-198d-4405-b9e9-d125a638cbe2"
      },
      "source": [
        "range(len(data[\"tweet\"]))"
      ],
      "execution_count": null,
      "outputs": [
        {
          "output_type": "execute_result",
          "data": {
            "text/plain": [
              "range(0, 59880)"
            ]
          },
          "metadata": {},
          "execution_count": 4
        }
      ]
    },
    {
      "cell_type": "markdown",
      "metadata": {
        "id": "xGT7SVb6Z-FV"
      },
      "source": [
        "# 정수 인코딩과 단어 집합 만들기"
      ]
    },
    {
      "cell_type": "code",
      "metadata": {
        "id": "JuBJuni0mBgD"
      },
      "source": [
        "!pip install konlpy\n",
        "from konlpy.tag import Kkma  \n",
        "kkma = Kkma()\n",
        "tokenized_doc=[]\n",
        "for n in range(len(data[\"tweet\"])):\n",
        "    text = data[\"tweet\"][n]\n",
        "    tokenized_doc.append(list(kkma.nouns(str(text))))\n",
        "print(tokenized_doc[:5])"
      ],
      "execution_count": null,
      "outputs": []
    },
    {
      "cell_type": "code",
      "metadata": {
        "colab": {
          "base_uri": "https://localhost:8080/"
        },
        "id": "_eyhPd0DLUGA",
        "outputId": "d968b8a6-0d7e-4fa9-d30e-a59d4f0aca2f"
      },
      "source": [
        "print(tokenized_doc[2])"
      ],
      "execution_count": null,
      "outputs": [
        {
          "output_type": "stream",
          "name": "stdout",
          "text": [
            "['지도부', '취', '생', '이재명', '부동산', '대장', '대장동', '동', '반성', '사과', '98', '8']\n"
          ]
        }
      ]
    },
    {
      "cell_type": "code",
      "metadata": {
        "id": "U3BNulWFcDhp",
        "colab": {
          "base_uri": "https://localhost:8080/"
        },
        "outputId": "1d66461e-3ab8-4c5c-a344-9db25ef9a4ca"
      },
      "source": [
        "kkma.nouns(data[\"tweet\"][2])"
      ],
      "execution_count": null,
      "outputs": [
        {
          "output_type": "execute_result",
          "data": {
            "text/plain": [
              "['지도부', '취', '생', '이재명', '부동산', '대장', '대장동', '동', '반성', '사과', '98', '8']"
            ]
          },
          "metadata": {},
          "execution_count": 45
        }
      ]
    },
    {
      "cell_type": "markdown",
      "metadata": {
        "id": "PEt0fcMOWqHH"
      },
      "source": [
        "이제 각 단어에 정수 인코딩을 하는 동시에, 각 뉴스에서의 단어의 빈도수를 기록. 여기서는 각 단어를 (word_id, word_frequency)의 형태로 바꾸고자 합니다. word_id는 단어가 정수 인코딩된 값이고, word_frequency는 해당 뉴스에서의 해당 단어의 빈도수를 의미합니다. 이는 gensim의 corpora.Dictionary()를 사용하여 손쉽게 구할 수 있습니다. 전체 뉴스에 대해서 정수 인코딩을 수행하고, 세번째 댓글을 추출합니다."
      ]
    },
    {
      "cell_type": "code",
      "metadata": {
        "colab": {
          "base_uri": "https://localhost:8080/"
        },
        "id": "tEpT2qdmUUtp",
        "outputId": "b3c923ff-81e6-4e8d-ed39-68c3b86c1f7f"
      },
      "source": [
        "from gensim import corpora\n",
        "dictionary = corpra.Dictionary(tokenized_doc)\n",
        "corpus = [dictionary.doc2bow(text) for text in tokenized_doc]\n",
        "print(corpus[2])#세번째 댓글 출력"
      ],
      "execution_count": null,
      "outputs": [
        {
          "output_type": "stream",
          "name": "stdout",
          "text": [
            "[(9, 1), (19, 1), (20, 1), (21, 1), (22, 1), (23, 1), (24, 1), (25, 1), (26, 1), (27, 1), (28, 1), (29, 1)]\n"
          ]
        }
      ]
    },
    {
      "cell_type": "code",
      "metadata": {
        "colab": {
          "base_uri": "https://localhost:8080/"
        },
        "id": "z55tIoPwnZi3",
        "outputId": "35e60079-ba8d-4312-b86a-fcdccae0ce9d"
      },
      "source": [
        "tokenized_doc[2]"
      ],
      "execution_count": null,
      "outputs": [
        {
          "output_type": "execute_result",
          "data": {
            "text/plain": [
              "['지도부', '취', '생', '이재명', '부동산', '대장', '대장동', '동', '반성', '사과', '98', '8']"
            ]
          },
          "metadata": {},
          "execution_count": 21
        }
      ]
    },
    {
      "cell_type": "code",
      "metadata": {
        "colab": {
          "base_uri": "https://localhost:8080/"
        },
        "id": "YaLZxwbuX7Tz",
        "outputId": "8cac894b-aada-499d-ecd6-4ed884317241"
      },
      "source": [
        "print(corpus[2])#30개의 댓글 출력"
      ],
      "execution_count": null,
      "outputs": [
        {
          "output_type": "stream",
          "name": "stdout",
          "text": [
            "[(9, 1), (19, 1), (20, 1), (21, 1), (22, 1), (23, 1), (24, 1), (25, 1), (26, 1), (27, 1), (28, 1), (29, 1)]\n"
          ]
        }
      ]
    },
    {
      "cell_type": "markdown",
      "metadata": {
        "id": "frpWRBVAZwQN"
      },
      "source": [
        "총 학습된 단어의 개수를 확인"
      ]
    },
    {
      "cell_type": "code",
      "metadata": {
        "colab": {
          "base_uri": "https://localhost:8080/"
        },
        "id": "zdy_pK3VX-31",
        "outputId": "9a57186d-14bd-435f-f125-ca9255e5a62d"
      },
      "source": [
        "len(dictionary) #61145개 단어가 학습"
      ],
      "execution_count": null,
      "outputs": [
        {
          "output_type": "execute_result",
          "data": {
            "text/plain": [
              "61145"
            ]
          },
          "metadata": {},
          "execution_count": 13
        }
      ]
    },
    {
      "cell_type": "markdown",
      "metadata": {
        "id": "cC5GwAKwo3CZ"
      },
      "source": [
        "# 조사포함일경우 정수 인코딩 해석"
      ]
    },
    {
      "cell_type": "markdown",
      "metadata": {
        "id": "bDmSsUY-X0HA"
      },
      "source": [
        "![image.png](data:image/png;base64,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)"
      ]
    },
    {
      "cell_type": "markdown",
      "metadata": {
        "id": "5GTV3tjJXolu"
      },
      "source": [
        "위의 출력 결과 중에서 (229, 2)는 정수 인코딩이 229으로 할당된 단어가 두 번 (230, 3)는 정수 인코딩이 230으로 할당된 단어가 세번 등장하였음을 의미합니다. 229와 230이라는 값을 가지는 단어가 정수 인코딩이 되기 전에는 어떤 단어였는지 확인하여봅시다. 이는 dictionary[]에 기존 단어가 무엇인지 알고자하는 정수값을 입력하여 확인할 수 있습니다."
      ]
    },
    {
      "cell_type": "code",
      "metadata": {
        "colab": {
          "base_uri": "https://localhost:8080/"
        },
        "id": "SyrkHbO7WS84",
        "outputId": "fe1f385a-168b-402f-838a-b501204b0126"
      },
      "source": [
        "print(dictionary[229],\",\",dictionary[230],\",\",dictionary[234],\",\",dictionary[310])"
      ],
      "execution_count": null,
      "outputs": [
        {
          "output_type": "stream",
          "name": "stdout",
          "text": [
            "파시즘 , 형 , 선대 , 추대\n"
          ]
        }
      ]
    },
    {
      "cell_type": "markdown",
      "metadata": {
        "id": "LV8BPIGJZ6qI"
      },
      "source": [
        "#  LDA 모델을 훈련"
      ]
    },
    {
      "cell_type": "markdown",
      "metadata": {
        "id": "bCpRIwQ4gn6R"
      },
      "source": [
        "각 단어 앞에 붙은 수치는 단어의 해당 토픽에 대한 기여도를 보여줍니다. 또한 맨 앞에 있는 토픽 번호는 0부터 시작하므로 총 20개의 토픽은 0부터 19까지의 번호가 할당되어져 있습니다. passes는 알고리즘의 동작 횟수를 말하는데, 알고리즘이 결정하는 토픽의 값이 적절히 수렴할 수 있도록 충분히 적당한 횟수를 정해주면 됩니다. 여기서는 총 15회를 수행하였습니다. 여기서는 num_words=4로 총 4개의 단어만 출력하도록 하였습니다. 만약 10개의 단어를 출력하고 싶다면 아래의 코드를 수행하면 됩니다."
      ]
    },
    {
      "cell_type": "markdown",
      "metadata": {
        "id": "SOeH2soeHTx3"
      },
      "source": [
        "### 토픽번호별 키워드중요도"
      ]
    },
    {
      "cell_type": "code",
      "metadata": {
        "id": "gqssrIHyW3sk",
        "colab": {
          "base_uri": "https://localhost:8080/"
        },
        "outputId": "3ca83b70-dc9c-4866-ab09-df8a4966d53e"
      },
      "source": [
        "import gensim\n",
        "NUM_TOPICS = 20 #20개의 토픽(카테고리), k=20\n",
        "ldamodel = gensim.models.ldamodel.LdaModel(corpus, num_topics = NUM_TOPICS, id2word=dictionary, passes=15)\n",
        "topics = ldamodel.print_topics(num_words=4)\n",
        "for topic in topics:\n",
        "    print(topic)"
      ],
      "execution_count": null,
      "outputs": [
        {
          "output_type": "stream",
          "name": "stdout",
          "text": [
            "(0, '0.049*\"이재명\" + 0.043*\"후보\" + 0.042*\"교체\" + 0.040*\"낙\"')\n",
            "(1, '0.050*\"이재명\" + 0.050*\"김\" + 0.035*\"경\" + 0.032*\"혜\"')\n",
            "(2, '0.030*\"이재명\" + 0.025*\"도\" + 0.024*\"경기\" + 0.019*\"김\"')\n",
            "(3, '0.075*\"이재명\" + 0.020*\"사람\" + 0.017*\"4\" + 0.015*\"거\"')\n",
            "(4, '0.035*\"이재명\" + 0.027*\"기\" + 0.026*\"레\" + 0.019*\"기레\"')\n",
            "(5, '0.074*\"이재명\" + 0.028*\"거\" + 0.025*\"민주당\" + 0.022*\"국\"')\n",
            "(6, '0.024*\"비하\" + 0.021*\"지역\" + 0.016*\"부선\" + 0.015*\"버스\"')\n",
            "(7, '0.046*\"이재명\" + 0.029*\"윤\" + 0.013*\"정\" + 0.012*\"기본\"')\n",
            "(8, '0.077*\"이재명\" + 0.077*\"윤\" + 0.051*\"열\" + 0.030*\"출처\"')\n",
            "(9, '0.042*\"부산\" + 0.031*\"이재명\" + 0.012*\"비\" + 0.011*\"부부\"')\n",
            "(10, '0.032*\"이재명\" + 0.015*\"원\" + 0.011*\"팀\" + 0.011*\"다리\"')\n",
            "(11, '0.070*\"동\" + 0.068*\"대장\" + 0.059*\"대장동\" + 0.041*\"이재명\"')\n",
            "(12, '0.056*\"이재명\" + 0.029*\"우리\" + 0.018*\"후보\" + 0.017*\"언론\"')\n",
            "(13, '0.098*\"뉴스\" + 0.084*\"다음\" + 0.079*\"이재명\" + 0.029*\"다음뉴스\"')\n",
            "(14, '0.028*\"이재명\" + 0.022*\"일\" + 0.022*\"년\" + 0.019*\"공개\"')\n",
            "(15, '0.026*\"이재\" + 0.023*\"민주당\" + 0.018*\"이재명\" + 0.017*\"명의\"')\n",
            "(16, '0.025*\"화천\" + 0.025*\"대유\" + 0.024*\"화천대유\" + 0.023*\"이재명\"')\n",
            "(17, '0.047*\"이재명\" + 0.031*\"위\" + 0.020*\"선대\" + 0.019*\"민주당\"')\n",
            "(18, '0.048*\"이재명\" + 0.033*\"후보\" + 0.024*\"민국\" + 0.024*\"대한\"')\n",
            "(19, '0.020*\"이재명\" + 0.011*\"수\" + 0.010*\"공약\" + 0.009*\"병원\"')\n"
          ]
        }
      ]
    },
    {
      "cell_type": "code",
      "metadata": {
        "colab": {
          "base_uri": "https://localhost:8080/"
        },
        "id": "gngmC5azbSa-",
        "outputId": "03a67940-b3a9-495b-a735-7c814e03355c"
      },
      "source": [
        "print(ldamodel.print_topics())"
      ],
      "execution_count": null,
      "outputs": [
        {
          "output_type": "stream",
          "name": "stdout",
          "text": [
            "[(0, '0.049*\"이재명\" + 0.043*\"후보\" + 0.042*\"교체\" + 0.040*\"낙\" + 0.038*\"문\" + 0.030*\"안\" + 0.029*\"절대\" + 0.029*\"연\" + 0.028*\"재인\" + 0.026*\"후보교체\"'), (1, '0.050*\"이재명\" + 0.050*\"김\" + 0.035*\"경\" + 0.032*\"혜\" + 0.031*\"김혜경\" + 0.023*\"부인\" + 0.015*\"씨\" + 0.014*\"사고\" + 0.011*\"측\" + 0.010*\"방문\"'), (2, '0.030*\"이재명\" + 0.025*\"도\" + 0.024*\"경기\" + 0.019*\"김\" + 0.015*\"경기도\" + 0.015*\"부\" + 0.014*\"32\" + 0.013*\"문프\" + 0.011*\"지사\" + 0.010*\"기현\"'), (3, '0.075*\"이재명\" + 0.020*\"사람\" + 0.017*\"4\" + 0.015*\"거\" + 0.013*\"이해\" + 0.013*\"전과\" + 0.013*\"말\" + 0.012*\"범\" + 0.012*\"민주당\" + 0.010*\"길\"'), (4, '0.035*\"이재명\" + 0.027*\"기\" + 0.026*\"레\" + 0.019*\"기레\" + 0.016*\"후보\" + 0.015*\"대결\" + 0.014*\"대\" + 0.011*\"20\" + 0.010*\"국민\" + 0.010*\"청년\"'), (5, '0.074*\"이재명\" + 0.028*\"거\" + 0.025*\"민주당\" + 0.022*\"국\" + 0.022*\"당\" + 0.014*\"힘\" + 0.012*\"새끼\" + 0.012*\"말\" + 0.011*\"지지자\" + 0.011*\"뭐\"'), (6, '0.024*\"비하\" + 0.021*\"지역\" + 0.016*\"부선\" + 0.015*\"버스\" + 0.015*\"이재명\" + 0.014*\"김부선\" + 0.013*\"보도\" + 0.012*\"48\" + 0.012*\"강\" + 0.011*\"폭행\"'), (7, '0.046*\"이재명\" + 0.029*\"윤\" + 0.013*\"정\" + 0.012*\"기본\" + 0.011*\"안\" + 0.011*\"열\" + 0.010*\"유\" + 0.009*\"소득\" + 0.009*\"유시민\" + 0.009*\"심상\"'), (8, '0.077*\"이재명\" + 0.077*\"윤\" + 0.051*\"열\" + 0.030*\"출처\" + 0.024*\"1\" + 0.022*\"6\" + 0.022*\"2\" + 0.022*\"4\" + 0.021*\"뉴스\" + 0.021*\"5\"'), (9, '0.042*\"부산\" + 0.031*\"이재명\" + 0.012*\"비\" + 0.011*\"부부\" + 0.009*\"언론\" + 0.008*\"서울\" + 0.008*\"시장\" + 0.008*\"기사\" + 0.008*\"급\" + 0.007*\"거리\"'), (10, '0.032*\"이재명\" + 0.015*\"원\" + 0.011*\"팀\" + 0.011*\"다리\" + 0.011*\"종\" + 0.010*\"조\" + 0.010*\"그분\" + 0.009*\"편\" + 0.009*\"부세\" + 0.009*\"종부세\"'), (11, '0.070*\"동\" + 0.068*\"대장\" + 0.059*\"대장동\" + 0.041*\"이재명\" + 0.028*\"수사\" + 0.027*\"특검\" + 0.019*\"검찰\" + 0.016*\"의혹\" + 0.015*\"게이트\" + 0.014*\"변호사\"'), (12, '0.056*\"이재명\" + 0.029*\"우리\" + 0.018*\"후보\" + 0.017*\"언론\" + 0.014*\"국민\" + 0.013*\"나라\" + 0.012*\"분\" + 0.011*\"생각\" + 0.011*\"사람\" + 0.011*\"저\"'), (13, '0.098*\"뉴스\" + 0.084*\"다음\" + 0.079*\"이재명\" + 0.029*\"다음뉴스\" + 0.021*\"글\" + 0.014*\"2\" + 0.014*\"8\" + 0.014*\"1\" + 0.012*\"0\" + 0.012*\"7\"'), (14, '0.028*\"이재명\" + 0.022*\"일\" + 0.022*\"년\" + 0.019*\"공개\" + 0.018*\"11\" + 0.017*\"119\" + 0.015*\"월\" + 0.013*\"2021\" + 0.012*\"5\" + 0.012*\"상처\"'), (15, '0.026*\"이재\" + 0.023*\"민주당\" + 0.018*\"이재명\" + 0.017*\"명의\" + 0.016*\"이재명의\" + 0.011*\"민\" + 0.011*\"추미애\" + 0.011*\"석\" + 0.010*\"적\" + 0.007*\"진\"'), (16, '0.025*\"화천\" + 0.025*\"대유\" + 0.024*\"화천대유\" + 0.023*\"이재명\" + 0.010*\"성남\" + 0.009*\"2030\" + 0.009*\"연합\" + 0.008*\"수사\" + 0.008*\"대응\" + 0.007*\"쌍\"'), (17, '0.047*\"이재명\" + 0.031*\"위\" + 0.020*\"선대\" + 0.019*\"민주당\" + 0.018*\"선대위\" + 0.018*\"홍\" + 0.017*\"후보\" + 0.014*\"지원금\" + 0.013*\"남기\" + 0.012*\"홍남기\"'), (18, '0.048*\"이재명\" + 0.033*\"후보\" + 0.024*\"민국\" + 0.024*\"대한\" + 0.024*\"대한민국\" + 0.018*\"대통령\" + 0.016*\"선거\" + 0.015*\"대선\" + 0.014*\"아내\" + 0.011*\"낙상\"'), (19, '0.020*\"이재명\" + 0.011*\"수\" + 0.010*\"공약\" + 0.009*\"병원\" + 0.009*\"허\" + 0.009*\"개인\" + 0.009*\"선거\" + 0.009*\"공정\" + 0.008*\"상대\" + 0.008*\"경영\"')]\n"
          ]
        }
      ]
    },
    {
      "cell_type": "code",
      "metadata": {
        "id": "KyATEQ_Qgc7H"
      },
      "source": [
        "!pip install pyLDAvis"
      ],
      "execution_count": null,
      "outputs": []
    },
    {
      "cell_type": "markdown",
      "metadata": {
        "id": "dh-oElKqtVP5"
      },
      "source": [
        "import pyLDAvis\n",
        "import pyLDAvis.gensim_models as gensimvis\n",
        "pyLDAvis.enable_notebook()\n",
        "lda_viz = gensimvis.prepare(ldamodel, corpus, dictionary)"
      ]
    },
    {
      "cell_type": "markdown",
      "metadata": {
        "id": "2owHzW7O4GEI"
      },
      "source": [
        "# 문서 관점에서 topic과 document 알기(문서별 토픽 분포 보기)"
      ]
    },
    {
      "cell_type": "markdown",
      "metadata": {
        "id": "NjexNJZ8zIpA"
      },
      "source": [
        "토픽별 단어 분포는 위에서 확인하였음. 문서별 토픽 분포에 대해 확인을 위해 이미 훈련된 LDA모델인 ldamodel[]에 전체 데이터가 정수 인코딩 된 결과를 넣은 후 확인 가능. "
      ]
    },
    {
      "cell_type": "markdown",
      "metadata": {
        "id": "omKnx6dfzfeN"
      },
      "source": [
        "상위 5개의 문서에 대해서만 토픽분포 확인"
      ]
    },
    {
      "cell_type": "code",
      "metadata": {
        "id": "k-NcMoqZg-z_",
        "colab": {
          "base_uri": "https://localhost:8080/"
        },
        "outputId": "4ae98739-930c-41e5-cfdf-3079a0e541d6"
      },
      "source": [
        "for i, topic_list in enumerate(ldamodel[corpus]):\n",
        "    if i==5:\n",
        "        break\n",
        "    print(i,'번째 문서의 topic 비율은',topic_list)"
      ],
      "execution_count": null,
      "outputs": [
        {
          "output_type": "stream",
          "name": "stdout",
          "text": [
            "0 번째 문서의 topic 비율은 [(3, 0.10067499), (8, 0.36198106), (12, 0.3758611), (16, 0.10814951)]\n",
            "1 번째 문서의 topic 비율은 [(5, 0.16109002), (8, 0.16285586), (10, 0.32503107), (11, 0.25102302)]\n",
            "2 번째 문서의 topic 비율은 [(4, 0.28680065), (9, 0.08651399), (11, 0.34693724), (16, 0.13835253), (19, 0.083703294)]\n",
            "3 번째 문서의 topic 비율은 [(3, 0.50656104), (5, 0.26801687), (15, 0.18292204)]\n",
            "4 번째 문서의 topic 비율은 [(2, 0.053431995), (3, 0.13731985), (5, 0.2531121), (11, 0.2634677), (12, 0.11122707), (13, 0.1464413)]\n"
          ]
        }
      ]
    },
    {
      "cell_type": "markdown",
      "metadata": {
        "id": "EP7ytG_fzmw4"
      },
      "source": [
        "위의 출력 결과에서 (숫자, 확률)은 토픽 번호와 해당토픽이 해당문서에서 차지하는 분포도를 의미.예를 들어 2번째 문서의 토픽 비율에서 (5, 0.16109002)은 5번 토픽이 16%의 분포도를 가지는 것을 의미"
      ]
    },
    {
      "cell_type": "markdown",
      "metadata": {
        "id": "yyb5A86Nz7x1"
      },
      "source": [
        "좀 더 깔끔한 형태의 데이터프레임 형식으로 출력"
      ]
    },
    {
      "cell_type": "code",
      "metadata": {
        "id": "_TG7XBkDdZLN"
      },
      "source": [
        "def make_topictable_per_doc(ldamodel, corpus):\n",
        "    topic_table = pd.DataFrame()\n",
        "\n",
        "    # 몇 번째 문서인지를 의미하는 문서 번호와 해당 문서의 토픽 비중을 한 줄씩 꺼내온다.\n",
        "    for i, topic_list in enumerate(ldamodel[corpus]):\n",
        "        doc = topic_list[0] if ldamodel.per_word_topics else topic_list            \n",
        "        doc = sorted(doc, key=lambda x: (x[1]), reverse=True)\n",
        "        # 각 문서에 대해서 비중이 높은 토픽순으로 토픽을 정렬한다.\n",
        "        # EX) 정렬 전 0번 문서 : (2번 토픽, 48.5%), (8번 토픽, 25%), (10번 토픽, 5%), (12번 토픽, 21.5%), \n",
        "        # Ex) 정렬 후 0번 문서 : (2번 토픽, 48.5%), (8번 토픽, 25%), (12번 토픽, 21.5%), (10번 토픽, 5%)\n",
        "        # 48 > 25 > 21 > 5 순으로 정렬이 된 것.\n",
        "\n",
        "        # 모든 문서에 대해서 각각 아래를 수행\n",
        "        for j, (topic_num, prop_topic) in enumerate(doc): #  몇 번 토픽인지와 비중을 나눠서 저장한다.\n",
        "            if j == 0:  # 정렬을 한 상태이므로 가장 앞에 있는 것이 가장 비중이 높은 토픽\n",
        "                topic_table = topic_table.append(pd.Series([int(topic_num), round(prop_topic,4), topic_list]), ignore_index=True)\n",
        "                # 가장 비중이 높은 토픽과, 가장 비중이 높은 토픽의 비중과, 전체 토픽의 비중을 저장한다.\n",
        "            else:\n",
        "                break\n",
        "    return(topic_table)"
      ],
      "execution_count": null,
      "outputs": []
    },
    {
      "cell_type": "code",
      "metadata": {
        "colab": {
          "base_uri": "https://localhost:8080/",
          "height": 363
        },
        "id": "ZNzr7sYJpiCg",
        "outputId": "9c3153f9-cb87-49e4-b9c2-1f02247616a1"
      },
      "source": [
        "topictable = make_topictable_per_doc(ldamodel, corpus)\n",
        "topictable = topictable.reset_index() # 문서 번호을 의미하는 열(column)로 사용하기 위해서 인덱스 열을 하나 더 만든다.\n",
        "topictable.columns = ['문서 번호', '가장 비중이 높은 토픽', '가장 높은 토픽의 비중', '각 토픽의 비중']\n",
        "topictable[:10]"
      ],
      "execution_count": null,
      "outputs": [
        {
          "output_type": "execute_result",
          "data": {
            "text/html": [
              "<div>\n",
              "<style scoped>\n",
              "    .dataframe tbody tr th:only-of-type {\n",
              "        vertical-align: middle;\n",
              "    }\n",
              "\n",
              "    .dataframe tbody tr th {\n",
              "        vertical-align: top;\n",
              "    }\n",
              "\n",
              "    .dataframe thead th {\n",
              "        text-align: right;\n",
              "    }\n",
              "</style>\n",
              "<table border=\"1\" class=\"dataframe\">\n",
              "  <thead>\n",
              "    <tr style=\"text-align: right;\">\n",
              "      <th></th>\n",
              "      <th>문서 번호</th>\n",
              "      <th>가장 비중이 높은 토픽</th>\n",
              "      <th>가장 높은 토픽의 비중</th>\n",
              "      <th>각 토픽의 비중</th>\n",
              "    </tr>\n",
              "  </thead>\n",
              "  <tbody>\n",
              "    <tr>\n",
              "      <th>0</th>\n",
              "      <td>0</td>\n",
              "      <td>12.0</td>\n",
              "      <td>0.3758</td>\n",
              "      <td>[(3, 0.10069134), (8, 0.36196253), (12, 0.3758...</td>\n",
              "    </tr>\n",
              "    <tr>\n",
              "      <th>1</th>\n",
              "      <td>1</td>\n",
              "      <td>10.0</td>\n",
              "      <td>0.3250</td>\n",
              "      <td>[(5, 0.16107611), (8, 0.16304217), (10, 0.3249...</td>\n",
              "    </tr>\n",
              "    <tr>\n",
              "      <th>2</th>\n",
              "      <td>2</td>\n",
              "      <td>11.0</td>\n",
              "      <td>0.3469</td>\n",
              "      <td>[(4, 0.28677323), (9, 0.08651415), (11, 0.3469...</td>\n",
              "    </tr>\n",
              "    <tr>\n",
              "      <th>3</th>\n",
              "      <td>3</td>\n",
              "      <td>3.0</td>\n",
              "      <td>0.5065</td>\n",
              "      <td>[(3, 0.50653416), (5, 0.26805422), (15, 0.1829...</td>\n",
              "    </tr>\n",
              "    <tr>\n",
              "      <th>4</th>\n",
              "      <td>4</td>\n",
              "      <td>11.0</td>\n",
              "      <td>0.2635</td>\n",
              "      <td>[(2, 0.053432025), (3, 0.13721284), (5, 0.2532...</td>\n",
              "    </tr>\n",
              "    <tr>\n",
              "      <th>5</th>\n",
              "      <td>5</td>\n",
              "      <td>8.0</td>\n",
              "      <td>0.2930</td>\n",
              "      <td>[(0, 0.07040357), (8, 0.2930087), (9, 0.124073...</td>\n",
              "    </tr>\n",
              "    <tr>\n",
              "      <th>6</th>\n",
              "      <td>6</td>\n",
              "      <td>10.0</td>\n",
              "      <td>0.3500</td>\n",
              "      <td>[(0, 0.016666668), (1, 0.016666668), (2, 0.016...</td>\n",
              "    </tr>\n",
              "    <tr>\n",
              "      <th>7</th>\n",
              "      <td>7</td>\n",
              "      <td>5.0</td>\n",
              "      <td>0.8100</td>\n",
              "      <td>[(5, 0.81000006)]</td>\n",
              "    </tr>\n",
              "    <tr>\n",
              "      <th>8</th>\n",
              "      <td>8</td>\n",
              "      <td>13.0</td>\n",
              "      <td>0.9208</td>\n",
              "      <td>[(13, 0.92083335)]</td>\n",
              "    </tr>\n",
              "    <tr>\n",
              "      <th>9</th>\n",
              "      <td>9</td>\n",
              "      <td>19.0</td>\n",
              "      <td>0.6057</td>\n",
              "      <td>[(18, 0.28183764), (19, 0.6056624)]</td>\n",
              "    </tr>\n",
              "  </tbody>\n",
              "</table>\n",
              "</div>"
            ],
            "text/plain": [
              "   문서 번호  ...                                           각 토픽의 비중\n",
              "0      0  ...  [(3, 0.10069134), (8, 0.36196253), (12, 0.3758...\n",
              "1      1  ...  [(5, 0.16107611), (8, 0.16304217), (10, 0.3249...\n",
              "2      2  ...  [(4, 0.28677323), (9, 0.08651415), (11, 0.3469...\n",
              "3      3  ...  [(3, 0.50653416), (5, 0.26805422), (15, 0.1829...\n",
              "4      4  ...  [(2, 0.053432025), (3, 0.13721284), (5, 0.2532...\n",
              "5      5  ...  [(0, 0.07040357), (8, 0.2930087), (9, 0.124073...\n",
              "6      6  ...  [(0, 0.016666668), (1, 0.016666668), (2, 0.016...\n",
              "7      7  ...                                  [(5, 0.81000006)]\n",
              "8      8  ...                                 [(13, 0.92083335)]\n",
              "9      9  ...                [(18, 0.28183764), (19, 0.6056624)]\n",
              "\n",
              "[10 rows x 4 columns]"
            ]
          },
          "metadata": {},
          "execution_count": 27
        }
      ]
    },
    {
      "cell_type": "markdown",
      "metadata": {
        "id": "vdefHJqG21K8"
      },
      "source": [
        "# 단어 관점에서topic과 documents를 알기\n"
      ]
    },
    {
      "cell_type": "code",
      "metadata": {
        "colab": {
          "base_uri": "https://localhost:8080/"
        },
        "id": "6dFGflia1p_V",
        "outputId": "f5fcf0b6-5cbe-47ad-c854-562709dfe2a4"
      },
      "source": [
        "# 대장동에 관련된 토픽을 찾기. id:23(<--대장,대장동(id=24))\n",
        "term23_topic_dist = ldamodel.get_term_topics(23, minimum_probability=0)\n",
        "sorted_term_topic = sorted(term23_topic_dist, key=lambda x:x[1], reverse=True)\n",
        "sorted_term_topic"
      ],
      "execution_count": null,
      "outputs": [
        {
          "output_type": "execute_result",
          "data": {
            "text/plain": [
              "[(11, 0.06995057)]"
            ]
          },
          "metadata": {},
          "execution_count": 71
        }
      ]
    },
    {
      "cell_type": "code",
      "metadata": {
        "colab": {
          "base_uri": "https://localhost:8080/"
        },
        "id": "H-j5FzpJMnMA",
        "outputId": "b7a656eb-c307-48a8-ea0b-81eb6896f002"
      },
      "source": [
        "term24_topic_dist = ldamodel.get_term_topics(24, minimum_probability=0)\n",
        "sorted_term_topic = sorted(term24_topic_dist, key=lambda x:x[1], reverse=True)\n",
        "sorted_term_topic"
      ],
      "execution_count": null,
      "outputs": [
        {
          "output_type": "execute_result",
          "data": {
            "text/plain": [
              "[(17, 0.00061622955),\n",
              " (3, 0.00040493277),\n",
              " (13, 0.0003138429),\n",
              " (11, 0.00024201533),\n",
              " (4, 0.00015066305),\n",
              " (7, 0.00014460011)]"
            ]
          },
          "metadata": {},
          "execution_count": 74
        }
      ]
    },
    {
      "cell_type": "code",
      "metadata": {
        "colab": {
          "base_uri": "https://localhost:8080/"
        },
        "id": "UI9N0ftCIQKI",
        "outputId": "87de7256-cfad-4c88-ccc3-e5410d5349a6"
      },
      "source": [
        "topics[11]"
      ],
      "execution_count": null,
      "outputs": [
        {
          "output_type": "execute_result",
          "data": {
            "text/plain": [
              "(11, '0.070*\"동\" + 0.068*\"대장\" + 0.059*\"대장동\" + 0.041*\"이재명\"')"
            ]
          },
          "metadata": {},
          "execution_count": 72
        }
      ]
    },
    {
      "cell_type": "code",
      "metadata": {
        "id": "Gj-Lmlv2Mulj",
        "colab": {
          "base_uri": "https://localhost:8080/"
        },
        "outputId": "309454af-81c7-4bc0-a12b-ad9cbfd3bc3a"
      },
      "source": [
        "topics[17]"
      ],
      "execution_count": null,
      "outputs": [
        {
          "output_type": "execute_result",
          "data": {
            "text/plain": [
              "(17, '0.047*\"이재명\" + 0.031*\"위\" + 0.020*\"선대\" + 0.019*\"민주당\"')"
            ]
          },
          "metadata": {},
          "execution_count": 75
        }
      ]
    },
    {
      "cell_type": "markdown",
      "metadata": {
        "id": "svZoFjBM3CKZ"
      },
      "source": [
        "대장동과 관련된 토픽은 11번 토픽과 관련이 높음"
      ]
    },
    {
      "cell_type": "markdown",
      "metadata": {
        "id": "qq0NT40b3Y7P"
      },
      "source": [
        "위의 단어별 토픽 기여도를 보았을때 이슬람과 관련이 깊은 0번째 토픽은 '난민','반대','절대'와 관련이 높고 이들은 이슬람이라는 단어와 연관성이 높은 것을 알수 있습니다."
      ]
    }
  ]
}