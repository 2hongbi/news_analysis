{
 "cells": [
  {
   "cell_type": "code",
   "execution_count": 14,
   "id": "21579eab",
   "metadata": {},
   "outputs": [],
   "source": [
    "import pandas as pd"
   ]
  },
  {
   "cell_type": "code",
   "execution_count": 15,
   "id": "1bc6cb7b",
   "metadata": {
    "scrolled": true
   },
   "outputs": [],
   "source": [
    "lee = pd.read_csv('./../data/twitter/이재명.csv').shape\n",
    "yoon = pd.read_csv('./../data/twitter/윤석열.csv').shape\n",
    "ahn = pd.read_csv('./../data/twitter/안철수.csv').shape\n",
    "sim = pd.read_csv('./../data/twitter/심상정.csv').shape"
   ]
  },
  {
   "cell_type": "code",
   "execution_count": 16,
   "id": "3b1e1a10",
   "metadata": {
    "scrolled": true
   },
   "outputs": [
    {
     "data": {
      "text/plain": [
       "59880"
      ]
     },
     "execution_count": 16,
     "metadata": {},
     "output_type": "execute_result"
    }
   ],
   "source": [
    "# 2021.11.10 부터 크롤링하여 가져온 결과\n",
    "\n",
    "lee[0]"
   ]
  },
  {
   "cell_type": "code",
   "execution_count": 17,
   "id": "1a4278e0",
   "metadata": {
    "scrolled": false
   },
   "outputs": [
    {
     "data": {
      "text/plain": [
       "(27943, 4)"
      ]
     },
     "execution_count": 17,
     "metadata": {},
     "output_type": "execute_result"
    }
   ],
   "source": [
    "yoon"
   ]
  },
  {
   "cell_type": "code",
   "execution_count": 18,
   "id": "483a3f8c",
   "metadata": {},
   "outputs": [
    {
     "data": {
      "text/plain": [
       "(4405, 4)"
      ]
     },
     "execution_count": 18,
     "metadata": {},
     "output_type": "execute_result"
    }
   ],
   "source": [
    "ahn"
   ]
  },
  {
   "cell_type": "code",
   "execution_count": 20,
   "id": "7269d0b7",
   "metadata": {},
   "outputs": [
    {
     "data": {
      "text/plain": [
       "(338, 4)"
      ]
     },
     "execution_count": 20,
     "metadata": {},
     "output_type": "execute_result"
    }
   ],
   "source": [
    "sim"
   ]
  },
  {
   "cell_type": "code",
   "execution_count": 21,
   "id": "9edfda91",
   "metadata": {
    "pycharm": {
     "name": "#%%\n"
    }
   },
   "outputs": [],
   "source": [
    "%matplotlib inline\n",
    "from matplotlib import pyplot as plt"
   ]
  },
  {
   "cell_type": "code",
   "execution_count": 22,
   "id": "612d567e",
   "metadata": {
    "pycharm": {
     "name": "#%%\n"
    }
   },
   "outputs": [],
   "source": [
    "from matplotlib import font_manager, rc\n",
    "font_path = 'C:/Users/foxgi/AppData/Local/Microsoft/Windows/Fonts/D2CodingBold-Ver1.3.2-20180524-ligature.ttf'\n",
    "font = font_manager.FontProperties(fname=font_path).get_name()\n",
    "rc('font', family=font)"
   ]
  },
  {
   "cell_type": "code",
   "execution_count": 23,
   "id": "4ae1712c",
   "metadata": {
    "pycharm": {
     "name": "#%%\n"
    }
   },
   "outputs": [
    {
     "data": {
      "image/png": "[encoded data removed]",
      "text/plain": [
       "<Figure size 432x288 with 1 Axes>"
      ]
     },
     "metadata": {
      "needs_background": "light"
     },
     "output_type": "display_data"
    }
   ],
   "source": [
    "y = [lee[0],\n",
    "     yoon[0],\n",
    "     ahn[0],\n",
    "     sim[0]]\n",
    "x = range(len(y))\n",
    "\n",
    "plt.bar(x, y, width=0.7)\n",
    "\n",
    "plt.title('대선 후보간 데이터 수 비교')\n",
    "plt.xlabel('대선 후보')\n",
    "plt.ylabel('데이터 수')\n",
    "plt.show()\n"
   ]
  },
  {
   "cell_type": "code",
   "execution_count": null,
   "id": "bb135677",
   "metadata": {},
   "outputs": [],
   "source": []
  }
 ],
 "metadata": {
  "kernelspec": {
   "display_name": "PyCharm (crawl_news)",
   "language": "python",
   "name": "pycharm-291fac1e"
  },
  "language_info": {
   "codemirror_mode": {
    "name": "ipython",
    "version": 3
   },
   "file_extension": ".py",
   "mimetype": "text/x-python",
   "name": "python",
   "nbconvert_exporter": "python",
   "pygments_lexer": "ipython3",
   "version": "3.8.11"
  }
 },
 "nbformat": 4,
 "nbformat_minor": 5
}