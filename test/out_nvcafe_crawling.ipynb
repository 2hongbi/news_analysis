{
  "nbformat": 4,
  "nbformat_minor": 0,
  "metadata": {
    "kernelspec": {
      "display_name": "Python 3",
      "language": "python",
      "name": "python3"
    },
    "language_info": {
      "codemirror_mode": {
        "name": "ipython",
        "version": 3
      },
      "file_extension": ".py",
      "mimetype": "text/x-python",
      "name": "python",
      "nbconvert_exporter": "python",
      "pygments_lexer": "ipython3",
      "version": "3.7.6"
    },
    "colab": {
      "name": "outlier_navercafe_crawling.ipynb",
      "provenance": [],
      "collapsed_sections": []
    }
  },
  "cells": [
    {
      "cell_type": "code",
      "metadata": {
        "id": "qLgJjQKmv7zG",
        "colab": {
          "base_uri": "https://localhost:8080/"
        },
        "outputId": "b3fc421e-ade3-47ca-ca1c-373eff5330bf"
      },
      "source": [
        "!pip install pyperclip\n",
        "!pip install selenium\n",
        "import time\n",
        "import datetime\n",
        "import random\n",
        "import pyperclip\n",
        "from bs4 import BeautifulSoup\n",
        "import pandas as pd\n",
        "from selenium import webdriver\n",
        "from selenium.webdriver.common.keys import Keys\n",
        "from selenium.webdriver.common.action_chains import ActionChains\n"
      ],
      "execution_count": null,
      "outputs": [
        {
          "output_type": "stream",
          "name": "stdout",
          "text": [
            "Requirement already satisfied: pyperclip in /usr/local/lib/python3.7/dist-packages (1.8.2)\n",
            "Collecting selenium\n",
            "  Downloading selenium-3.141.0-py2.py3-none-any.whl (904 kB)\n",
            "\u001b[K     |████████████████████████████████| 904 kB 5.1 MB/s \n",
            "\u001b[?25hRequirement already satisfied: urllib3 in /usr/local/lib/python3.7/dist-packages (from selenium) (1.24.3)\n",
            "Installing collected packages: selenium\n",
            "Successfully installed selenium-3.141.0\n"
          ]
        }
      ]
    },
    {
      "cell_type": "code",
      "metadata": {
        "colab": {
          "base_uri": "https://localhost:8080/"
        },
        "id": "DDAoan99Q8d0",
        "outputId": "97ebe406-d7b6-4b12-97d3-c9a90f13f228"
      },
      "source": [
        "from google.colab import drive\n",
        "drive.mount('/content/drive')"
      ],
      "execution_count": null,
      "outputs": [
        {
          "output_type": "stream",
          "name": "stdout",
          "text": [
            "Mounted at /content/drive\n"
          ]
        }
      ]
    },
    {
      "cell_type": "markdown",
      "metadata": {
        "id": "s6RSSkQ8Vve3"
      },
      "source": [
        "!apt-get update # to update ubuntu to correctly run apt install\n",
        "\n",
        "!apt install chromium-chromedriver\n",
        "chrome_options = webdriver.ChromeOptions()\n",
        "\n",
        "chrome_options.add_argument('--headless') #내부 창을 띄울 수 없으므로 설정\n",
        "\n",
        "chrome_options.add_argument('--no-sandbox')\n",
        "\n",
        "chrome_options.add_argument('--disable-dev-shm-usage')\n",
        "\n",
        "wd = webdriver.Chrome('chromedriver',chrome_options=chrome_options)\n",
        "wd.get(\"https://nid.naver.com/nidlogin.login\")"
      ]
    },
    {
      "cell_type": "markdown",
      "metadata": {
        "id": "WnFXIMMeWJB6"
      },
      "source": [
        "wd.get(\"https://nid.naver.com/nidlogin.login\")"
      ]
    },
    {
      "cell_type": "code",
      "metadata": {
        "id": "2WiBPfKov7zK"
      },
      "source": [
        "# 크롬 웹 드라이버의 경로를 설정\n",
        "driverloc = \"/Users/82104/Downloads/chromedriver.exe\"\n",
        "driver = webdriver.Chrome(driverloc)\n",
        "\n",
        "# 네이버 로그인 페이지 접속\n",
        "driver.get(\"https://nid.naver.com/nidlogin.login\")"
      ],
      "execution_count": null,
      "outputs": []
    },
    {
      "cell_type": "code",
      "metadata": {
        "id": "UXMmLSgAv7zK"
      },
      "source": [
        "# 로그인 정보\n",
        "login = {\"id\" : \" \"   # 네이버 아이디\n",
        "        ,\"pw\" : \" \"   # 네이버 비밀번호\n",
        "        }\n",
        "\n",
        "# 로그인 정보 입력 함수\n",
        "def clipboard_input(user_xpath, user_input):\n",
        "    temp_user_input = pyperclip.paste()\n",
        "\n",
        "    pyperclip.copy(user_input)\n",
        "    driver.find_element_by_xpath(user_xpath).click()\n",
        "    ActionChains(driver).key_down(Keys.CONTROL).send_keys('v').key_up(Keys.CONTROL).perform()\n",
        "\n",
        "    pyperclip.copy(temp_user_input)\n",
        "    time.sleep(1)"
      ],
      "execution_count": null,
      "outputs": []
    },
    {
      "cell_type": "code",
      "metadata": {
        "colab": {
          "base_uri": "https://localhost:8080/"
        },
        "id": "lrRvwktDYupG",
        "outputId": "3591df08-e3d5-4e48-fb44-e79b254c659e"
      },
      "source": [
        "import sys\n",
        "print(sys.version)"
      ],
      "execution_count": null,
      "outputs": [
        {
          "output_type": "stream",
          "name": "stdout",
          "text": [
            "3.7.12 (default, Sep 10 2021, 00:21:48) \n",
            "[GCC 7.5.0]\n"
          ]
        }
      ]
    },
    {
      "cell_type": "code",
      "metadata": {
        "id": "yNACpXymv7zL",
        "colab": {
          "base_uri": "https://localhost:8080/",
          "height": 430
        },
        "outputId": "b14a851f-73f2-43b7-af27-a02f3f070ae2"
      },
      "source": [
        "# id, pw 입력 후 클릭\n",
        "\n",
        "clipboard_input('//*[@id=\"id\"]', login.get(\"id\"))\n",
        "clipboard_input('//*[@id=\"pw\"]', login.get(\"pw\"))\n",
        "driver.find_element_by_xpath('//*[@id=\"log.login\"]').click()\n",
        "\n",
        "time.sleep(10)"
      ],
      "execution_count": null,
      "outputs": [
        {
          "output_type": "error",
          "ename": "PyperclipException",
          "evalue": "ignored",
          "traceback": [
            "\u001b[0;31m---------------------------------------------------------------------------\u001b[0m",
            "\u001b[0;31mPyperclipException\u001b[0m                        Traceback (most recent call last)",
            "\u001b[0;32m<ipython-input-48-cc7ea9d99af4>\u001b[0m in \u001b[0;36m<module>\u001b[0;34m()\u001b[0m\n\u001b[1;32m      1\u001b[0m \u001b[0;31m# id, pw 입력 후 클릭\u001b[0m\u001b[0;34m\u001b[0m\u001b[0;34m\u001b[0m\u001b[0;34m\u001b[0m\u001b[0m\n\u001b[1;32m      2\u001b[0m \u001b[0;34m\u001b[0m\u001b[0m\n\u001b[0;32m----> 3\u001b[0;31m \u001b[0mclipboard_input\u001b[0m\u001b[0;34m(\u001b[0m\u001b[0;34m'//*[@id=\"id\"]'\u001b[0m\u001b[0;34m,\u001b[0m \u001b[0mlogin\u001b[0m\u001b[0;34m.\u001b[0m\u001b[0mget\u001b[0m\u001b[0;34m(\u001b[0m\u001b[0;34m\"id\"\u001b[0m\u001b[0;34m)\u001b[0m\u001b[0;34m)\u001b[0m\u001b[0;34m\u001b[0m\u001b[0;34m\u001b[0m\u001b[0m\n\u001b[0m\u001b[1;32m      4\u001b[0m \u001b[0mclipboard_input\u001b[0m\u001b[0;34m(\u001b[0m\u001b[0;34m'//*[@id=\"pw\"]'\u001b[0m\u001b[0;34m,\u001b[0m \u001b[0mlogin\u001b[0m\u001b[0;34m.\u001b[0m\u001b[0mget\u001b[0m\u001b[0;34m(\u001b[0m\u001b[0;34m\"pw\"\u001b[0m\u001b[0;34m)\u001b[0m\u001b[0;34m)\u001b[0m\u001b[0;34m\u001b[0m\u001b[0;34m\u001b[0m\u001b[0m\n\u001b[1;32m      5\u001b[0m \u001b[0mdriver\u001b[0m\u001b[0;34m.\u001b[0m\u001b[0mfind_element_by_xpath\u001b[0m\u001b[0;34m(\u001b[0m\u001b[0;34m'//*[@id=\"log.login\"]'\u001b[0m\u001b[0;34m)\u001b[0m\u001b[0;34m.\u001b[0m\u001b[0mclick\u001b[0m\u001b[0;34m(\u001b[0m\u001b[0;34m)\u001b[0m\u001b[0;34m\u001b[0m\u001b[0;34m\u001b[0m\u001b[0m\n",
            "\u001b[0;32m<ipython-input-37-24fb1e1edbc9>\u001b[0m in \u001b[0;36mclipboard_input\u001b[0;34m(user_xpath, user_input)\u001b[0m\n\u001b[1;32m      6\u001b[0m \u001b[0;31m# 로그인 정보 입력 함수\u001b[0m\u001b[0;34m\u001b[0m\u001b[0;34m\u001b[0m\u001b[0;34m\u001b[0m\u001b[0m\n\u001b[1;32m      7\u001b[0m \u001b[0;32mdef\u001b[0m \u001b[0mclipboard_input\u001b[0m\u001b[0;34m(\u001b[0m\u001b[0muser_xpath\u001b[0m\u001b[0;34m,\u001b[0m \u001b[0muser_input\u001b[0m\u001b[0;34m)\u001b[0m\u001b[0;34m:\u001b[0m\u001b[0;34m\u001b[0m\u001b[0;34m\u001b[0m\u001b[0m\n\u001b[0;32m----> 8\u001b[0;31m     \u001b[0mtemp_user_input\u001b[0m \u001b[0;34m=\u001b[0m \u001b[0mpyperclip\u001b[0m\u001b[0;34m.\u001b[0m\u001b[0mpaste\u001b[0m\u001b[0;34m(\u001b[0m\u001b[0;34m)\u001b[0m\u001b[0;34m\u001b[0m\u001b[0;34m\u001b[0m\u001b[0m\n\u001b[0m\u001b[1;32m      9\u001b[0m \u001b[0;34m\u001b[0m\u001b[0m\n\u001b[1;32m     10\u001b[0m     \u001b[0mpyperclip\u001b[0m\u001b[0;34m.\u001b[0m\u001b[0mcopy\u001b[0m\u001b[0;34m(\u001b[0m\u001b[0muser_input\u001b[0m\u001b[0;34m)\u001b[0m\u001b[0;34m\u001b[0m\u001b[0;34m\u001b[0m\u001b[0m\n",
            "\u001b[0;32m/usr/local/lib/python3.7/dist-packages/pyperclip/__init__.py\u001b[0m in \u001b[0;36m__call__\u001b[0;34m(self, *args, **kwargs)\u001b[0m\n\u001b[1;32m    334\u001b[0m \u001b[0;34m\u001b[0m\u001b[0m\n\u001b[1;32m    335\u001b[0m         \u001b[0;32mdef\u001b[0m \u001b[0m__call__\u001b[0m\u001b[0;34m(\u001b[0m\u001b[0mself\u001b[0m\u001b[0;34m,\u001b[0m \u001b[0;34m*\u001b[0m\u001b[0margs\u001b[0m\u001b[0;34m,\u001b[0m \u001b[0;34m**\u001b[0m\u001b[0mkwargs\u001b[0m\u001b[0;34m)\u001b[0m\u001b[0;34m:\u001b[0m\u001b[0;34m\u001b[0m\u001b[0;34m\u001b[0m\u001b[0m\n\u001b[0;32m--> 336\u001b[0;31m             \u001b[0;32mraise\u001b[0m \u001b[0mPyperclipException\u001b[0m\u001b[0;34m(\u001b[0m\u001b[0mEXCEPT_MSG\u001b[0m\u001b[0;34m)\u001b[0m\u001b[0;34m\u001b[0m\u001b[0;34m\u001b[0m\u001b[0m\n\u001b[0m\u001b[1;32m    337\u001b[0m \u001b[0;34m\u001b[0m\u001b[0m\n\u001b[1;32m    338\u001b[0m         \u001b[0;32mif\u001b[0m \u001b[0mPY2\u001b[0m\u001b[0;34m:\u001b[0m\u001b[0;34m\u001b[0m\u001b[0;34m\u001b[0m\u001b[0m\n",
            "\u001b[0;31mPyperclipException\u001b[0m: \n    Pyperclip could not find a copy/paste mechanism for your system.\n    For more information, please visit https://pyperclip.readthedocs.io/en/latest/index.html#not-implemented-error "
          ]
        }
      ]
    },
    {
      "cell_type": "code",
      "metadata": {
        "id": "DcTI8XwAv7zL"
      },
      "source": [
        "# 결과 저장 경로\n",
        "save_path = \"C:/Users/Family/Outlier_project/\"\n",
        "\n",
        "# 카페 정보\n",
        "cafe = {'name': \"수만휘\"                          # 카페 이름\n",
        "       ,'page_link': \"https://cafe.naver.com/ArticleList.nhn?search.clubid=10197921&search.boardtype=L\" }                # 주소\n",
        "cafe.update({\"keywords\" : [\"동덕여대\"]})         # 검색 키워드"
      ],
      "execution_count": null,
      "outputs": []
    },
    {
      "cell_type": "code",
      "metadata": {
        "id": "bRFSTJDIv7zM",
        "outputId": "ca8e1b9e-089e-4d50-e0df-4298a1833464"
      },
      "source": [
        "for keyword in cafe.get(\"keywords\"):\n",
        "    \n",
        "    ### 카페 주소 입력\n",
        "    driver.get(cafe.get(\"page_link\"))\n",
        "    \n",
        "    \n",
        "    ### 키워드 검색\n",
        "    clipboard_input('//*[@id=\"topLayerQueryInput\"]', keyword)\n",
        "    try :\n",
        "        driver.find_element_by_xpath('//*[@id=\"cafe-search\"]/form/button').click()   # 왼쪽에 검색창\n",
        "    except:\n",
        "        driver.find_element_by_xpath('//*[@id=\"info-search\"]/form/button').click()   # 오른쪽에 검색창\n",
        "    driver.implicitly_wait(0.5)\n",
        "    driver.switch_to.frame('cafe_main')\n",
        "\n",
        "    ### 키워드 수집 정보\n",
        "    num_per_page = 15          # 페이지당 게시글 갯수(default: 15개)\n",
        "\n",
        "    address_list=[]\n",
        "    page = 1\n",
        "    \n",
        "    l=True\n",
        "    while l:\n",
        "        \n",
        "        time.sleep( random.randint(0,5) )\n",
        "        \n",
        "        ### 현재 페이지의 html 불러오기\n",
        "        r = driver.page_source\n",
        "        page_html = BeautifulSoup(r, \"html.parser\")\n",
        "        content = page_html.find(\"div\", class_=\"article-board result-board m-tcol-c\").find('tbody')\n",
        "#         content = page_html.find_all(\"div\", class_=\"article-board m-tcol-c\")[1].find('tbody')\n",
        "        body = content.find_all(\"tr\")\n",
        "\n",
        "        ### 게시글 정보 저장하기\n",
        "        for x in body:\n",
        "            temp_dict={}\n",
        "            if x.find(\"div\", class_=\"board-number\") is not None:\n",
        "                temp_dict['no'] = x.find(\"div\", class_=\"board-number\").text.strip()\n",
        "                temp_dict['title'] = x.find(\"div\", class_=\"board-list\").text.strip().replace('  ','').replace('\\n','')\n",
        "                temp_dict['link'] = x.find('a').get('href')\n",
        "                temp_dict['name'] = x.find(\"td\", class_=\"td_name\").find('a',class_='m-tcol-c').text.strip()\n",
        "                temp_dict['date'] = x.find(\"td\", class_=\"td_date\").text.strip()\n",
        "                temp_dict['view'] = x.find(\"td\", class_=\"td_view\").text.strip()\n",
        "                address_list.append(temp_dict)\n",
        "        print(\"(현재시각) \"+str(datetime.datetime.now())+\": \"+ str(page) +\"page done\")\n",
        "\n",
        "        ### 다음 페이지로 넘어가기\n",
        "        page+=1\n",
        "        driver.implicitly_wait(1)\n",
        "        try:\n",
        "            if page<=2:   # 1~10 : 페이지 번호 그대로\n",
        "                page_xpath = str(page)\n",
        "                driver.find_element_by_xpath('//*[@id=\"main-area\"]/div[7]/a[' + page_xpath + ']').click()\n",
        "                address_df = pd.DataFrame(address_list)\n",
        "                address_df['idx_no'] = range(1,len(address_df)+1)   # 조인할 키 값\n",
        "                address_df.to_pickle(save_path+\"cafe_address_\"+cafe.get(\"name\")+\"_\"+keyword+\".pkl\")\n",
        "                print(\"(현재시각) \"+str(datetime.datetime.now())+\": done\")\n",
        "                \n",
        "            else : \n",
        "                break\n",
        "        except :\n",
        "            l=False\n",
        "\n",
        "                "
      ],
      "execution_count": null,
      "outputs": [
        {
          "name": "stdout",
          "output_type": "stream",
          "text": [
            "(현재시각) 2021-07-11 13:22:52.509805: 1page done\n",
            "(현재시각) 2021-07-11 13:22:52.927543: done\n",
            "(현재시각) 2021-07-11 13:22:53.046457: 2page done\n"
          ]
        }
      ]
    },
    {
      "cell_type": "code",
      "metadata": {
        "id": "dlqtF01kv7zO"
      },
      "source": [
        "import pickle\n",
        "from contextlib import suppress\n",
        "\n",
        "for keyword in cafe.get(\"keywords\"):\n",
        "    df = pickle.load(open(save_path+\"cafe_address_\"+cafe.get(\"name\")+\"_\"+keyword+\".pkl\", 'rb'))\n",
        "\n",
        "    i=0\n",
        "    contents_list = []   # 내용\n",
        "    reply_list = []      # 댓글\n",
        "    error_list = []      # 에러난 게시글\n",
        "\n",
        "    while True:\n",
        "\n",
        "        ### 수집 링크로 이동\n",
        "        url = \"https://cafe.naver.com\"+df.loc[i,'link']\n",
        "        idx_no = df.loc[i,'idx_no']    # 인덱스 번호\n",
        "        driver.get(url)\n",
        "        time.sleep( random.randint(2,5) )\n",
        "        try:\n",
        "            driver.switch_to.frame('cafe_main')\n",
        "            time.sleep( random.randint(2,5) )\n",
        "            r = driver.page_source\n",
        "            page_soup = BeautifulSoup(r, \"html.parser\")\n",
        "            content = page_soup.find('div', class_='ArticleContentBox')  \n",
        "\n",
        "            ### 게시글 수집\n",
        "            temp_dict={}\n",
        "            temp_dict['idx_no'] = idx_no\n",
        "            temp_dict['title'] = \"\"\n",
        "            with suppress(AttributeError):   # 제목 없는 게시글\n",
        "                temp_dict['title'] = content.find('h3',class_='title_text').text.strip()\n",
        "            temp_dict['content'] = content.find(\"div\", class_=\"article_viewer\").text.strip()\n",
        "            temp_dict['nick'] = content.find('div',class_='profile_info').find('a',class_='nickname').text.strip()\n",
        "            temp_dict['date'] = content.find('div',class_='article_info').find('span',class_='date').text.strip()\n",
        "            temp_dict['view'] = \"\"\n",
        "            with suppress(AttributeError):\n",
        "                temp_dict['view'] = content.find('div',class_='article_info').find('span',class_='count').text.strip()\n",
        "            contents_list.append(temp_dict)\n",
        "\n",
        "            ### 댓글 수집\n",
        "            if content.find(\"div\", class_=\"ReplyBox\") is not None:   # 댓글 기능이 아예 없음  \n",
        "                comment_num = content.find(\"div\", class_=\"ReplyBox\").find(\"a\",class_=\"button_comment\").find(\"strong\").text\n",
        "                if comment_num!='0':   # 댓글이 없음\n",
        "                    comment = content.find(\"div\", class_=\"CommentBox\").find(\"ul\",class_=\"comment_list\").select(\"li\")\n",
        "                    \n",
        "                    ### 댓글 구분\n",
        "                    com_n=0    # 댓글\n",
        "                    com_nn=0   # 대댓글\n",
        "                    \n",
        "                    for n in range(len(comment)):\n",
        "\n",
        "                        if comment[n].get('class')==['CommentItem']:    # 댓글\n",
        "                            com_n+=1; com_nn=0;\n",
        "                            com_thread = str(com_n)+\"-\"+str(com_nn)\n",
        "                            com_nn=1\n",
        "                        elif comment[n].get('class')==['CommentItem', 'CommentItem--reply']:    # 대댓글\n",
        "                            com_thread = str(com_n)+\"-\"+str(com_nn)\n",
        "                            com_nn+=1\n",
        "\n",
        "                        ### 댓글 내용 수집    \n",
        "                        if comment[n].text.strip() != '삭제된 댓글입니다.':\n",
        "                            com_nick = comment[n].find(\"a\",class_=\"comment_nickname\").text.strip()\n",
        "                            com_date = comment[n].find(\"span\",class_=\"comment_info_date\").text.strip()\n",
        "                            com_reply = comment[n].find(\"div\",class_=\"comment_text_box\").text.strip()\n",
        "                            reply_list.append({'idx_no':idx_no, 'nick':com_nick, 'date':com_date, 'reply':com_reply, \"thread\":com_thread})\n",
        "            i+=1\n",
        "\n",
        "        except:\n",
        "            i+=1\n",
        "            ### 게시글을 볼 등급이 안됨\n",
        "            if page_soup.find('strong', class_='emph') is not None:\n",
        "                error_list.append({\"error\" :  page_soup.find('strong', class_='emph').text+\"등급 필요\"\n",
        "                                   , \"url\" : url})\n",
        "                pass\n",
        "            ### 에러 따로 확인\n",
        "            else:\n",
        "                error_list.append({\"error\" : \"에러 확인 필요\"\n",
        "                                   , \"url\" : url})\n",
        "                pass\n",
        "\n",
        "        ### 수집한 글 갯수만큼 반복\n",
        "        if i == len(df):\n",
        "            contents_df = pd.DataFrame(contents_list)\n",
        "            contents_df.to_pickle(\"C:/Users/Family/Outlier_project/\"+cafe.get(\"name\")+\"_\"+keyword+\".pkl\")\n",
        "            reply_df = pd.DataFrame(reply_list)\n",
        "            reply_df.to_pickle(\"C:/Users/Family/Outlier_project/\"+cafe.get(\"name\")+\"_\"+keyword+\".pkl\")\n",
        "            print(\"(현재시각) \"+str(datetime.datetime.now())+\": done\")\n",
        "            break\n",
        "    \n",
        "# 크롬 종료 \n",
        "driver.quit()"
      ],
      "execution_count": null,
      "outputs": []
    },
    {
      "cell_type": "code",
      "metadata": {
        "id": "JRfrKEFfv7zP"
      },
      "source": [
        "# 수집한 데이터 : contents_df\n",
        "print(\"수집 데이터 : \", contents_df.shape)\n",
        "# 에러 난 게시글 : error_list\n",
        "print(\"에러 게시글 수 : \", len(error_list))"
      ],
      "execution_count": null,
      "outputs": []
    },
    {
      "cell_type": "code",
      "metadata": {
        "id": "gN_nn83fv7zP"
      },
      "source": [
        ""
      ],
      "execution_count": null,
      "outputs": []
    }
  ]
}