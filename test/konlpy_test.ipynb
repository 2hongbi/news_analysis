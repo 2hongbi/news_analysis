{
 "cells": [
  {
   "cell_type": "code",
   "execution_count": 2,
   "metadata": {
    "collapsed": true
   },
   "outputs": [],
   "source": [
    "# https://konlpy.org/ko/latest/morph/#comparison-between-pos-tagging-classes\n",
    "# Konlpy : 꼬꼬마, 한나눔 등의 엔진을 사용할 수 있게 해줌\n",
    "from konlpy.tag import Kkma\n",
    "kkma = Kkma()   # 꼬꼬마 사용"
   ]
  },
  {
   "cell_type": "code",
   "execution_count": 3,
   "outputs": [
    {
     "data": {
      "text/plain": "['한국어 분석을 시작합니다', '재미있어요~~']"
     },
     "execution_count": 3,
     "metadata": {},
     "output_type": "execute_result"
    }
   ],
   "source": [
    "# 문장 분석\n",
    "kkma.sentences('한국어 분석을 시작합니다 재미있어요~~')"
   ],
   "metadata": {
    "collapsed": false,
    "pycharm": {
     "name": "#%%\n"
    }
   }
  },
  {
   "cell_type": "code",
   "execution_count": 4,
   "outputs": [
    {
     "data": {
      "text/plain": "[('한국어', 'NNG'),\n ('분석', 'NNG'),\n ('을', 'JKO'),\n ('시작하', 'VV'),\n ('ㅂ니다', 'EFN'),\n ('재미있', 'VA'),\n ('어요', 'EFN'),\n ('~~', 'SW')]"
     },
     "execution_count": 4,
     "metadata": {},
     "output_type": "execute_result"
    }
   ],
   "source": [
    "# 명사 분석\n",
    "# 한글은 영어와 달리 단어의 형태 변화가 많아서 영어처럼 쉽게 접근하기 어려움\n",
    "kkma.pos('한국어 분석을 시작합니다 재미있어요~~')"
   ],
   "metadata": {
    "collapsed": false,
    "pycharm": {
     "name": "#%%\n"
    }
   }
  },
  {
   "cell_type": "code",
   "execution_count": 5,
   "outputs": [],
   "source": [
    "# 한나눔 사용\n",
    "from konlpy.tag import Hannanum\n",
    "hannanum = Hannanum()"
   ],
   "metadata": {
    "collapsed": false,
    "pycharm": {
     "name": "#%%\n"
    }
   }
  },
  {
   "cell_type": "code",
   "execution_count": 6,
   "outputs": [
    {
     "data": {
      "text/plain": "['한국어', '분석', '시작']"
     },
     "execution_count": 6,
     "metadata": {},
     "output_type": "execute_result"
    }
   ],
   "source": [
    "hannanum.nouns('한국어 분석을 시작합니다 재미있어요~~')"
   ],
   "metadata": {
    "collapsed": false,
    "pycharm": {
     "name": "#%%\n"
    }
   }
  },
  {
   "cell_type": "code",
   "execution_count": 7,
   "outputs": [
    {
     "data": {
      "text/plain": "['한국어', '분석', '을', '시작', '하', 'ㅂ니다', '재미있', '어요', '~~']"
     },
     "execution_count": 7,
     "metadata": {},
     "output_type": "execute_result"
    }
   ],
   "source": [
    "# 명사 분석\n",
    "hannanum.morphs('한국어 분석을 시작합니다 재미있어요~~')"
   ],
   "metadata": {
    "collapsed": false,
    "pycharm": {
     "name": "#%%\n"
    }
   }
  },
  {
   "cell_type": "code",
   "execution_count": 8,
   "outputs": [
    {
     "data": {
      "text/plain": "[('한국어', 'N'),\n ('분석', 'N'),\n ('을', 'J'),\n ('시작', 'N'),\n ('하', 'X'),\n ('ㅂ니다', 'E'),\n ('재미있', 'P'),\n ('어요', 'E'),\n ('~~', 'S')]"
     },
     "execution_count": 8,
     "metadata": {},
     "output_type": "execute_result"
    }
   ],
   "source": [
    "# 형태소 분석\n",
    "hannanum.pos('한국어 분석을 시작합니다 재미있어요~~')"
   ],
   "metadata": {
    "collapsed": false,
    "pycharm": {
     "name": "#%%\n"
    }
   }
  },
  {
   "cell_type": "code",
   "execution_count": 11,
   "outputs": [],
   "source": [
    "# Twitter has changed to OKT since KoNLPy v0.4.5.\n",
    "from konlpy.tag import Okt\n",
    "okt = Okt()"
   ],
   "metadata": {
    "collapsed": false,
    "pycharm": {
     "name": "#%%\n"
    }
   }
  },
  {
   "cell_type": "code",
   "execution_count": 10,
   "outputs": [
    {
     "data": {
      "text/plain": "['한국어', '분석', '시작']"
     },
     "execution_count": 10,
     "metadata": {},
     "output_type": "execute_result"
    }
   ],
   "source": [
    "okt.nouns('한국어 분석을 시작합니다 재미있어요~~')"
   ],
   "metadata": {
    "collapsed": false,
    "pycharm": {
     "name": "#%%\n"
    }
   }
  },
  {
   "cell_type": "code",
   "execution_count": 12,
   "outputs": [
    {
     "data": {
      "text/plain": "['한국어', '분석', '을', '시작', '합니다', '재미있어요', '~~']"
     },
     "execution_count": 12,
     "metadata": {},
     "output_type": "execute_result"
    }
   ],
   "source": [
    "okt.morphs('한국어 분석을 시작합니다 재미있어요~~')"
   ],
   "metadata": {
    "collapsed": false,
    "pycharm": {
     "name": "#%%\n"
    }
   }
  },
  {
   "cell_type": "code",
   "execution_count": 15,
   "outputs": [],
   "source": [
    "import nltk"
   ],
   "metadata": {
    "collapsed": false,
    "pycharm": {
     "name": "#%%\n"
    }
   }
  },
  {
   "cell_type": "code",
   "execution_count": 16,
   "outputs": [],
   "source": [
    "from konlpy.tag import Okt\n",
    "okt = Okt()"
   ],
   "metadata": {
    "collapsed": false,
    "pycharm": {
     "name": "#%%\n"
    }
   }
  },
  {
   "cell_type": "code",
   "execution_count": 28,
   "outputs": [
    {
     "data": {
      "text/plain": "                                                     내용\n0        무슬림이 늘어나면 범죄증가로 이어진다는 근거가 없다고? 한국에 없겠. 유럽 못봤나?\n1     정부 발표를 들으면 마치 우리가 어려울때 위험을 무릅쓰고 우리나라를 도와준 은인들에...\n2                               상상 속 공포? 유럽을 보고 말하는 건가?\n3     근데 나라 빛은 누가 갚아야 하나 돈은 문정부가 다썼는데 이거 책임 누가 져야하지?...\n4     닥쳐라!우리는 분단국가 휴전국이다 북한무너지면 책임질 북한난민들이 더많다  이슬람난...\n...                                                 ...\n1937           모든 무슬림이 테러리스트인건 아니지만 ᆢ왜인지 ᆢ테러리스트는 무슬림이더라\n1938                                         남한테 강요 하지마\n1939     선진국이다. 땅덩어리 드럽게 좁아서 집없는국민 천지 삐까리인 선진국.  뭐 어쩌라고\n1940                           세상은 당신같은사람들을 위선자라고하지요...\n1941              월세 사는 이가 상위12%라고 지원금도 못받는다. 선진국 좋아하시네\n\n[1942 rows x 1 columns]",
      "text/html": "<div>\n<style scoped>\n    .dataframe tbody tr th:only-of-type {\n        vertical-align: middle;\n    }\n\n    .dataframe tbody tr th {\n        vertical-align: top;\n    }\n\n    .dataframe thead th {\n        text-align: right;\n    }\n</style>\n<table border=\"1\" class=\"dataframe\">\n  <thead>\n    <tr style=\"text-align: right;\">\n      <th></th>\n      <th>내용</th>\n    </tr>\n  </thead>\n  <tbody>\n    <tr>\n      <th>0</th>\n      <td>무슬림이 늘어나면 범죄증가로 이어진다는 근거가 없다고? 한국에 없겠. 유럽 못봤나?</td>\n    </tr>\n    <tr>\n      <th>1</th>\n      <td>정부 발표를 들으면 마치 우리가 어려울때 위험을 무릅쓰고 우리나라를 도와준 은인들에...</td>\n    </tr>\n    <tr>\n      <th>2</th>\n      <td>상상 속 공포? 유럽을 보고 말하는 건가?</td>\n    </tr>\n    <tr>\n      <th>3</th>\n      <td>근데 나라 빛은 누가 갚아야 하나 돈은 문정부가 다썼는데 이거 책임 누가 져야하지?...</td>\n    </tr>\n    <tr>\n      <th>4</th>\n      <td>닥쳐라!우리는 분단국가 휴전국이다 북한무너지면 책임질 북한난민들이 더많다  이슬람난...</td>\n    </tr>\n    <tr>\n      <th>...</th>\n      <td>...</td>\n    </tr>\n    <tr>\n      <th>1937</th>\n      <td>모든 무슬림이 테러리스트인건 아니지만 ᆢ왜인지 ᆢ테러리스트는 무슬림이더라</td>\n    </tr>\n    <tr>\n      <th>1938</th>\n      <td>남한테 강요 하지마</td>\n    </tr>\n    <tr>\n      <th>1939</th>\n      <td>선진국이다. 땅덩어리 드럽게 좁아서 집없는국민 천지 삐까리인 선진국.  뭐 어쩌라고</td>\n    </tr>\n    <tr>\n      <th>1940</th>\n      <td>세상은 당신같은사람들을 위선자라고하지요...</td>\n    </tr>\n    <tr>\n      <th>1941</th>\n      <td>월세 사는 이가 상위12%라고 지원금도 못받는다. 선진국 좋아하시네</td>\n    </tr>\n  </tbody>\n</table>\n<p>1942 rows × 1 columns</p>\n</div>"
     },
     "execution_count": 28,
     "metadata": {},
     "output_type": "execute_result"
    }
   ],
   "source": [
    "# read csv\n",
    "import pandas as pd\n",
    "\n",
    "comments = pd.read_csv('./../data/comments.csv')\n",
    "comments"
   ],
   "metadata": {
    "collapsed": false,
    "pycharm": {
     "name": "#%%\n"
    }
   }
  },
  {
   "cell_type": "code",
   "execution_count": 29,
   "outputs": [],
   "source": [
    "import numpy as np\n",
    "\n",
    "# series를 list로 변환\n",
    "comments_list = np.array(comments['내용'].tolist())"
   ],
   "metadata": {
    "collapsed": false,
    "pycharm": {
     "name": "#%%\n"
    }
   }
  },
  {
   "cell_type": "code",
   "execution_count": 30,
   "outputs": [
    {
     "data": {
      "text/plain": "array(['무슬림이 늘어나면 범죄증가로 이어진다는 근거가 없다고? 한국에 없겠. 유럽 못봤나?',\n       '정부 발표를 들으면 마치 우리가 어려울때 위험을 무릅쓰고 우리나라를 도와준 은인들에게 보답을 하는 것처럼 하는데, 그건 아니라고 봅니다. 저들은 우리가 아프간 재건을 지원하기 위해 급여를 주고 고용했던 현지인이고 그덕에 가족을 부양해왔던 사람들입니다. 마치 6.25 참전으로 우리를 구해준 나라에게 보은하는것처럼 하는것은 잘못이라고 생각합니다. 난민으로서 도움은 주되 이것만은 분명하게 해놓자구요.',\n       '상상 속 공포? 유럽을 보고 말하는 건가?', ...,\n       '선진국이다. 땅덩어리 드럽게 좁아서 집없는국민 천지 삐까리인 선진국.  뭐 어쩌라고',\n       '세상은 당신같은사람들을 위선자라고하지요...',\n       '월세 사는 이가 상위12%라고 지원금도 못받는다. 선진국 좋아하시네'], dtype='<U300')"
     },
     "execution_count": 30,
     "metadata": {},
     "output_type": "execute_result"
    }
   ],
   "source": [
    "comments_list"
   ],
   "metadata": {
    "collapsed": false,
    "pycharm": {
     "name": "#%%\n"
    }
   }
  },
  {
   "cell_type": "code",
   "execution_count": 32,
   "outputs": [
    {
     "name": "stdout",
     "output_type": "stream",
     "text": [
      "1942\n"
     ]
    }
   ],
   "source": [
    "print(len(comments_list))"
   ],
   "metadata": {
    "collapsed": false,
    "pycharm": {
     "name": "#%%\n"
    }
   }
  },
  {
   "cell_type": "code",
   "execution_count": 33,
   "outputs": [],
   "source": [
    "from collections import Counter"
   ],
   "metadata": {
    "collapsed": false,
    "pycharm": {
     "name": "#%%\n"
    }
   }
  },
  {
   "cell_type": "code",
   "execution_count": 38,
   "outputs": [],
   "source": [
    "# 한글 명사 빈도 계산\n",
    "\n",
    "okt = Okt()"
   ],
   "metadata": {
    "collapsed": false,
    "pycharm": {
     "name": "#%%\n"
    }
   }
  },
  {
   "cell_type": "code",
   "execution_count": 37,
   "outputs": [],
   "source": [
    "import re\n",
    "\n",
    "#이모티콘 제거\n",
    "emoji_pattern = re.compile(\"[\"\n",
    "        u\"\\U0001F600-\\U0001F64F\"  # emoticons\n",
    "        u\"\\U0001F300-\\U0001F5FF\"  # symbols & pictographs\n",
    "        u\"\\U0001F680-\\U0001F6FF\"  # transport & map symbols\n",
    "        u\"\\U0001F1E0-\\U0001F1FF\"  # flags (iOS)\n",
    "                           \"]+\", flags=re.UNICODE)\n",
    "\n",
    "#분석에 어긋나는 불용어구 제외 (특수문자, 의성어)\n",
    "han = re.compile(r'[ㄱ-ㅎㅏ-ㅣ!?~,\".\\n\\r#\\ufeff\\u200d]')"
   ],
   "metadata": {
    "collapsed": false,
    "pycharm": {
     "name": "#%%\n"
    }
   }
  },
  {
   "cell_type": "code",
   "execution_count": 39,
   "outputs": [],
   "source": [
    "comments_list = comments_list.tolist()  # np.list to array"
   ],
   "metadata": {
    "collapsed": false,
    "pycharm": {
     "name": "#%%\n"
    }
   }
  },
  {
   "cell_type": "code",
   "execution_count": 40,
   "outputs": [],
   "source": [
    "comments_result = []\n",
    "\n",
    "for comment in comments_list:\n",
    "    tokens = re.sub(emoji_pattern, \"\", comment)\n",
    "    tokens = re.sub(han, \"\", tokens)\n",
    "    comments_result.append(tokens)\n",
    "\n",
    "comments_result = pd.DataFrame(comments_result, columns=['comment'])"
   ],
   "metadata": {
    "collapsed": false,
    "pycharm": {
     "name": "#%%\n"
    }
   }
  },
  {
   "cell_type": "code",
   "execution_count": 41,
   "outputs": [
    {
     "data": {
      "text/plain": "                                                comment\n0           무슬림이 늘어나면 범죄증가로 이어진다는 근거가 없다고 한국에 없겠 유럽 못봤나\n1     정부 발표를 들으면 마치 우리가 어려울때 위험을 무릅쓰고 우리나라를 도와준 은인들에...\n2                                 상상 속 공포 유럽을 보고 말하는 건가\n3     근데 나라 빛은 누가 갚아야 하나 돈은 문정부가 다썼는데 이거 책임 누가 져야하지 ...\n4     닥쳐라우리는 분단국가 휴전국이다 북한무너지면 책임질 북한난민들이 더많다  이슬람난민...\n...                                                 ...\n1937           모든 무슬림이 테러리스트인건 아니지만 ᆢ왜인지 ᆢ테러리스트는 무슬림이더라\n1938                                         남한테 강요 하지마\n1939       선진국이다 땅덩어리 드럽게 좁아서 집없는국민 천지 삐까리인 선진국  뭐 어쩌라고\n1940                              세상은 당신같은사람들을 위선자라고하지요\n1941               월세 사는 이가 상위12%라고 지원금도 못받는다 선진국 좋아하시네\n\n[1942 rows x 1 columns]",
      "text/html": "<div>\n<style scoped>\n    .dataframe tbody tr th:only-of-type {\n        vertical-align: middle;\n    }\n\n    .dataframe tbody tr th {\n        vertical-align: top;\n    }\n\n    .dataframe thead th {\n        text-align: right;\n    }\n</style>\n<table border=\"1\" class=\"dataframe\">\n  <thead>\n    <tr style=\"text-align: right;\">\n      <th></th>\n      <th>comment</th>\n    </tr>\n  </thead>\n  <tbody>\n    <tr>\n      <th>0</th>\n      <td>무슬림이 늘어나면 범죄증가로 이어진다는 근거가 없다고 한국에 없겠 유럽 못봤나</td>\n    </tr>\n    <tr>\n      <th>1</th>\n      <td>정부 발표를 들으면 마치 우리가 어려울때 위험을 무릅쓰고 우리나라를 도와준 은인들에...</td>\n    </tr>\n    <tr>\n      <th>2</th>\n      <td>상상 속 공포 유럽을 보고 말하는 건가</td>\n    </tr>\n    <tr>\n      <th>3</th>\n      <td>근데 나라 빛은 누가 갚아야 하나 돈은 문정부가 다썼는데 이거 책임 누가 져야하지 ...</td>\n    </tr>\n    <tr>\n      <th>4</th>\n      <td>닥쳐라우리는 분단국가 휴전국이다 북한무너지면 책임질 북한난민들이 더많다  이슬람난민...</td>\n    </tr>\n    <tr>\n      <th>...</th>\n      <td>...</td>\n    </tr>\n    <tr>\n      <th>1937</th>\n      <td>모든 무슬림이 테러리스트인건 아니지만 ᆢ왜인지 ᆢ테러리스트는 무슬림이더라</td>\n    </tr>\n    <tr>\n      <th>1938</th>\n      <td>남한테 강요 하지마</td>\n    </tr>\n    <tr>\n      <th>1939</th>\n      <td>선진국이다 땅덩어리 드럽게 좁아서 집없는국민 천지 삐까리인 선진국  뭐 어쩌라고</td>\n    </tr>\n    <tr>\n      <th>1940</th>\n      <td>세상은 당신같은사람들을 위선자라고하지요</td>\n    </tr>\n    <tr>\n      <th>1941</th>\n      <td>월세 사는 이가 상위12%라고 지원금도 못받는다 선진국 좋아하시네</td>\n    </tr>\n  </tbody>\n</table>\n<p>1942 rows × 1 columns</p>\n</div>"
     },
     "execution_count": 41,
     "metadata": {},
     "output_type": "execute_result"
    }
   ],
   "source": [
    "comments_result"
   ],
   "metadata": {
    "collapsed": false,
    "pycharm": {
     "name": "#%%\n"
    }
   }
  },
  {
   "cell_type": "code",
   "execution_count": 42,
   "outputs": [
    {
     "name": "stderr",
     "output_type": "stream",
     "text": [
      "[nltk_data] Downloading package punkt to\n",
      "[nltk_data]     C:\\Users\\foxgi\\AppData\\Roaming\\nltk_data...\n",
      "[nltk_data]   Unzipping tokenizers\\punkt.zip.\n"
     ]
    },
    {
     "data": {
      "text/plain": "True"
     },
     "execution_count": 42,
     "metadata": {},
     "output_type": "execute_result"
    }
   ],
   "source": [
    "import nltk\n",
    "nltk.download('punkt')"
   ],
   "metadata": {
    "collapsed": false,
    "pycharm": {
     "name": "#%%\n"
    }
   }
  },
  {
   "cell_type": "code",
   "execution_count": 43,
   "outputs": [],
   "source": [
    "stopwords = ['이', '있', '하', '것', '들', '그', '되', '수', '이', '보', '않', '없', '나', '사람', '주', '아니', '등', '같',\n",
    "             '우리', '때', '년', '가', '한', '지', '대하', '오', '말', '일', '그렇', '위하']"
   ],
   "metadata": {
    "collapsed": false,
    "pycharm": {
     "name": "#%%\n"
    }
   }
  },
  {
   "cell_type": "code",
   "execution_count": 44,
   "outputs": [
    {
     "name": "stdout",
     "output_type": "stream",
     "text": [
      "['comment']\n",
      "                                                comment        0\n",
      "0           무슬림이 늘어나면 범죄증가로 이어진다는 근거가 없다고 한국에 없겠 유럽 못봤나  comment\n",
      "1     정부 발표를 들으면 마치 우리가 어려울때 위험을 무릅쓰고 우리나라를 도와준 은인들에...  comment\n",
      "2                                 상상 속 공포 유럽을 보고 말하는 건가  comment\n",
      "3     근데 나라 빛은 누가 갚아야 하나 돈은 문정부가 다썼는데 이거 책임 누가 져야하지 ...  comment\n",
      "4     닥쳐라우리는 분단국가 휴전국이다 북한무너지면 책임질 북한난민들이 더많다  이슬람난민...  comment\n",
      "...                                                 ...      ...\n",
      "1937           모든 무슬림이 테러리스트인건 아니지만 ᆢ왜인지 ᆢ테러리스트는 무슬림이더라  comment\n",
      "1938                                         남한테 강요 하지마  comment\n",
      "1939       선진국이다 땅덩어리 드럽게 좁아서 집없는국민 천지 삐까리인 선진국  뭐 어쩌라고  comment\n",
      "1940                              세상은 당신같은사람들을 위선자라고하지요  comment\n",
      "1941               월세 사는 이가 상위12%라고 지원금도 못받는다 선진국 좋아하시네  comment\n",
      "\n",
      "[1942 rows x 2 columns]\n"
     ]
    }
   ],
   "source": [
    "for i, document in enumerate(comments_result):\n",
    "    clean_words = []\n",
    "    for word in nltk.tokenize.word_tokenize(document):\n",
    "        if word not in stopwords: # 불용어 제거\n",
    "            clean_words.append(word)\n",
    "    print(clean_words) #['스토리', '진짜', '노잼']\n",
    "    comments_result[i] = ' '.join(clean_words)\n",
    "print(comments_result)"
   ],
   "metadata": {
    "collapsed": false,
    "pycharm": {
     "name": "#%%\n"
    }
   }
  },
  {
   "cell_type": "code",
   "execution_count": 46,
   "outputs": [],
   "source": [
    "comments_result.to_csv('./../data/after.csv', 'w', encoding='utf-8-sig')"
   ],
   "metadata": {
    "collapsed": false,
    "pycharm": {
     "name": "#%%\n"
    }
   }
  }
 ],
 "metadata": {
  "kernelspec": {
   "name": "pycharm-291fac1e",
   "language": "python",
   "display_name": "PyCharm (crawl_news)"
  },
  "language_info": {
   "codemirror_mode": {
    "name": "ipython",
    "version": 2
   },
   "file_extension": ".py",
   "mimetype": "text/x-python",
   "name": "python",
   "nbconvert_exporter": "python",
   "pygments_lexer": "ipython2",
   "version": "2.7.6"
  }
 },
 "nbformat": 4,
 "nbformat_minor": 0
}