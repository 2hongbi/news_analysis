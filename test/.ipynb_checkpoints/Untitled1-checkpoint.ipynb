{
 "cells": [
  {
   "cell_type": "code",
   "execution_count": 4,
   "id": "460a8621",
   "metadata": {},
   "outputs": [],
   "source": [
    "import pandas as pd"
   ]
  },
  {
   "cell_type": "code",
   "execution_count": 7,
   "id": "554e77e3",
   "metadata": {
    "scrolled": true
   },
   "outputs": [],
   "source": [
    "lee = pd.read_csv('./../data/twitter/이재명.csv').shape\n",
    "yoon = pd.read_csv('./../data/twitter/윤석열.csv').shape\n",
    "ahn = pd.read_csv('./../data/twitter/안철수.csv').shape\n",
    "sim = pd.read_csv('./../data/twitter/심상정.csv').shape"
   ]
  },
  {
   "cell_type": "code",
   "execution_count": 9,
   "id": "d71cd420",
   "metadata": {
    "scrolled": true
   },
   "outputs": [
    {
     "data": {
      "text/plain": [
       "(59880, 4)"
      ]
     },
     "execution_count": 9,
     "metadata": {},
     "output_type": "execute_result"
    }
   ],
   "source": [
    "# 2021.11.10 부터 크롤링하여 가져온 결과\n",
    "\n",
    "lee"
   ]
  },
  {
   "cell_type": "code",
   "execution_count": 10,
   "id": "6b0dad87",
   "metadata": {
    "scrolled": true
   },
   "outputs": [
    {
     "data": {
      "text/plain": [
       "(27943, 4)"
      ]
     },
     "execution_count": 10,
     "metadata": {},
     "output_type": "execute_result"
    }
   ],
   "source": [
    "yoon"
   ]
  }
 ],
 "metadata": {
  "kernelspec": {
   "display_name": "PyCharm (Pandas01)",
   "language": "python",
   "name": "pycharm-eb5b415"
  },
  "language_info": {
   "codemirror_mode": {
    "name": "ipython",
    "version": 3
   },
   "file_extension": ".py",
   "mimetype": "text/x-python",
   "name": "python",
   "nbconvert_exporter": "python",
   "pygments_lexer": "ipython3",
   "version": "3.8.12"
  }
 },
 "nbformat": 4,
 "nbformat_minor": 5
}
