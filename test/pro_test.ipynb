{
 "cells": [
  {
   "cell_type": "code",
   "execution_count": 1,
   "metadata": {},
   "outputs": [],
   "source": [
    "from hanspell import spell_checker"
   ]
  },
  {
   "cell_type": "code",
   "execution_count": 2,
   "metadata": {
    "pycharm": {
     "name": "#%%\n"
    }
   },
   "outputs": [],
   "source": [
    "from src.data_utils import spell_checking"
   ]
  },
  {
   "cell_type": "code",
   "execution_count": 3,
   "metadata": {
    "pycharm": {
     "name": "#%%\n"
    }
   },
   "outputs": [
    {
     "name": "stdout",
     "output_type": "stream",
     "text": [
      "[ERROR] NO FOUND\n",
      "절대 안 되 결사 반 되 아프간 이슬람 절대 우리 땅에 못 들어와 우리 살 땅도 좁아 이것만은 안된다 이런 일 나면 코로 나고 나 불이고 데모 나간다\n"
     ]
    }
   ],
   "source": [
    "print(spell_checking('절대안되결사반되 아프칸이슬람 절대우리땅에못들어와 우리살땅도좁아 이것만은안된다 이런일나면 코로나고나불이고 데모나간다'))"
   ]
  },
  {
   "cell_type": "code",
   "execution_count": 4,
   "metadata": {},
   "outputs": [
    {
     "name": "stdout",
     "output_type": "stream",
     "text": [
      "[ERROR] NO FOUND\n",
      "여자 혐오 중의\n"
     ]
    }
   ],
   "source": [
    "print(spell_checking('여혐주의'))"
   ]
  }
 ],
 "metadata": {
  "kernelspec": {
   "display_name": "PyCharm (crawl_news)",
   "language": "python",
   "name": "pycharm-291fac1e"
  },
  "language_info": {
   "codemirror_mode": {
    "name": "ipython",
    "version": 3
   },
   "file_extension": ".py",
   "mimetype": "text/x-python",
   "name": "python",
   "nbconvert_exporter": "python",
   "pygments_lexer": "ipython3",
   "version": "3.8.11"
  }
 },
 "nbformat": 4,
 "nbformat_minor": 1
}