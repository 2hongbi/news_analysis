{
 "cells": [
  {
   "cell_type": "code",
   "execution_count": 1,
   "id": "a34516de",
   "metadata": {},
   "outputs": [],
   "source": [
    "import requests\n",
    "from bs4 import BeautifulSoup\n",
    "import re\n",
    "import pandas as pd"
   ]
  },
  {
   "cell_type": "code",
   "execution_count": 21,
   "id": "c8823007",
   "metadata": {},
   "outputs": [],
   "source": [
    "import codecs\n",
    "\n",
    "# 긍부정 라벨링하는 데이터\n",
    "\n",
    "positive = []\n",
    "negative = []\n",
    "pos_neg = []\n",
    "\n",
    "pos = codecs.open('./../data/words/positive_words_self.txt', 'rb', encoding='UTF-8')\n",
    "\n",
    "while True:\n",
    "    line = pos.readline()\n",
    "    line = line.replace('\\n', '')\n",
    "    positive.append(line)\n",
    "    pos_neg.append(line)\n",
    "\n",
    "    if not line:\n",
    "        break\n",
    "\n",
    "pos.close()\n",
    "\n",
    "\n",
    "neg = codecs.open('./../data/words/negative_words_self.txt', 'rb', encoding='UTF-8')\n",
    "\n",
    "while True:\n",
    "    line = neg.readline()\n",
    "    line = line.replace('\\n', '')\n",
    "    negative.append(line)\n",
    "    pos_neg.append(line)\n",
    "\n",
    "    if not line:\n",
    "        break\n",
    "\n",
    "neg.close()"
   ]
  },
  {
   "cell_type": "code",
   "execution_count": 19,
   "id": "0e9f8cb7",
   "metadata": {},
   "outputs": [],
   "source": [
    "import re\n",
    "\n",
    "def remove_tags(text):\n",
    "    # (), [] 및 사이 단어들 제거\n",
    "    pattern = '[\\(\\[].*?[\\)\\]]'\n",
    "    text = re.sub(pattern, repl='', string=text)\n",
    "    \n",
    "    # 특수문자들\n",
    "    pattern = '[-=+,#/\\?:^$.@*\\\"※~&ㆍ‥!』\\\\‘|\\(\\)\\[\\]\\<\\>`\\'…\\\"\\“”》]'\n",
    "    text = re.sub(pattern, repl='', string=text)\n",
    "    \n",
    "    # 공백 제거\n",
    "    # text = text.replace(\" \", \"\")\n",
    "\n",
    "    return text"
   ]
  },
  {
   "cell_type": "code",
   "execution_count": 22,
   "id": "71663ee9",
   "metadata": {},
   "outputs": [
    {
     "ename": "SyntaxError",
     "evalue": "invalid syntax (Temp/ipykernel_49512/3938386164.py, line 28)",
     "output_type": "error",
     "traceback": [
      "\u001b[1;36m  File \u001b[1;32m\"C:\\Users\\foxgi\\AppData\\Local\\Temp/ipykernel_49512/3938386164.py\"\u001b[1;36m, line \u001b[1;32m28\u001b[0m\n\u001b[1;33m    break if i > (len(positive)-2):\u001b[0m\n\u001b[1;37m          ^\u001b[0m\n\u001b[1;31mSyntaxError\u001b[0m\u001b[1;31m:\u001b[0m invalid syntax\n"
     ]
    }
   ],
   "source": [
    "# 이재명\n",
    "\n",
    "title_dic = {'title': [], 'label': []}\n",
    "\n",
    "url = 'https://search.naver.com/search.naver?&where=news&query=이재명&sm=tab_pge&sort=0&photo=0&field=0' \\\n",
    "      '&reporter_article=&pd=0&ds=&de=&docid=&nso=so:r,p:all,a:all&mynews=0&cluster_rank=23&start=1'\n",
    "\n",
    "req = requests.get(url)\n",
    "\n",
    "soup = BeautifulSoup(req.text, 'html.parser')\n",
    "\n",
    "titles = soup.select('a.news_tit')\n",
    "\n",
    "\n",
    "for idx, title in enumerate(titles):\n",
    "    title_txt = remove_tags(title.text)\n",
    "    print(title_txt)\n",
    "    title_dic.append(title_txt)\n",
    "    \n",
    "    for i in range(len(poseng)):\n",
    "        pos_flag = False\n",
    "        neg_flag = False\n",
    "        if i < (len(positive)-1): \n",
    "            print(title_data.find(posneg[i])) \n",
    "            if title_data.find(posneg[i]) != -1:\n",
    "                posflag = True \n",
    "                print(i, \"positive?\",\"테스트 : \",title_data.find(posneg[i]),\"비교단어 : \", posneg[i], \"인덱스 : \", i, title_data) \n",
    "                break\n",
    "                \n",
    "        if i > (len(positive)-2): \n",
    "            if title_data.find(posneg[i]) != -1: \n",
    "                negflag = True \n",
    "                print(i, \"negative?\",\"테스트 : \",title_data.find(posneg[i]),\"비교단어 : \", posneg[i], \"인덱스 : \", i, title_data) \n",
    "                break\n",
    "    if posflag == True: \n",
    "        label[idx] = 1  \n",
    "    elif negflag == True: \n",
    "        label[idx] = -1 \n",
    "        # print(\"negative\", j) \n",
    "    elif negflag == False and posflag == False: \n",
    "        label[idx] = 0 \n",
    "        # print(\"objective\", j) j = j + 1 \n",
    "        \n",
    "title_dic['label'] = label \n",
    "title_df = pd.DataFrame(title_dic)\n",
    "\n",
    "title_df\n",
    "    "
   ]
  }
 ],
 "metadata": {
  "kernelspec": {
   "display_name": "PyCharm (Pandas01)",
   "language": "python",
   "name": "pycharm-eb5b415"
  },
  "language_info": {
   "codemirror_mode": {
    "name": "ipython",
    "version": 3
   },
   "file_extension": ".py",
   "mimetype": "text/x-python",
   "name": "python",
   "nbconvert_exporter": "python",
   "pygments_lexer": "ipython3",
   "version": "3.8.12"
  }
 },
 "nbformat": 4,
 "nbformat_minor": 5
}
